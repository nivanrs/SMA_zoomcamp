{
 "cells": [
  {
   "cell_type": "code",
   "execution_count": 19,
   "id": "7350b735",
   "metadata": {},
   "outputs": [
    {
     "name": "stderr",
     "output_type": "stream",
     "text": [
      "\u001b[2mUsing Python 3.13.3 environment at: C:\\Users\\nramadha\\AppData\\Local\\anaconda3\\envs\\jupysql\u001b[0m\n",
      "\u001b[2mResolved \u001b[1m25 packages\u001b[0m \u001b[2min 5.40s\u001b[0m\u001b[0m\n",
      "   \u001b[36m\u001b[1mBuilding\u001b[0m\u001b[39m peewee\u001b[2m==3.18.1\u001b[0m\n",
      "\u001b[36m\u001b[1mDownloading\u001b[0m\u001b[39m curl-cffi \u001b[2m(1.4MiB)\u001b[0m\n",
      " \u001b[32m\u001b[1mDownloading\u001b[0m\u001b[39m curl-cffi\n",
      "      \u001b[32m\u001b[1mBuilt\u001b[0m\u001b[39m peewee\u001b[2m==3.18.1\u001b[0m\n",
      "\u001b[2mPrepared \u001b[1m7 packages\u001b[0m \u001b[2min 3.13s\u001b[0m\u001b[0m\n",
      "\u001b[2mInstalled \u001b[1m7 packages\u001b[0m \u001b[2min 54ms\u001b[0m\u001b[0m\n",
      " \u001b[32m+\u001b[39m \u001b[1mcurl-cffi\u001b[0m\u001b[2m==0.11.1\u001b[0m\n",
      " \u001b[32m+\u001b[39m \u001b[1mfrozendict\u001b[0m\u001b[2m==2.4.6\u001b[0m\n",
      " \u001b[32m+\u001b[39m \u001b[1mmultitasking\u001b[0m\u001b[2m==0.0.11\u001b[0m\n",
      " \u001b[32m+\u001b[39m \u001b[1mpeewee\u001b[0m\u001b[2m==3.18.1\u001b[0m\n",
      " \u001b[32m+\u001b[39m \u001b[1mprotobuf\u001b[0m\u001b[2m==6.31.1\u001b[0m\n",
      " \u001b[32m+\u001b[39m \u001b[1mwebsockets\u001b[0m\u001b[2m==15.0.1\u001b[0m\n",
      " \u001b[32m+\u001b[39m \u001b[1myfinance\u001b[0m\u001b[2m==0.2.61\u001b[0m\n"
     ]
    }
   ],
   "source": [
    "# Download beberapa req\n",
    "!uv pip install lxml yfinance"
   ]
  },
  {
   "cell_type": "code",
   "execution_count": null,
   "id": "1f0327a6",
   "metadata": {},
   "outputs": [
    {
     "name": "stdout",
     "output_type": "stream",
     "text": [
      "Year with highest number of additions: 2017\n",
      "Stocks in the index >20 years: 226\n"
     ]
    },
    {
     "name": "stderr",
     "output_type": "stream",
     "text": [
      "C:\\Users\\nramadha\\AppData\\Local\\Temp\\ipykernel_32960\\1112618456.py:9: SettingWithCopyWarning: \n",
      "A value is trying to be set on a copy of a slice from a DataFrame.\n",
      "Try using .loc[row_indexer,col_indexer] = value instead\n",
      "\n",
      "See the caveats in the documentation: https://pandas.pydata.org/pandas-docs/stable/user_guide/indexing.html#returning-a-view-versus-a-copy\n",
      "  sp500_df['Date added'] = pd.to_datetime(sp500_df['Date added'], errors='coerce')\n",
      "C:\\Users\\nramadha\\AppData\\Local\\Temp\\ipykernel_32960\\1112618456.py:10: SettingWithCopyWarning: \n",
      "A value is trying to be set on a copy of a slice from a DataFrame.\n",
      "Try using .loc[row_indexer,col_indexer] = value instead\n",
      "\n",
      "See the caveats in the documentation: https://pandas.pydata.org/pandas-docs/stable/user_guide/indexing.html#returning-a-view-versus-a-copy\n",
      "  sp500_df['Year added'] = sp500_df['Date added'].dt.year\n"
     ]
    }
   ],
   "source": [
    "import pandas as pd"
   ]
  },
  {
   "cell_type": "code",
   "execution_count": null,
   "id": "41f8e260",
   "metadata": {},
   "outputs": [
    {
     "data": {
      "application/vnd.microsoft.datawrangler.viewer.v0+json": {
       "columns": [
        {
         "name": "index",
         "rawType": "int64",
         "type": "integer"
        },
        {
         "name": "Symbol",
         "rawType": "object",
         "type": "string"
        },
        {
         "name": "Security",
         "rawType": "object",
         "type": "string"
        },
        {
         "name": "Date added",
         "rawType": "object",
         "type": "string"
        }
       ],
       "ref": "69fd8d21-8501-4806-9831-58da70798ff5",
       "rows": [
        [
         "0",
         "MMM",
         "3M",
         "1957-03-04"
        ],
        [
         "1",
         "AOS",
         "A. O. Smith",
         "2017-07-26"
        ],
        [
         "2",
         "ABT",
         "Abbott Laboratories",
         "1957-03-04"
        ],
        [
         "3",
         "ABBV",
         "AbbVie",
         "2012-12-31"
        ],
        [
         "4",
         "ACN",
         "Accenture",
         "2011-07-06"
        ],
        [
         "5",
         "ADBE",
         "Adobe Inc.",
         "1997-05-05"
        ],
        [
         "6",
         "AMD",
         "Advanced Micro Devices",
         "2017-03-20"
        ],
        [
         "7",
         "AES",
         "AES Corporation",
         "1998-10-02"
        ],
        [
         "8",
         "AFL",
         "Aflac",
         "1999-05-28"
        ],
        [
         "9",
         "A",
         "Agilent Technologies",
         "2000-06-05"
        ],
        [
         "10",
         "APD",
         "Air Products",
         "1985-04-30"
        ],
        [
         "11",
         "ABNB",
         "Airbnb",
         "2023-09-18"
        ],
        [
         "12",
         "AKAM",
         "Akamai Technologies",
         "2007-07-12"
        ],
        [
         "13",
         "ALB",
         "Albemarle Corporation",
         "2016-07-01"
        ],
        [
         "14",
         "ARE",
         "Alexandria Real Estate Equities",
         "2017-03-20"
        ],
        [
         "15",
         "ALGN",
         "Align Technology",
         "2017-06-19"
        ],
        [
         "16",
         "ALLE",
         "Allegion",
         "2013-12-02"
        ],
        [
         "17",
         "LNT",
         "Alliant Energy",
         "2016-07-01"
        ],
        [
         "18",
         "ALL",
         "Allstate",
         "1995-07-13"
        ],
        [
         "19",
         "GOOGL",
         "Alphabet Inc. (Class A)",
         "2014-04-03"
        ],
        [
         "20",
         "GOOG",
         "Alphabet Inc. (Class C)",
         "2006-04-03"
        ],
        [
         "21",
         "MO",
         "Altria",
         "1957-03-04"
        ],
        [
         "22",
         "AMZN",
         "Amazon",
         "2005-11-18"
        ],
        [
         "23",
         "AMCR",
         "Amcor",
         "2019-06-07"
        ],
        [
         "24",
         "AEE",
         "Ameren",
         "1991-09-19"
        ],
        [
         "25",
         "AEP",
         "American Electric Power",
         "1957-03-04"
        ],
        [
         "26",
         "AXP",
         "American Express",
         "1976-06-30"
        ],
        [
         "27",
         "AIG",
         "American International Group",
         "1980-03-31"
        ],
        [
         "28",
         "AMT",
         "American Tower",
         "2007-11-19"
        ],
        [
         "29",
         "AWK",
         "American Water Works",
         "2016-03-04"
        ],
        [
         "30",
         "AMP",
         "Ameriprise Financial",
         "2005-10-03"
        ],
        [
         "31",
         "AME",
         "Ametek",
         "2013-09-23"
        ],
        [
         "32",
         "AMGN",
         "Amgen",
         "1992-01-02"
        ],
        [
         "33",
         "APH",
         "Amphenol",
         "2008-09-30"
        ],
        [
         "34",
         "ADI",
         "Analog Devices",
         "1999-10-12"
        ],
        [
         "35",
         "ANSS",
         "Ansys",
         "2017-06-19"
        ],
        [
         "36",
         "AON",
         "Aon plc",
         "1996-04-23"
        ],
        [
         "37",
         "APA",
         "APA Corporation",
         "1997-07-28"
        ],
        [
         "38",
         "APO",
         "Apollo Global Management",
         "2024-12-23"
        ],
        [
         "39",
         "AAPL",
         "Apple Inc.",
         "1982-11-30"
        ],
        [
         "40",
         "AMAT",
         "Applied Materials",
         "1995-03-16"
        ],
        [
         "41",
         "APTV",
         "Aptiv",
         "2012-12-24"
        ],
        [
         "42",
         "ACGL",
         "Arch Capital Group",
         "2022-11-01"
        ],
        [
         "43",
         "ADM",
         "Archer Daniels Midland",
         "1957-03-04"
        ],
        [
         "44",
         "ANET",
         "Arista Networks",
         "2018-08-28"
        ],
        [
         "45",
         "AJG",
         "Arthur J. Gallagher & Co.",
         "2016-05-31"
        ],
        [
         "46",
         "AIZ",
         "Assurant",
         "2007-04-10"
        ],
        [
         "47",
         "T",
         "AT&T",
         "1983-11-30"
        ],
        [
         "48",
         "ATO",
         "Atmos Energy",
         "2019-02-15"
        ],
        [
         "49",
         "ADSK",
         "Autodesk",
         "1989-12-01"
        ]
       ],
       "shape": {
        "columns": 3,
        "rows": 503
       }
      },
      "text/html": [
       "<div>\n",
       "<style scoped>\n",
       "    .dataframe tbody tr th:only-of-type {\n",
       "        vertical-align: middle;\n",
       "    }\n",
       "\n",
       "    .dataframe tbody tr th {\n",
       "        vertical-align: top;\n",
       "    }\n",
       "\n",
       "    .dataframe thead th {\n",
       "        text-align: right;\n",
       "    }\n",
       "</style>\n",
       "<table border=\"1\" class=\"dataframe\">\n",
       "  <thead>\n",
       "    <tr style=\"text-align: right;\">\n",
       "      <th></th>\n",
       "      <th>Symbol</th>\n",
       "      <th>Security</th>\n",
       "      <th>Date added</th>\n",
       "    </tr>\n",
       "  </thead>\n",
       "  <tbody>\n",
       "    <tr>\n",
       "      <th>0</th>\n",
       "      <td>MMM</td>\n",
       "      <td>3M</td>\n",
       "      <td>1957-03-04</td>\n",
       "    </tr>\n",
       "    <tr>\n",
       "      <th>1</th>\n",
       "      <td>AOS</td>\n",
       "      <td>A. O. Smith</td>\n",
       "      <td>2017-07-26</td>\n",
       "    </tr>\n",
       "    <tr>\n",
       "      <th>2</th>\n",
       "      <td>ABT</td>\n",
       "      <td>Abbott Laboratories</td>\n",
       "      <td>1957-03-04</td>\n",
       "    </tr>\n",
       "    <tr>\n",
       "      <th>3</th>\n",
       "      <td>ABBV</td>\n",
       "      <td>AbbVie</td>\n",
       "      <td>2012-12-31</td>\n",
       "    </tr>\n",
       "    <tr>\n",
       "      <th>4</th>\n",
       "      <td>ACN</td>\n",
       "      <td>Accenture</td>\n",
       "      <td>2011-07-06</td>\n",
       "    </tr>\n",
       "    <tr>\n",
       "      <th>...</th>\n",
       "      <td>...</td>\n",
       "      <td>...</td>\n",
       "      <td>...</td>\n",
       "    </tr>\n",
       "    <tr>\n",
       "      <th>498</th>\n",
       "      <td>XYL</td>\n",
       "      <td>Xylem Inc.</td>\n",
       "      <td>2011-11-01</td>\n",
       "    </tr>\n",
       "    <tr>\n",
       "      <th>499</th>\n",
       "      <td>YUM</td>\n",
       "      <td>Yum! Brands</td>\n",
       "      <td>1997-10-06</td>\n",
       "    </tr>\n",
       "    <tr>\n",
       "      <th>500</th>\n",
       "      <td>ZBRA</td>\n",
       "      <td>Zebra Technologies</td>\n",
       "      <td>2019-12-23</td>\n",
       "    </tr>\n",
       "    <tr>\n",
       "      <th>501</th>\n",
       "      <td>ZBH</td>\n",
       "      <td>Zimmer Biomet</td>\n",
       "      <td>2001-08-07</td>\n",
       "    </tr>\n",
       "    <tr>\n",
       "      <th>502</th>\n",
       "      <td>ZTS</td>\n",
       "      <td>Zoetis</td>\n",
       "      <td>2013-06-21</td>\n",
       "    </tr>\n",
       "  </tbody>\n",
       "</table>\n",
       "<p>503 rows × 3 columns</p>\n",
       "</div>"
      ],
      "text/plain": [
       "    Symbol             Security  Date added\n",
       "0      MMM                   3M  1957-03-04\n",
       "1      AOS          A. O. Smith  2017-07-26\n",
       "2      ABT  Abbott Laboratories  1957-03-04\n",
       "3     ABBV               AbbVie  2012-12-31\n",
       "4      ACN            Accenture  2011-07-06\n",
       "..     ...                  ...         ...\n",
       "498    XYL           Xylem Inc.  2011-11-01\n",
       "499    YUM          Yum! Brands  1997-10-06\n",
       "500   ZBRA   Zebra Technologies  2019-12-23\n",
       "501    ZBH        Zimmer Biomet  2001-08-07\n",
       "502    ZTS               Zoetis  2013-06-21\n",
       "\n",
       "[503 rows x 3 columns]"
      ]
     },
     "execution_count": 7,
     "metadata": {},
     "output_type": "execute_result"
    }
   ],
   "source": [
    "# Load data from Wikipedia\n",
    "url = \"https://en.wikipedia.org/wiki/List_of_S%26P_500_companies\"\n",
    "tables = pd.read_html(url)\n",
    "sp500_df = tables[0][['Symbol', 'Security', 'Date added']]\n",
    "sp500_df"
   ]
  },
  {
   "cell_type": "code",
   "execution_count": 9,
   "id": "5afcf94c",
   "metadata": {},
   "outputs": [
    {
     "name": "stderr",
     "output_type": "stream",
     "text": [
      "C:\\Users\\nramadha\\AppData\\Local\\Temp\\ipykernel_32960\\182313854.py:2: SettingWithCopyWarning: \n",
      "A value is trying to be set on a copy of a slice from a DataFrame.\n",
      "Try using .loc[row_indexer,col_indexer] = value instead\n",
      "\n",
      "See the caveats in the documentation: https://pandas.pydata.org/pandas-docs/stable/user_guide/indexing.html#returning-a-view-versus-a-copy\n",
      "  sp500_df['Date added'] = pd.to_datetime(sp500_df['Date added'], errors='coerce')\n",
      "C:\\Users\\nramadha\\AppData\\Local\\Temp\\ipykernel_32960\\182313854.py:3: SettingWithCopyWarning: \n",
      "A value is trying to be set on a copy of a slice from a DataFrame.\n",
      "Try using .loc[row_indexer,col_indexer] = value instead\n",
      "\n",
      "See the caveats in the documentation: https://pandas.pydata.org/pandas-docs/stable/user_guide/indexing.html#returning-a-view-versus-a-copy\n",
      "  sp500_df['Year added'] = sp500_df['Date added'].dt.year\n"
     ]
    },
    {
     "data": {
      "application/vnd.microsoft.datawrangler.viewer.v0+json": {
       "columns": [
        {
         "name": "index",
         "rawType": "int64",
         "type": "integer"
        },
        {
         "name": "Symbol",
         "rawType": "object",
         "type": "string"
        },
        {
         "name": "Security",
         "rawType": "object",
         "type": "string"
        },
        {
         "name": "Date added",
         "rawType": "datetime64[ns]",
         "type": "datetime"
        },
        {
         "name": "Year added",
         "rawType": "int32",
         "type": "integer"
        }
       ],
       "ref": "5ddae12f-4a8c-4449-b870-dde27bceaff3",
       "rows": [
        [
         "0",
         "MMM",
         "3M",
         "1957-03-04 00:00:00",
         "1957"
        ],
        [
         "1",
         "AOS",
         "A. O. Smith",
         "2017-07-26 00:00:00",
         "2017"
        ],
        [
         "2",
         "ABT",
         "Abbott Laboratories",
         "1957-03-04 00:00:00",
         "1957"
        ],
        [
         "3",
         "ABBV",
         "AbbVie",
         "2012-12-31 00:00:00",
         "2012"
        ],
        [
         "4",
         "ACN",
         "Accenture",
         "2011-07-06 00:00:00",
         "2011"
        ],
        [
         "5",
         "ADBE",
         "Adobe Inc.",
         "1997-05-05 00:00:00",
         "1997"
        ],
        [
         "6",
         "AMD",
         "Advanced Micro Devices",
         "2017-03-20 00:00:00",
         "2017"
        ],
        [
         "7",
         "AES",
         "AES Corporation",
         "1998-10-02 00:00:00",
         "1998"
        ],
        [
         "8",
         "AFL",
         "Aflac",
         "1999-05-28 00:00:00",
         "1999"
        ],
        [
         "9",
         "A",
         "Agilent Technologies",
         "2000-06-05 00:00:00",
         "2000"
        ],
        [
         "10",
         "APD",
         "Air Products",
         "1985-04-30 00:00:00",
         "1985"
        ],
        [
         "11",
         "ABNB",
         "Airbnb",
         "2023-09-18 00:00:00",
         "2023"
        ],
        [
         "12",
         "AKAM",
         "Akamai Technologies",
         "2007-07-12 00:00:00",
         "2007"
        ],
        [
         "13",
         "ALB",
         "Albemarle Corporation",
         "2016-07-01 00:00:00",
         "2016"
        ],
        [
         "14",
         "ARE",
         "Alexandria Real Estate Equities",
         "2017-03-20 00:00:00",
         "2017"
        ],
        [
         "15",
         "ALGN",
         "Align Technology",
         "2017-06-19 00:00:00",
         "2017"
        ],
        [
         "16",
         "ALLE",
         "Allegion",
         "2013-12-02 00:00:00",
         "2013"
        ],
        [
         "17",
         "LNT",
         "Alliant Energy",
         "2016-07-01 00:00:00",
         "2016"
        ],
        [
         "18",
         "ALL",
         "Allstate",
         "1995-07-13 00:00:00",
         "1995"
        ],
        [
         "19",
         "GOOGL",
         "Alphabet Inc. (Class A)",
         "2014-04-03 00:00:00",
         "2014"
        ],
        [
         "20",
         "GOOG",
         "Alphabet Inc. (Class C)",
         "2006-04-03 00:00:00",
         "2006"
        ],
        [
         "21",
         "MO",
         "Altria",
         "1957-03-04 00:00:00",
         "1957"
        ],
        [
         "22",
         "AMZN",
         "Amazon",
         "2005-11-18 00:00:00",
         "2005"
        ],
        [
         "23",
         "AMCR",
         "Amcor",
         "2019-06-07 00:00:00",
         "2019"
        ],
        [
         "24",
         "AEE",
         "Ameren",
         "1991-09-19 00:00:00",
         "1991"
        ],
        [
         "25",
         "AEP",
         "American Electric Power",
         "1957-03-04 00:00:00",
         "1957"
        ],
        [
         "26",
         "AXP",
         "American Express",
         "1976-06-30 00:00:00",
         "1976"
        ],
        [
         "27",
         "AIG",
         "American International Group",
         "1980-03-31 00:00:00",
         "1980"
        ],
        [
         "28",
         "AMT",
         "American Tower",
         "2007-11-19 00:00:00",
         "2007"
        ],
        [
         "29",
         "AWK",
         "American Water Works",
         "2016-03-04 00:00:00",
         "2016"
        ],
        [
         "30",
         "AMP",
         "Ameriprise Financial",
         "2005-10-03 00:00:00",
         "2005"
        ],
        [
         "31",
         "AME",
         "Ametek",
         "2013-09-23 00:00:00",
         "2013"
        ],
        [
         "32",
         "AMGN",
         "Amgen",
         "1992-01-02 00:00:00",
         "1992"
        ],
        [
         "33",
         "APH",
         "Amphenol",
         "2008-09-30 00:00:00",
         "2008"
        ],
        [
         "34",
         "ADI",
         "Analog Devices",
         "1999-10-12 00:00:00",
         "1999"
        ],
        [
         "35",
         "ANSS",
         "Ansys",
         "2017-06-19 00:00:00",
         "2017"
        ],
        [
         "36",
         "AON",
         "Aon plc",
         "1996-04-23 00:00:00",
         "1996"
        ],
        [
         "37",
         "APA",
         "APA Corporation",
         "1997-07-28 00:00:00",
         "1997"
        ],
        [
         "38",
         "APO",
         "Apollo Global Management",
         "2024-12-23 00:00:00",
         "2024"
        ],
        [
         "39",
         "AAPL",
         "Apple Inc.",
         "1982-11-30 00:00:00",
         "1982"
        ],
        [
         "40",
         "AMAT",
         "Applied Materials",
         "1995-03-16 00:00:00",
         "1995"
        ],
        [
         "41",
         "APTV",
         "Aptiv",
         "2012-12-24 00:00:00",
         "2012"
        ],
        [
         "42",
         "ACGL",
         "Arch Capital Group",
         "2022-11-01 00:00:00",
         "2022"
        ],
        [
         "43",
         "ADM",
         "Archer Daniels Midland",
         "1957-03-04 00:00:00",
         "1957"
        ],
        [
         "44",
         "ANET",
         "Arista Networks",
         "2018-08-28 00:00:00",
         "2018"
        ],
        [
         "45",
         "AJG",
         "Arthur J. Gallagher & Co.",
         "2016-05-31 00:00:00",
         "2016"
        ],
        [
         "46",
         "AIZ",
         "Assurant",
         "2007-04-10 00:00:00",
         "2007"
        ],
        [
         "47",
         "T",
         "AT&T",
         "1983-11-30 00:00:00",
         "1983"
        ],
        [
         "48",
         "ATO",
         "Atmos Energy",
         "2019-02-15 00:00:00",
         "2019"
        ],
        [
         "49",
         "ADSK",
         "Autodesk",
         "1989-12-01 00:00:00",
         "1989"
        ]
       ],
       "shape": {
        "columns": 4,
        "rows": 503
       }
      },
      "text/html": [
       "<div>\n",
       "<style scoped>\n",
       "    .dataframe tbody tr th:only-of-type {\n",
       "        vertical-align: middle;\n",
       "    }\n",
       "\n",
       "    .dataframe tbody tr th {\n",
       "        vertical-align: top;\n",
       "    }\n",
       "\n",
       "    .dataframe thead th {\n",
       "        text-align: right;\n",
       "    }\n",
       "</style>\n",
       "<table border=\"1\" class=\"dataframe\">\n",
       "  <thead>\n",
       "    <tr style=\"text-align: right;\">\n",
       "      <th></th>\n",
       "      <th>Symbol</th>\n",
       "      <th>Security</th>\n",
       "      <th>Date added</th>\n",
       "      <th>Year added</th>\n",
       "    </tr>\n",
       "  </thead>\n",
       "  <tbody>\n",
       "    <tr>\n",
       "      <th>0</th>\n",
       "      <td>MMM</td>\n",
       "      <td>3M</td>\n",
       "      <td>1957-03-04</td>\n",
       "      <td>1957</td>\n",
       "    </tr>\n",
       "    <tr>\n",
       "      <th>1</th>\n",
       "      <td>AOS</td>\n",
       "      <td>A. O. Smith</td>\n",
       "      <td>2017-07-26</td>\n",
       "      <td>2017</td>\n",
       "    </tr>\n",
       "    <tr>\n",
       "      <th>2</th>\n",
       "      <td>ABT</td>\n",
       "      <td>Abbott Laboratories</td>\n",
       "      <td>1957-03-04</td>\n",
       "      <td>1957</td>\n",
       "    </tr>\n",
       "    <tr>\n",
       "      <th>3</th>\n",
       "      <td>ABBV</td>\n",
       "      <td>AbbVie</td>\n",
       "      <td>2012-12-31</td>\n",
       "      <td>2012</td>\n",
       "    </tr>\n",
       "    <tr>\n",
       "      <th>4</th>\n",
       "      <td>ACN</td>\n",
       "      <td>Accenture</td>\n",
       "      <td>2011-07-06</td>\n",
       "      <td>2011</td>\n",
       "    </tr>\n",
       "    <tr>\n",
       "      <th>...</th>\n",
       "      <td>...</td>\n",
       "      <td>...</td>\n",
       "      <td>...</td>\n",
       "      <td>...</td>\n",
       "    </tr>\n",
       "    <tr>\n",
       "      <th>498</th>\n",
       "      <td>XYL</td>\n",
       "      <td>Xylem Inc.</td>\n",
       "      <td>2011-11-01</td>\n",
       "      <td>2011</td>\n",
       "    </tr>\n",
       "    <tr>\n",
       "      <th>499</th>\n",
       "      <td>YUM</td>\n",
       "      <td>Yum! Brands</td>\n",
       "      <td>1997-10-06</td>\n",
       "      <td>1997</td>\n",
       "    </tr>\n",
       "    <tr>\n",
       "      <th>500</th>\n",
       "      <td>ZBRA</td>\n",
       "      <td>Zebra Technologies</td>\n",
       "      <td>2019-12-23</td>\n",
       "      <td>2019</td>\n",
       "    </tr>\n",
       "    <tr>\n",
       "      <th>501</th>\n",
       "      <td>ZBH</td>\n",
       "      <td>Zimmer Biomet</td>\n",
       "      <td>2001-08-07</td>\n",
       "      <td>2001</td>\n",
       "    </tr>\n",
       "    <tr>\n",
       "      <th>502</th>\n",
       "      <td>ZTS</td>\n",
       "      <td>Zoetis</td>\n",
       "      <td>2013-06-21</td>\n",
       "      <td>2013</td>\n",
       "    </tr>\n",
       "  </tbody>\n",
       "</table>\n",
       "<p>503 rows × 4 columns</p>\n",
       "</div>"
      ],
      "text/plain": [
       "    Symbol             Security Date added  Year added\n",
       "0      MMM                   3M 1957-03-04        1957\n",
       "1      AOS          A. O. Smith 2017-07-26        2017\n",
       "2      ABT  Abbott Laboratories 1957-03-04        1957\n",
       "3     ABBV               AbbVie 2012-12-31        2012\n",
       "4      ACN            Accenture 2011-07-06        2011\n",
       "..     ...                  ...        ...         ...\n",
       "498    XYL           Xylem Inc. 2011-11-01        2011\n",
       "499    YUM          Yum! Brands 1997-10-06        1997\n",
       "500   ZBRA   Zebra Technologies 2019-12-23        2019\n",
       "501    ZBH        Zimmer Biomet 2001-08-07        2001\n",
       "502    ZTS               Zoetis 2013-06-21        2013\n",
       "\n",
       "[503 rows x 4 columns]"
      ]
     },
     "execution_count": 9,
     "metadata": {},
     "output_type": "execute_result"
    }
   ],
   "source": [
    "# Convert dates and extract year\n",
    "sp500_df['Date added'] = pd.to_datetime(sp500_df['Date added'], errors='coerce')\n",
    "sp500_df['Year added'] = sp500_df['Date added'].dt.year\n",
    "sp500_df"
   ]
  },
  {
   "cell_type": "code",
   "execution_count": 13,
   "id": "94c9405e",
   "metadata": {},
   "outputs": [
    {
     "data": {
      "application/vnd.microsoft.datawrangler.viewer.v0+json": {
       "columns": [
        {
         "name": "Year added",
         "rawType": "int32",
         "type": "integer"
        },
        {
         "name": "count",
         "rawType": "int64",
         "type": "integer"
        }
       ],
       "ref": "b6b81483-1e12-4d21-ae1f-676d998ddd79",
       "rows": [
        [
         "2017",
         "23"
        ],
        [
         "2016",
         "23"
        ],
        [
         "2019",
         "22"
        ],
        [
         "2008",
         "17"
        ],
        [
         "2024",
         "16"
        ],
        [
         "2022",
         "16"
        ],
        [
         "2021",
         "15"
        ],
        [
         "2023",
         "15"
        ],
        [
         "2018",
         "14"
        ],
        [
         "2015",
         "14"
        ],
        [
         "1997",
         "14"
        ],
        [
         "2012",
         "14"
        ],
        [
         "2002",
         "13"
        ],
        [
         "2007",
         "12"
        ],
        [
         "2020",
         "12"
        ],
        [
         "2009",
         "12"
        ],
        [
         "1976",
         "11"
        ],
        [
         "1998",
         "11"
        ],
        [
         "2006",
         "10"
        ],
        [
         "2011",
         "10"
        ],
        [
         "2013",
         "10"
        ],
        [
         "2010",
         "9"
        ],
        [
         "1999",
         "9"
        ],
        [
         "2000",
         "9"
        ],
        [
         "2001",
         "8"
        ],
        [
         "2014",
         "8"
        ],
        [
         "1985",
         "7"
        ],
        [
         "1994",
         "7"
        ],
        [
         "1995",
         "7"
        ],
        [
         "2005",
         "7"
        ],
        [
         "2004",
         "6"
        ],
        [
         "1989",
         "5"
        ],
        [
         "2025",
         "5"
        ],
        [
         "1982",
         "5"
        ],
        [
         "2003",
         "5"
        ],
        [
         "1984",
         "5"
        ],
        [
         "1988",
         "4"
        ],
        [
         "1993",
         "3"
        ],
        [
         "1980",
         "3"
        ],
        [
         "1992",
         "3"
        ],
        [
         "1986",
         "3"
        ],
        [
         "1983",
         "3"
        ],
        [
         "1981",
         "3"
        ],
        [
         "1996",
         "2"
        ],
        [
         "1973",
         "2"
        ],
        [
         "1987",
         "2"
        ],
        [
         "1972",
         "2"
        ],
        [
         "1969",
         "2"
        ],
        [
         "1979",
         "2"
        ],
        [
         "1965",
         "2"
        ]
       ],
       "shape": {
        "columns": 1,
        "rows": 56
       }
      },
      "text/plain": [
       "Year added\n",
       "2017    23\n",
       "2016    23\n",
       "2019    22\n",
       "2008    17\n",
       "2024    16\n",
       "2022    16\n",
       "2021    15\n",
       "2023    15\n",
       "2018    14\n",
       "2015    14\n",
       "1997    14\n",
       "2012    14\n",
       "2002    13\n",
       "2007    12\n",
       "2020    12\n",
       "2009    12\n",
       "1976    11\n",
       "1998    11\n",
       "2006    10\n",
       "2011    10\n",
       "2013    10\n",
       "2010     9\n",
       "1999     9\n",
       "2000     9\n",
       "2001     8\n",
       "2014     8\n",
       "1985     7\n",
       "1994     7\n",
       "1995     7\n",
       "2005     7\n",
       "2004     6\n",
       "1989     5\n",
       "2025     5\n",
       "1982     5\n",
       "2003     5\n",
       "1984     5\n",
       "1988     4\n",
       "1993     3\n",
       "1980     3\n",
       "1992     3\n",
       "1986     3\n",
       "1983     3\n",
       "1981     3\n",
       "1996     2\n",
       "1973     2\n",
       "1987     2\n",
       "1972     2\n",
       "1969     2\n",
       "1979     2\n",
       "1965     2\n",
       "1975     2\n",
       "1970     2\n",
       "1991     1\n",
       "1974     1\n",
       "1964     1\n",
       "1978     1\n",
       "Name: count, dtype: int64"
      ]
     },
     "execution_count": 13,
     "metadata": {},
     "output_type": "execute_result"
    }
   ],
   "source": [
    "\n",
    "# Exclude 1957 (index founding year)\n",
    "stocks_per_year = sp500_df[sp500_df['Year added'] != 1957]['Year added'].value_counts()\n",
    "stocks_per_year\n"
   ]
  },
  {
   "cell_type": "code",
   "execution_count": 16,
   "id": "c0412a2d",
   "metadata": {},
   "outputs": [
    {
     "data": {
      "text/plain": [
       "np.int32(2017)"
      ]
     },
     "execution_count": 16,
     "metadata": {},
     "output_type": "execute_result"
    }
   ],
   "source": [
    "\n",
    "highest_year = stocks_per_year.idxmax()\n",
    "highest_year"
   ]
  },
  {
   "cell_type": "code",
   "execution_count": 15,
   "id": "a750eea1",
   "metadata": {},
   "outputs": [
    {
     "name": "stdout",
     "output_type": "stream",
     "text": [
      "Year with highest number of additions: 2017\n",
      "Stocks in the index >20 years: 226\n"
     ]
    }
   ],
   "source": [
    "\n",
    "# Calculate number of stocks added more than 20 years ago\n",
    "current_year = pd.Timestamp.now().year\n",
    "stocks_20_years = sp500_df[sp500_df['Year added'] <= (current_year - 20)].shape[0]\n",
    "\n",
    "print(\"Year with highest number of additions:\", highest_year)\n",
    "print(\"Stocks in the index >20 years:\", stocks_20_years)\n"
   ]
  },
  {
   "cell_type": "code",
   "execution_count": null,
   "id": "89922221",
   "metadata": {},
   "outputs": [],
   "source": [
    "# No 2"
   ]
  },
  {
   "cell_type": "code",
   "execution_count": 2,
   "id": "494d8dd8",
   "metadata": {},
   "outputs": [],
   "source": [
    "import yfinance as yf\n",
    "import pandas as pd\n"
   ]
  },
  {
   "cell_type": "code",
   "execution_count": 39,
   "id": "c04f26b0",
   "metadata": {},
   "outputs": [],
   "source": [
    "# Index symbols (adding indonesia for bonus)\n",
    "indices = {\n",
    "'United States (S&P 500)': '^GSPC',\n",
    "'China (Shanghai Composite)': '000001.SS',\n",
    "'Hong Kong (Hang Seng)': '^HSI',\n",
    "'Australia (S&P/ASX 200)': '^AXJO',\n",
    "'India (Nifty 50)': '^NSEI',\n",
    "'Canada (S&P/TSX)': '^GSPTSE',\n",
    "'Germany (DAX)': '^GDAXI',\n",
    "'United Kingdom (FTSE 100)': '^FTSE',\n",
    "'Japan (Nikkei 225)': '^N225',\n",
    "'Mexico (IPC Mexico)': '^MXX',\n",
    "'Brazil (Ibovespa)': '^BVSP',\n",
    "'Indonesia (JKSE)': '^JKSE'    }"
   ]
  },
  {
   "cell_type": "code",
   "execution_count": 42,
   "id": "12fce2cc",
   "metadata": {},
   "outputs": [],
   "source": [
    "# Date range\n",
    "start_date = '2025-01-01'\n",
    "end_date = '2025-05-02' # Adjusted to include 1 may 2025\n",
    "ytd_returns = {}"
   ]
  },
  {
   "cell_type": "code",
   "execution_count": 62,
   "id": "190d5ae2",
   "metadata": {},
   "outputs": [],
   "source": [
    "# Helper to compute returns between two dates\n",
    "def price_return(series):\n",
    "    \"\"\"Percent return from first to last non‑NaN in the series.\"\"\"\n",
    "    first = series.loc[series.first_valid_index()]\n",
    "    last = series.loc[series.last_valid_index()]\n",
    "    return (last / first - 1) * 100\n",
    "# --------------------- DOWNLOAD DAILY DATA ---------------------\n",
    "all_data = yf.download(list(indices.values()), start='2014-05-01', end=end_date,\n",
    "                       auto_adjust=True, progress=False)['Close'].ffill().bfill()\n",
    "returns = {}"
   ]
  },
  {
   "cell_type": "code",
   "execution_count": 63,
   "id": "042a5a5a",
   "metadata": {},
   "outputs": [
    {
     "name": "stdout",
     "output_type": "stream",
     "text": [
      "Summary Returns (%):\n",
      "                             YTD %   3y %    5y %   10y %\n",
      "Mexico (IPC Mexico)         13.62   8.43   54.26   26.19\n",
      "Germany (DAX)               13.00  61.40  107.12   96.41\n",
      "Brazil (Ibovespa)           12.29  26.66   67.77  140.21\n",
      "Hong Kong (Hang Seng)       10.27   4.88  -10.24  -21.38\n",
      "United Kingdom (FTSE 100)    3.96  12.62   47.43   21.63\n",
      "India (Nifty 50)             2.49  42.56  146.80  197.43\n",
      "Canada (S&P/TSX)             0.27  19.83   69.60   61.64\n",
      "Australia (S&P/ASX 200)     -0.17  10.87   55.28   40.09\n",
      "China (Shanghai Composite)  -2.17   7.61   14.65  -26.18\n",
      "Indonesia (JKSE)            -4.42  -6.39   43.47   33.04\n",
      "United States (S&P 500)     -4.72  34.86   97.98  165.81\n",
      "Japan (Nikkei 225)          -8.63  35.92   85.80   86.63 \n",
      "\n",
      "Indices beating S&P 500 — YTD: 10, 3y: 3, 5y: 2, 10y: 1\n"
     ]
    }
   ],
   "source": [
    "for label, ticker in indices.items():\n",
    "    s = all_data[ticker]\n",
    "\n",
    "    # YTD (1 Jan – 1 May 2025)\n",
    "    ytd_slice = s.loc[start_date:'2025-05-01']\n",
    "    returns.setdefault('YTD %', {})[label] = price_return(ytd_slice)\n",
    "\n",
    "    # 3‑year (1 May 2022 – 1 May 2025)\n",
    "    returns.setdefault('3y %', {})[label] = price_return(s.loc['2022-05-01':'2025-05-01'])\n",
    "\n",
    "    # 5‑year (1 May 2020 – 1 May 2025)\n",
    "    returns.setdefault('5y %', {})[label] = price_return(s.loc['2020-05-01':'2025-05-01'])\n",
    "\n",
    "    # 10‑year (1 May 2015 – 1 May 2025)\n",
    "    returns.setdefault('10y %', {})[label] = price_return(s.loc['2015-05-01':'2025-05-01'])\n",
    "\n",
    "# --------------------- BUILD SUMMARY TABLE ---------------------\n",
    "summary_df = (\n",
    "    pd.DataFrame(returns)\n",
    "      .round(2)\n",
    "      .sort_values('YTD %', ascending=False)\n",
    ")\n",
    "\n",
    "# Count how many beat the S&P 500\n",
    "sp_ytd = summary_df.loc['United States (S&P 500)', 'YTD %']\n",
    "beat_ytd = (summary_df['YTD %'] > sp_ytd).sum()\n",
    "\n",
    "beat_3y = (summary_df['3y %'] > summary_df.loc['United States (S&P 500)', '3y %']).sum()\n",
    "beat_5y = (summary_df['5y %'] > summary_df.loc['United States (S&P 500)', '5y %']).sum()\n",
    "beat_10y = (summary_df['10y %'] > summary_df.loc['United States (S&P 500)', '10y %']).sum()\n",
    "\n",
    "print(\"Summary Returns (%):\\n\", summary_df, \"\\n\")\n",
    "print(f\"Indices beating S&P 500 — YTD: {beat_ytd}, 3y: {beat_3y}, 5y: {beat_5y}, 10y: {beat_10y}\")\n"
   ]
  },
  {
   "cell_type": "code",
   "execution_count": null,
   "id": "138dbeeb",
   "metadata": {},
   "outputs": [
    {
     "name": "stderr",
     "output_type": "stream",
     "text": [
      "[*********************100%***********************]  1 of 1 completed\n"
     ]
    },
    {
     "data": {
      "application/vnd.microsoft.datawrangler.viewer.v0+json": {
       "columns": [
        {
         "name": "Date",
         "rawType": "datetime64[ns]",
         "type": "datetime"
        },
        {
         "name": "Close",
         "rawType": "float64",
         "type": "float"
        },
        {
         "name": "High",
         "rawType": "float64",
         "type": "float"
        },
        {
         "name": "Low",
         "rawType": "float64",
         "type": "float"
        },
        {
         "name": "Open",
         "rawType": "float64",
         "type": "float"
        },
        {
         "name": "Volume",
         "rawType": "int64",
         "type": "integer"
        }
       ],
       "ref": "43fe68b6-2132-4454-9649-fbaac7d0c986",
       "rows": [
        [
         "1950-01-03 00:00:00",
         "16.65999984741211",
         "16.65999984741211",
         "16.65999984741211",
         "16.65999984741211",
         "1260000"
        ],
        [
         "1950-01-04 00:00:00",
         "16.850000381469727",
         "16.850000381469727",
         "16.850000381469727",
         "16.850000381469727",
         "1890000"
        ],
        [
         "1950-01-05 00:00:00",
         "16.93000030517578",
         "16.93000030517578",
         "16.93000030517578",
         "16.93000030517578",
         "2550000"
        ],
        [
         "1950-01-06 00:00:00",
         "16.979999542236328",
         "16.979999542236328",
         "16.979999542236328",
         "16.979999542236328",
         "2010000"
        ],
        [
         "1950-01-09 00:00:00",
         "17.079999923706055",
         "17.079999923706055",
         "17.079999923706055",
         "17.079999923706055",
         "2520000"
        ],
        [
         "1950-01-10 00:00:00",
         "17.030000686645508",
         "17.030000686645508",
         "17.030000686645508",
         "17.030000686645508",
         "2160000"
        ],
        [
         "1950-01-11 00:00:00",
         "17.09000015258789",
         "17.09000015258789",
         "17.09000015258789",
         "17.09000015258789",
         "2630000"
        ],
        [
         "1950-01-12 00:00:00",
         "16.760000228881836",
         "16.760000228881836",
         "16.760000228881836",
         "16.760000228881836",
         "2970000"
        ],
        [
         "1950-01-13 00:00:00",
         "16.670000076293945",
         "16.670000076293945",
         "16.670000076293945",
         "16.670000076293945",
         "3330000"
        ],
        [
         "1950-01-16 00:00:00",
         "16.719999313354492",
         "16.719999313354492",
         "16.719999313354492",
         "16.719999313354492",
         "1460000"
        ],
        [
         "1950-01-17 00:00:00",
         "16.860000610351562",
         "16.860000610351562",
         "16.860000610351562",
         "16.860000610351562",
         "1790000"
        ],
        [
         "1950-01-18 00:00:00",
         "16.850000381469727",
         "16.850000381469727",
         "16.850000381469727",
         "16.850000381469727",
         "1570000"
        ],
        [
         "1950-01-19 00:00:00",
         "16.8700008392334",
         "16.8700008392334",
         "16.8700008392334",
         "16.8700008392334",
         "1170000"
        ],
        [
         "1950-01-20 00:00:00",
         "16.899999618530273",
         "16.899999618530273",
         "16.899999618530273",
         "16.899999618530273",
         "1440000"
        ],
        [
         "1950-01-23 00:00:00",
         "16.920000076293945",
         "16.920000076293945",
         "16.920000076293945",
         "16.920000076293945",
         "1340000"
        ],
        [
         "1950-01-24 00:00:00",
         "16.860000610351562",
         "16.860000610351562",
         "16.860000610351562",
         "16.860000610351562",
         "1250000"
        ],
        [
         "1950-01-25 00:00:00",
         "16.739999771118164",
         "16.739999771118164",
         "16.739999771118164",
         "16.739999771118164",
         "1700000"
        ],
        [
         "1950-01-26 00:00:00",
         "16.729999542236328",
         "16.729999542236328",
         "16.729999542236328",
         "16.729999542236328",
         "1150000"
        ],
        [
         "1950-01-27 00:00:00",
         "16.81999969482422",
         "16.81999969482422",
         "16.81999969482422",
         "16.81999969482422",
         "1250000"
        ],
        [
         "1950-01-30 00:00:00",
         "17.020000457763672",
         "17.020000457763672",
         "17.020000457763672",
         "17.020000457763672",
         "1640000"
        ],
        [
         "1950-01-31 00:00:00",
         "17.049999237060547",
         "17.049999237060547",
         "17.049999237060547",
         "17.049999237060547",
         "1690000"
        ],
        [
         "1950-02-01 00:00:00",
         "17.049999237060547",
         "17.049999237060547",
         "17.049999237060547",
         "17.049999237060547",
         "1810000"
        ],
        [
         "1950-02-02 00:00:00",
         "17.229999542236328",
         "17.229999542236328",
         "17.229999542236328",
         "17.229999542236328",
         "2040000"
        ],
        [
         "1950-02-03 00:00:00",
         "17.290000915527344",
         "17.290000915527344",
         "17.290000915527344",
         "17.290000915527344",
         "2210000"
        ],
        [
         "1950-02-06 00:00:00",
         "17.31999969482422",
         "17.31999969482422",
         "17.31999969482422",
         "17.31999969482422",
         "1490000"
        ],
        [
         "1950-02-07 00:00:00",
         "17.229999542236328",
         "17.229999542236328",
         "17.229999542236328",
         "17.229999542236328",
         "1360000"
        ],
        [
         "1950-02-08 00:00:00",
         "17.209999084472656",
         "17.209999084472656",
         "17.209999084472656",
         "17.209999084472656",
         "1470000"
        ],
        [
         "1950-02-09 00:00:00",
         "17.280000686645508",
         "17.280000686645508",
         "17.280000686645508",
         "17.280000686645508",
         "1810000"
        ],
        [
         "1950-02-10 00:00:00",
         "17.239999771118164",
         "17.239999771118164",
         "17.239999771118164",
         "17.239999771118164",
         "1790000"
        ],
        [
         "1950-02-14 00:00:00",
         "17.059999465942383",
         "17.059999465942383",
         "17.059999465942383",
         "17.059999465942383",
         "2210000"
        ],
        [
         "1950-02-15 00:00:00",
         "17.059999465942383",
         "17.059999465942383",
         "17.059999465942383",
         "17.059999465942383",
         "1730000"
        ],
        [
         "1950-02-16 00:00:00",
         "16.989999771118164",
         "16.989999771118164",
         "16.989999771118164",
         "16.989999771118164",
         "1920000"
        ],
        [
         "1950-02-17 00:00:00",
         "17.149999618530273",
         "17.149999618530273",
         "17.149999618530273",
         "17.149999618530273",
         "1940000"
        ],
        [
         "1950-02-20 00:00:00",
         "17.200000762939453",
         "17.200000762939453",
         "17.200000762939453",
         "17.200000762939453",
         "1420000"
        ],
        [
         "1950-02-21 00:00:00",
         "17.170000076293945",
         "17.170000076293945",
         "17.170000076293945",
         "17.170000076293945",
         "1260000"
        ],
        [
         "1950-02-23 00:00:00",
         "17.209999084472656",
         "17.209999084472656",
         "17.209999084472656",
         "17.209999084472656",
         "1310000"
        ],
        [
         "1950-02-24 00:00:00",
         "17.280000686645508",
         "17.280000686645508",
         "17.280000686645508",
         "17.280000686645508",
         "1710000"
        ],
        [
         "1950-02-27 00:00:00",
         "17.280000686645508",
         "17.280000686645508",
         "17.280000686645508",
         "17.280000686645508",
         "1410000"
        ],
        [
         "1950-02-28 00:00:00",
         "17.219999313354492",
         "17.219999313354492",
         "17.219999313354492",
         "17.219999313354492",
         "1310000"
        ],
        [
         "1950-03-01 00:00:00",
         "17.239999771118164",
         "17.239999771118164",
         "17.239999771118164",
         "17.239999771118164",
         "1410000"
        ],
        [
         "1950-03-02 00:00:00",
         "17.229999542236328",
         "17.229999542236328",
         "17.229999542236328",
         "17.229999542236328",
         "1340000"
        ],
        [
         "1950-03-03 00:00:00",
         "17.290000915527344",
         "17.290000915527344",
         "17.290000915527344",
         "17.290000915527344",
         "1520000"
        ],
        [
         "1950-03-06 00:00:00",
         "17.31999969482422",
         "17.31999969482422",
         "17.31999969482422",
         "17.31999969482422",
         "1470000"
        ],
        [
         "1950-03-07 00:00:00",
         "17.200000762939453",
         "17.200000762939453",
         "17.200000762939453",
         "17.200000762939453",
         "1590000"
        ],
        [
         "1950-03-08 00:00:00",
         "17.190000534057617",
         "17.190000534057617",
         "17.190000534057617",
         "17.190000534057617",
         "1360000"
        ],
        [
         "1950-03-09 00:00:00",
         "17.06999969482422",
         "17.06999969482422",
         "17.06999969482422",
         "17.06999969482422",
         "1330000"
        ],
        [
         "1950-03-10 00:00:00",
         "17.09000015258789",
         "17.09000015258789",
         "17.09000015258789",
         "17.09000015258789",
         "1260000"
        ],
        [
         "1950-03-13 00:00:00",
         "17.1200008392334",
         "17.1200008392334",
         "17.1200008392334",
         "17.1200008392334",
         "1060000"
        ],
        [
         "1950-03-14 00:00:00",
         "17.25",
         "17.25",
         "17.25",
         "17.25",
         "1140000"
        ],
        [
         "1950-03-15 00:00:00",
         "17.450000762939453",
         "17.450000762939453",
         "17.450000762939453",
         "17.450000762939453",
         "1830000"
        ]
       ],
       "shape": {
        "columns": 5,
        "rows": 18973
       }
      },
      "text/html": [
       "<div>\n",
       "<style scoped>\n",
       "    .dataframe tbody tr th:only-of-type {\n",
       "        vertical-align: middle;\n",
       "    }\n",
       "\n",
       "    .dataframe tbody tr th {\n",
       "        vertical-align: top;\n",
       "    }\n",
       "\n",
       "    .dataframe thead th {\n",
       "        text-align: right;\n",
       "    }\n",
       "</style>\n",
       "<table border=\"1\" class=\"dataframe\">\n",
       "  <thead>\n",
       "    <tr style=\"text-align: right;\">\n",
       "      <th>Price</th>\n",
       "      <th>Close</th>\n",
       "      <th>High</th>\n",
       "      <th>Low</th>\n",
       "      <th>Open</th>\n",
       "      <th>Volume</th>\n",
       "    </tr>\n",
       "    <tr>\n",
       "      <th>Date</th>\n",
       "      <th></th>\n",
       "      <th></th>\n",
       "      <th></th>\n",
       "      <th></th>\n",
       "      <th></th>\n",
       "    </tr>\n",
       "  </thead>\n",
       "  <tbody>\n",
       "    <tr>\n",
       "      <th>1950-01-03</th>\n",
       "      <td>16.660000</td>\n",
       "      <td>16.660000</td>\n",
       "      <td>16.660000</td>\n",
       "      <td>16.660000</td>\n",
       "      <td>1260000</td>\n",
       "    </tr>\n",
       "    <tr>\n",
       "      <th>1950-01-04</th>\n",
       "      <td>16.850000</td>\n",
       "      <td>16.850000</td>\n",
       "      <td>16.850000</td>\n",
       "      <td>16.850000</td>\n",
       "      <td>1890000</td>\n",
       "    </tr>\n",
       "    <tr>\n",
       "      <th>1950-01-05</th>\n",
       "      <td>16.930000</td>\n",
       "      <td>16.930000</td>\n",
       "      <td>16.930000</td>\n",
       "      <td>16.930000</td>\n",
       "      <td>2550000</td>\n",
       "    </tr>\n",
       "    <tr>\n",
       "      <th>1950-01-06</th>\n",
       "      <td>16.980000</td>\n",
       "      <td>16.980000</td>\n",
       "      <td>16.980000</td>\n",
       "      <td>16.980000</td>\n",
       "      <td>2010000</td>\n",
       "    </tr>\n",
       "    <tr>\n",
       "      <th>1950-01-09</th>\n",
       "      <td>17.080000</td>\n",
       "      <td>17.080000</td>\n",
       "      <td>17.080000</td>\n",
       "      <td>17.080000</td>\n",
       "      <td>2520000</td>\n",
       "    </tr>\n",
       "    <tr>\n",
       "      <th>...</th>\n",
       "      <td>...</td>\n",
       "      <td>...</td>\n",
       "      <td>...</td>\n",
       "      <td>...</td>\n",
       "      <td>...</td>\n",
       "    </tr>\n",
       "    <tr>\n",
       "      <th>2025-05-23</th>\n",
       "      <td>5802.819824</td>\n",
       "      <td>5829.509766</td>\n",
       "      <td>5767.410156</td>\n",
       "      <td>5781.890137</td>\n",
       "      <td>4662820000</td>\n",
       "    </tr>\n",
       "    <tr>\n",
       "      <th>2025-05-27</th>\n",
       "      <td>5921.540039</td>\n",
       "      <td>5924.330078</td>\n",
       "      <td>5854.069824</td>\n",
       "      <td>5854.069824</td>\n",
       "      <td>5366380000</td>\n",
       "    </tr>\n",
       "    <tr>\n",
       "      <th>2025-05-28</th>\n",
       "      <td>5888.549805</td>\n",
       "      <td>5939.919922</td>\n",
       "      <td>5881.879883</td>\n",
       "      <td>5925.540039</td>\n",
       "      <td>4665050000</td>\n",
       "    </tr>\n",
       "    <tr>\n",
       "      <th>2025-05-29</th>\n",
       "      <td>5912.169922</td>\n",
       "      <td>5943.129883</td>\n",
       "      <td>5873.799805</td>\n",
       "      <td>5939.959961</td>\n",
       "      <td>4569750000</td>\n",
       "    </tr>\n",
       "    <tr>\n",
       "      <th>2025-05-30</th>\n",
       "      <td>5911.689941</td>\n",
       "      <td>5922.140137</td>\n",
       "      <td>5843.660156</td>\n",
       "      <td>5903.669922</td>\n",
       "      <td>6378540000</td>\n",
       "    </tr>\n",
       "  </tbody>\n",
       "</table>\n",
       "<p>18973 rows × 5 columns</p>\n",
       "</div>"
      ],
      "text/plain": [
       "Price             Close         High          Low         Open      Volume\n",
       "Date                                                                      \n",
       "1950-01-03    16.660000    16.660000    16.660000    16.660000     1260000\n",
       "1950-01-04    16.850000    16.850000    16.850000    16.850000     1890000\n",
       "1950-01-05    16.930000    16.930000    16.930000    16.930000     2550000\n",
       "1950-01-06    16.980000    16.980000    16.980000    16.980000     2010000\n",
       "1950-01-09    17.080000    17.080000    17.080000    17.080000     2520000\n",
       "...                 ...          ...          ...          ...         ...\n",
       "2025-05-23  5802.819824  5829.509766  5767.410156  5781.890137  4662820000\n",
       "2025-05-27  5921.540039  5924.330078  5854.069824  5854.069824  5366380000\n",
       "2025-05-28  5888.549805  5939.919922  5881.879883  5925.540039  4665050000\n",
       "2025-05-29  5912.169922  5943.129883  5873.799805  5939.959961  4569750000\n",
       "2025-05-30  5911.689941  5922.140137  5843.660156  5903.669922  6378540000\n",
       "\n",
       "[18973 rows x 5 columns]"
      ]
     },
     "execution_count": 68,
     "metadata": {},
     "output_type": "execute_result"
    }
   ],
   "source": [
    "# question 3\n",
    "# Download S&P 500 historical data (1950-present) using yfinance\n",
    "import yfinance as yf\n",
    "import pandas as pd\n",
    "import numpy as np\n",
    "from datetime import datetime\n",
    "\n",
    "# Download S&P 500 historical data from 1950 to present\n",
    "sp500 = yf.download('^GSPC', start='1950-01-01', end='2025-06-02')\n",
    "\n",
    "# Clean and prepare the data\n",
    "df = sp500.copy()\n",
    "df = df.droplevel(1, axis=1)  # Remove ticker level from columns\n",
    "df\n"
   ]
  },
  {
   "cell_type": "code",
   "execution_count": null,
   "id": "bbc36e09",
   "metadata": {},
   "outputs": [
    {
     "data": {
      "application/vnd.microsoft.datawrangler.viewer.v0+json": {
       "columns": [
        {
         "name": "Date",
         "rawType": "datetime64[ns]",
         "type": "datetime"
        },
        {
         "name": "Close",
         "rawType": "float64",
         "type": "float"
        },
        {
         "name": "High",
         "rawType": "float64",
         "type": "float"
        },
        {
         "name": "Low",
         "rawType": "float64",
         "type": "float"
        },
        {
         "name": "Open",
         "rawType": "float64",
         "type": "float"
        },
        {
         "name": "Volume",
         "rawType": "int64",
         "type": "integer"
        },
        {
         "name": "All_Time_High",
         "rawType": "float64",
         "type": "float"
        }
       ],
       "ref": "a1e327f7-6912-47fc-ace7-13a5d994a71f",
       "rows": [
        [
         "1950-01-03 00:00:00",
         "16.65999984741211",
         "16.65999984741211",
         "16.65999984741211",
         "16.65999984741211",
         "1260000",
         "16.65999984741211"
        ],
        [
         "1950-01-04 00:00:00",
         "16.850000381469727",
         "16.850000381469727",
         "16.850000381469727",
         "16.850000381469727",
         "1890000",
         "16.850000381469727"
        ],
        [
         "1950-01-05 00:00:00",
         "16.93000030517578",
         "16.93000030517578",
         "16.93000030517578",
         "16.93000030517578",
         "2550000",
         "16.93000030517578"
        ],
        [
         "1950-01-06 00:00:00",
         "16.979999542236328",
         "16.979999542236328",
         "16.979999542236328",
         "16.979999542236328",
         "2010000",
         "16.979999542236328"
        ],
        [
         "1950-01-09 00:00:00",
         "17.079999923706055",
         "17.079999923706055",
         "17.079999923706055",
         "17.079999923706055",
         "2520000",
         "17.079999923706055"
        ],
        [
         "1950-01-10 00:00:00",
         "17.030000686645508",
         "17.030000686645508",
         "17.030000686645508",
         "17.030000686645508",
         "2160000",
         "17.079999923706055"
        ],
        [
         "1950-01-11 00:00:00",
         "17.09000015258789",
         "17.09000015258789",
         "17.09000015258789",
         "17.09000015258789",
         "2630000",
         "17.09000015258789"
        ],
        [
         "1950-01-12 00:00:00",
         "16.760000228881836",
         "16.760000228881836",
         "16.760000228881836",
         "16.760000228881836",
         "2970000",
         "17.09000015258789"
        ],
        [
         "1950-01-13 00:00:00",
         "16.670000076293945",
         "16.670000076293945",
         "16.670000076293945",
         "16.670000076293945",
         "3330000",
         "17.09000015258789"
        ],
        [
         "1950-01-16 00:00:00",
         "16.719999313354492",
         "16.719999313354492",
         "16.719999313354492",
         "16.719999313354492",
         "1460000",
         "17.09000015258789"
        ],
        [
         "1950-01-17 00:00:00",
         "16.860000610351562",
         "16.860000610351562",
         "16.860000610351562",
         "16.860000610351562",
         "1790000",
         "17.09000015258789"
        ],
        [
         "1950-01-18 00:00:00",
         "16.850000381469727",
         "16.850000381469727",
         "16.850000381469727",
         "16.850000381469727",
         "1570000",
         "17.09000015258789"
        ],
        [
         "1950-01-19 00:00:00",
         "16.8700008392334",
         "16.8700008392334",
         "16.8700008392334",
         "16.8700008392334",
         "1170000",
         "17.09000015258789"
        ],
        [
         "1950-01-20 00:00:00",
         "16.899999618530273",
         "16.899999618530273",
         "16.899999618530273",
         "16.899999618530273",
         "1440000",
         "17.09000015258789"
        ],
        [
         "1950-01-23 00:00:00",
         "16.920000076293945",
         "16.920000076293945",
         "16.920000076293945",
         "16.920000076293945",
         "1340000",
         "17.09000015258789"
        ],
        [
         "1950-01-24 00:00:00",
         "16.860000610351562",
         "16.860000610351562",
         "16.860000610351562",
         "16.860000610351562",
         "1250000",
         "17.09000015258789"
        ],
        [
         "1950-01-25 00:00:00",
         "16.739999771118164",
         "16.739999771118164",
         "16.739999771118164",
         "16.739999771118164",
         "1700000",
         "17.09000015258789"
        ],
        [
         "1950-01-26 00:00:00",
         "16.729999542236328",
         "16.729999542236328",
         "16.729999542236328",
         "16.729999542236328",
         "1150000",
         "17.09000015258789"
        ],
        [
         "1950-01-27 00:00:00",
         "16.81999969482422",
         "16.81999969482422",
         "16.81999969482422",
         "16.81999969482422",
         "1250000",
         "17.09000015258789"
        ],
        [
         "1950-01-30 00:00:00",
         "17.020000457763672",
         "17.020000457763672",
         "17.020000457763672",
         "17.020000457763672",
         "1640000",
         "17.09000015258789"
        ],
        [
         "1950-01-31 00:00:00",
         "17.049999237060547",
         "17.049999237060547",
         "17.049999237060547",
         "17.049999237060547",
         "1690000",
         "17.09000015258789"
        ],
        [
         "1950-02-01 00:00:00",
         "17.049999237060547",
         "17.049999237060547",
         "17.049999237060547",
         "17.049999237060547",
         "1810000",
         "17.09000015258789"
        ],
        [
         "1950-02-02 00:00:00",
         "17.229999542236328",
         "17.229999542236328",
         "17.229999542236328",
         "17.229999542236328",
         "2040000",
         "17.229999542236328"
        ],
        [
         "1950-02-03 00:00:00",
         "17.290000915527344",
         "17.290000915527344",
         "17.290000915527344",
         "17.290000915527344",
         "2210000",
         "17.290000915527344"
        ],
        [
         "1950-02-06 00:00:00",
         "17.31999969482422",
         "17.31999969482422",
         "17.31999969482422",
         "17.31999969482422",
         "1490000",
         "17.31999969482422"
        ],
        [
         "1950-02-07 00:00:00",
         "17.229999542236328",
         "17.229999542236328",
         "17.229999542236328",
         "17.229999542236328",
         "1360000",
         "17.31999969482422"
        ],
        [
         "1950-02-08 00:00:00",
         "17.209999084472656",
         "17.209999084472656",
         "17.209999084472656",
         "17.209999084472656",
         "1470000",
         "17.31999969482422"
        ],
        [
         "1950-02-09 00:00:00",
         "17.280000686645508",
         "17.280000686645508",
         "17.280000686645508",
         "17.280000686645508",
         "1810000",
         "17.31999969482422"
        ],
        [
         "1950-02-10 00:00:00",
         "17.239999771118164",
         "17.239999771118164",
         "17.239999771118164",
         "17.239999771118164",
         "1790000",
         "17.31999969482422"
        ],
        [
         "1950-02-14 00:00:00",
         "17.059999465942383",
         "17.059999465942383",
         "17.059999465942383",
         "17.059999465942383",
         "2210000",
         "17.31999969482422"
        ],
        [
         "1950-02-15 00:00:00",
         "17.059999465942383",
         "17.059999465942383",
         "17.059999465942383",
         "17.059999465942383",
         "1730000",
         "17.31999969482422"
        ],
        [
         "1950-02-16 00:00:00",
         "16.989999771118164",
         "16.989999771118164",
         "16.989999771118164",
         "16.989999771118164",
         "1920000",
         "17.31999969482422"
        ],
        [
         "1950-02-17 00:00:00",
         "17.149999618530273",
         "17.149999618530273",
         "17.149999618530273",
         "17.149999618530273",
         "1940000",
         "17.31999969482422"
        ],
        [
         "1950-02-20 00:00:00",
         "17.200000762939453",
         "17.200000762939453",
         "17.200000762939453",
         "17.200000762939453",
         "1420000",
         "17.31999969482422"
        ],
        [
         "1950-02-21 00:00:00",
         "17.170000076293945",
         "17.170000076293945",
         "17.170000076293945",
         "17.170000076293945",
         "1260000",
         "17.31999969482422"
        ],
        [
         "1950-02-23 00:00:00",
         "17.209999084472656",
         "17.209999084472656",
         "17.209999084472656",
         "17.209999084472656",
         "1310000",
         "17.31999969482422"
        ],
        [
         "1950-02-24 00:00:00",
         "17.280000686645508",
         "17.280000686645508",
         "17.280000686645508",
         "17.280000686645508",
         "1710000",
         "17.31999969482422"
        ],
        [
         "1950-02-27 00:00:00",
         "17.280000686645508",
         "17.280000686645508",
         "17.280000686645508",
         "17.280000686645508",
         "1410000",
         "17.31999969482422"
        ],
        [
         "1950-02-28 00:00:00",
         "17.219999313354492",
         "17.219999313354492",
         "17.219999313354492",
         "17.219999313354492",
         "1310000",
         "17.31999969482422"
        ],
        [
         "1950-03-01 00:00:00",
         "17.239999771118164",
         "17.239999771118164",
         "17.239999771118164",
         "17.239999771118164",
         "1410000",
         "17.31999969482422"
        ],
        [
         "1950-03-02 00:00:00",
         "17.229999542236328",
         "17.229999542236328",
         "17.229999542236328",
         "17.229999542236328",
         "1340000",
         "17.31999969482422"
        ],
        [
         "1950-03-03 00:00:00",
         "17.290000915527344",
         "17.290000915527344",
         "17.290000915527344",
         "17.290000915527344",
         "1520000",
         "17.31999969482422"
        ],
        [
         "1950-03-06 00:00:00",
         "17.31999969482422",
         "17.31999969482422",
         "17.31999969482422",
         "17.31999969482422",
         "1470000",
         "17.31999969482422"
        ],
        [
         "1950-03-07 00:00:00",
         "17.200000762939453",
         "17.200000762939453",
         "17.200000762939453",
         "17.200000762939453",
         "1590000",
         "17.31999969482422"
        ],
        [
         "1950-03-08 00:00:00",
         "17.190000534057617",
         "17.190000534057617",
         "17.190000534057617",
         "17.190000534057617",
         "1360000",
         "17.31999969482422"
        ],
        [
         "1950-03-09 00:00:00",
         "17.06999969482422",
         "17.06999969482422",
         "17.06999969482422",
         "17.06999969482422",
         "1330000",
         "17.31999969482422"
        ],
        [
         "1950-03-10 00:00:00",
         "17.09000015258789",
         "17.09000015258789",
         "17.09000015258789",
         "17.09000015258789",
         "1260000",
         "17.31999969482422"
        ],
        [
         "1950-03-13 00:00:00",
         "17.1200008392334",
         "17.1200008392334",
         "17.1200008392334",
         "17.1200008392334",
         "1060000",
         "17.31999969482422"
        ],
        [
         "1950-03-14 00:00:00",
         "17.25",
         "17.25",
         "17.25",
         "17.25",
         "1140000",
         "17.31999969482422"
        ],
        [
         "1950-03-15 00:00:00",
         "17.450000762939453",
         "17.450000762939453",
         "17.450000762939453",
         "17.450000762939453",
         "1830000",
         "17.450000762939453"
        ]
       ],
       "shape": {
        "columns": 6,
        "rows": 18973
       }
      },
      "text/html": [
       "<div>\n",
       "<style scoped>\n",
       "    .dataframe tbody tr th:only-of-type {\n",
       "        vertical-align: middle;\n",
       "    }\n",
       "\n",
       "    .dataframe tbody tr th {\n",
       "        vertical-align: top;\n",
       "    }\n",
       "\n",
       "    .dataframe thead th {\n",
       "        text-align: right;\n",
       "    }\n",
       "</style>\n",
       "<table border=\"1\" class=\"dataframe\">\n",
       "  <thead>\n",
       "    <tr style=\"text-align: right;\">\n",
       "      <th>Price</th>\n",
       "      <th>Close</th>\n",
       "      <th>High</th>\n",
       "      <th>Low</th>\n",
       "      <th>Open</th>\n",
       "      <th>Volume</th>\n",
       "      <th>All_Time_High</th>\n",
       "    </tr>\n",
       "    <tr>\n",
       "      <th>Date</th>\n",
       "      <th></th>\n",
       "      <th></th>\n",
       "      <th></th>\n",
       "      <th></th>\n",
       "      <th></th>\n",
       "      <th></th>\n",
       "    </tr>\n",
       "  </thead>\n",
       "  <tbody>\n",
       "    <tr>\n",
       "      <th>1950-01-03</th>\n",
       "      <td>16.660000</td>\n",
       "      <td>16.660000</td>\n",
       "      <td>16.660000</td>\n",
       "      <td>16.660000</td>\n",
       "      <td>1260000</td>\n",
       "      <td>16.660000</td>\n",
       "    </tr>\n",
       "    <tr>\n",
       "      <th>1950-01-04</th>\n",
       "      <td>16.850000</td>\n",
       "      <td>16.850000</td>\n",
       "      <td>16.850000</td>\n",
       "      <td>16.850000</td>\n",
       "      <td>1890000</td>\n",
       "      <td>16.850000</td>\n",
       "    </tr>\n",
       "    <tr>\n",
       "      <th>1950-01-05</th>\n",
       "      <td>16.930000</td>\n",
       "      <td>16.930000</td>\n",
       "      <td>16.930000</td>\n",
       "      <td>16.930000</td>\n",
       "      <td>2550000</td>\n",
       "      <td>16.930000</td>\n",
       "    </tr>\n",
       "    <tr>\n",
       "      <th>1950-01-06</th>\n",
       "      <td>16.980000</td>\n",
       "      <td>16.980000</td>\n",
       "      <td>16.980000</td>\n",
       "      <td>16.980000</td>\n",
       "      <td>2010000</td>\n",
       "      <td>16.980000</td>\n",
       "    </tr>\n",
       "    <tr>\n",
       "      <th>1950-01-09</th>\n",
       "      <td>17.080000</td>\n",
       "      <td>17.080000</td>\n",
       "      <td>17.080000</td>\n",
       "      <td>17.080000</td>\n",
       "      <td>2520000</td>\n",
       "      <td>17.080000</td>\n",
       "    </tr>\n",
       "    <tr>\n",
       "      <th>...</th>\n",
       "      <td>...</td>\n",
       "      <td>...</td>\n",
       "      <td>...</td>\n",
       "      <td>...</td>\n",
       "      <td>...</td>\n",
       "      <td>...</td>\n",
       "    </tr>\n",
       "    <tr>\n",
       "      <th>2025-05-23</th>\n",
       "      <td>5802.819824</td>\n",
       "      <td>5829.509766</td>\n",
       "      <td>5767.410156</td>\n",
       "      <td>5781.890137</td>\n",
       "      <td>4662820000</td>\n",
       "      <td>6144.149902</td>\n",
       "    </tr>\n",
       "    <tr>\n",
       "      <th>2025-05-27</th>\n",
       "      <td>5921.540039</td>\n",
       "      <td>5924.330078</td>\n",
       "      <td>5854.069824</td>\n",
       "      <td>5854.069824</td>\n",
       "      <td>5366380000</td>\n",
       "      <td>6144.149902</td>\n",
       "    </tr>\n",
       "    <tr>\n",
       "      <th>2025-05-28</th>\n",
       "      <td>5888.549805</td>\n",
       "      <td>5939.919922</td>\n",
       "      <td>5881.879883</td>\n",
       "      <td>5925.540039</td>\n",
       "      <td>4665050000</td>\n",
       "      <td>6144.149902</td>\n",
       "    </tr>\n",
       "    <tr>\n",
       "      <th>2025-05-29</th>\n",
       "      <td>5912.169922</td>\n",
       "      <td>5943.129883</td>\n",
       "      <td>5873.799805</td>\n",
       "      <td>5939.959961</td>\n",
       "      <td>4569750000</td>\n",
       "      <td>6144.149902</td>\n",
       "    </tr>\n",
       "    <tr>\n",
       "      <th>2025-05-30</th>\n",
       "      <td>5911.689941</td>\n",
       "      <td>5922.140137</td>\n",
       "      <td>5843.660156</td>\n",
       "      <td>5903.669922</td>\n",
       "      <td>6378540000</td>\n",
       "      <td>6144.149902</td>\n",
       "    </tr>\n",
       "  </tbody>\n",
       "</table>\n",
       "<p>18973 rows × 6 columns</p>\n",
       "</div>"
      ],
      "text/plain": [
       "Price             Close         High          Low         Open      Volume  \\\n",
       "Date                                                                         \n",
       "1950-01-03    16.660000    16.660000    16.660000    16.660000     1260000   \n",
       "1950-01-04    16.850000    16.850000    16.850000    16.850000     1890000   \n",
       "1950-01-05    16.930000    16.930000    16.930000    16.930000     2550000   \n",
       "1950-01-06    16.980000    16.980000    16.980000    16.980000     2010000   \n",
       "1950-01-09    17.080000    17.080000    17.080000    17.080000     2520000   \n",
       "...                 ...          ...          ...          ...         ...   \n",
       "2025-05-23  5802.819824  5829.509766  5767.410156  5781.890137  4662820000   \n",
       "2025-05-27  5921.540039  5924.330078  5854.069824  5854.069824  5366380000   \n",
       "2025-05-28  5888.549805  5939.919922  5881.879883  5925.540039  4665050000   \n",
       "2025-05-29  5912.169922  5943.129883  5873.799805  5939.959961  4569750000   \n",
       "2025-05-30  5911.689941  5922.140137  5843.660156  5903.669922  6378540000   \n",
       "\n",
       "Price       All_Time_High  \n",
       "Date                       \n",
       "1950-01-03      16.660000  \n",
       "1950-01-04      16.850000  \n",
       "1950-01-05      16.930000  \n",
       "1950-01-06      16.980000  \n",
       "1950-01-09      17.080000  \n",
       "...                   ...  \n",
       "2025-05-23    6144.149902  \n",
       "2025-05-27    6144.149902  \n",
       "2025-05-28    6144.149902  \n",
       "2025-05-29    6144.149902  \n",
       "2025-05-30    6144.149902  \n",
       "\n",
       "[18973 rows x 6 columns]"
      ]
     },
     "execution_count": 69,
     "metadata": {},
     "output_type": "execute_result"
    }
   ],
   "source": [
    "\n",
    "# Identify all-time high points (where price exceeds all previous prices)\n",
    "# Calculate all-time highs using expanding maximum (replace kalau sebelumnya maksimum)\n",
    "df['All_Time_High'] = df['Close'].expanding().max()\n",
    "df"
   ]
  },
  {
   "cell_type": "code",
   "execution_count": 70,
   "id": "3042e6fc",
   "metadata": {},
   "outputs": [
    {
     "data": {
      "application/vnd.microsoft.datawrangler.viewer.v0+json": {
       "columns": [
        {
         "name": "Date",
         "rawType": "datetime64[ns]",
         "type": "datetime"
        },
        {
         "name": "Close",
         "rawType": "float64",
         "type": "float"
        },
        {
         "name": "High",
         "rawType": "float64",
         "type": "float"
        },
        {
         "name": "Low",
         "rawType": "float64",
         "type": "float"
        },
        {
         "name": "Open",
         "rawType": "float64",
         "type": "float"
        },
        {
         "name": "Volume",
         "rawType": "int64",
         "type": "integer"
        },
        {
         "name": "All_Time_High",
         "rawType": "float64",
         "type": "float"
        },
        {
         "name": "ATH_Change",
         "rawType": "bool",
         "type": "boolean"
        }
       ],
       "ref": "79c7bfa6-d47c-44ef-b8d1-23c6a09f8aa5",
       "rows": [
        [
         "1950-01-03 00:00:00",
         "16.65999984741211",
         "16.65999984741211",
         "16.65999984741211",
         "16.65999984741211",
         "1260000",
         "16.65999984741211",
         "False"
        ],
        [
         "1950-01-04 00:00:00",
         "16.850000381469727",
         "16.850000381469727",
         "16.850000381469727",
         "16.850000381469727",
         "1890000",
         "16.850000381469727",
         "True"
        ],
        [
         "1950-01-05 00:00:00",
         "16.93000030517578",
         "16.93000030517578",
         "16.93000030517578",
         "16.93000030517578",
         "2550000",
         "16.93000030517578",
         "True"
        ],
        [
         "1950-01-06 00:00:00",
         "16.979999542236328",
         "16.979999542236328",
         "16.979999542236328",
         "16.979999542236328",
         "2010000",
         "16.979999542236328",
         "True"
        ],
        [
         "1950-01-09 00:00:00",
         "17.079999923706055",
         "17.079999923706055",
         "17.079999923706055",
         "17.079999923706055",
         "2520000",
         "17.079999923706055",
         "True"
        ],
        [
         "1950-01-10 00:00:00",
         "17.030000686645508",
         "17.030000686645508",
         "17.030000686645508",
         "17.030000686645508",
         "2160000",
         "17.079999923706055",
         "False"
        ],
        [
         "1950-01-11 00:00:00",
         "17.09000015258789",
         "17.09000015258789",
         "17.09000015258789",
         "17.09000015258789",
         "2630000",
         "17.09000015258789",
         "True"
        ],
        [
         "1950-01-12 00:00:00",
         "16.760000228881836",
         "16.760000228881836",
         "16.760000228881836",
         "16.760000228881836",
         "2970000",
         "17.09000015258789",
         "False"
        ],
        [
         "1950-01-13 00:00:00",
         "16.670000076293945",
         "16.670000076293945",
         "16.670000076293945",
         "16.670000076293945",
         "3330000",
         "17.09000015258789",
         "False"
        ],
        [
         "1950-01-16 00:00:00",
         "16.719999313354492",
         "16.719999313354492",
         "16.719999313354492",
         "16.719999313354492",
         "1460000",
         "17.09000015258789",
         "False"
        ],
        [
         "1950-01-17 00:00:00",
         "16.860000610351562",
         "16.860000610351562",
         "16.860000610351562",
         "16.860000610351562",
         "1790000",
         "17.09000015258789",
         "False"
        ],
        [
         "1950-01-18 00:00:00",
         "16.850000381469727",
         "16.850000381469727",
         "16.850000381469727",
         "16.850000381469727",
         "1570000",
         "17.09000015258789",
         "False"
        ],
        [
         "1950-01-19 00:00:00",
         "16.8700008392334",
         "16.8700008392334",
         "16.8700008392334",
         "16.8700008392334",
         "1170000",
         "17.09000015258789",
         "False"
        ],
        [
         "1950-01-20 00:00:00",
         "16.899999618530273",
         "16.899999618530273",
         "16.899999618530273",
         "16.899999618530273",
         "1440000",
         "17.09000015258789",
         "False"
        ],
        [
         "1950-01-23 00:00:00",
         "16.920000076293945",
         "16.920000076293945",
         "16.920000076293945",
         "16.920000076293945",
         "1340000",
         "17.09000015258789",
         "False"
        ],
        [
         "1950-01-24 00:00:00",
         "16.860000610351562",
         "16.860000610351562",
         "16.860000610351562",
         "16.860000610351562",
         "1250000",
         "17.09000015258789",
         "False"
        ],
        [
         "1950-01-25 00:00:00",
         "16.739999771118164",
         "16.739999771118164",
         "16.739999771118164",
         "16.739999771118164",
         "1700000",
         "17.09000015258789",
         "False"
        ],
        [
         "1950-01-26 00:00:00",
         "16.729999542236328",
         "16.729999542236328",
         "16.729999542236328",
         "16.729999542236328",
         "1150000",
         "17.09000015258789",
         "False"
        ],
        [
         "1950-01-27 00:00:00",
         "16.81999969482422",
         "16.81999969482422",
         "16.81999969482422",
         "16.81999969482422",
         "1250000",
         "17.09000015258789",
         "False"
        ],
        [
         "1950-01-30 00:00:00",
         "17.020000457763672",
         "17.020000457763672",
         "17.020000457763672",
         "17.020000457763672",
         "1640000",
         "17.09000015258789",
         "False"
        ],
        [
         "1950-01-31 00:00:00",
         "17.049999237060547",
         "17.049999237060547",
         "17.049999237060547",
         "17.049999237060547",
         "1690000",
         "17.09000015258789",
         "False"
        ],
        [
         "1950-02-01 00:00:00",
         "17.049999237060547",
         "17.049999237060547",
         "17.049999237060547",
         "17.049999237060547",
         "1810000",
         "17.09000015258789",
         "False"
        ],
        [
         "1950-02-02 00:00:00",
         "17.229999542236328",
         "17.229999542236328",
         "17.229999542236328",
         "17.229999542236328",
         "2040000",
         "17.229999542236328",
         "True"
        ],
        [
         "1950-02-03 00:00:00",
         "17.290000915527344",
         "17.290000915527344",
         "17.290000915527344",
         "17.290000915527344",
         "2210000",
         "17.290000915527344",
         "True"
        ],
        [
         "1950-02-06 00:00:00",
         "17.31999969482422",
         "17.31999969482422",
         "17.31999969482422",
         "17.31999969482422",
         "1490000",
         "17.31999969482422",
         "True"
        ],
        [
         "1950-02-07 00:00:00",
         "17.229999542236328",
         "17.229999542236328",
         "17.229999542236328",
         "17.229999542236328",
         "1360000",
         "17.31999969482422",
         "False"
        ],
        [
         "1950-02-08 00:00:00",
         "17.209999084472656",
         "17.209999084472656",
         "17.209999084472656",
         "17.209999084472656",
         "1470000",
         "17.31999969482422",
         "False"
        ],
        [
         "1950-02-09 00:00:00",
         "17.280000686645508",
         "17.280000686645508",
         "17.280000686645508",
         "17.280000686645508",
         "1810000",
         "17.31999969482422",
         "False"
        ],
        [
         "1950-02-10 00:00:00",
         "17.239999771118164",
         "17.239999771118164",
         "17.239999771118164",
         "17.239999771118164",
         "1790000",
         "17.31999969482422",
         "False"
        ],
        [
         "1950-02-14 00:00:00",
         "17.059999465942383",
         "17.059999465942383",
         "17.059999465942383",
         "17.059999465942383",
         "2210000",
         "17.31999969482422",
         "False"
        ],
        [
         "1950-02-15 00:00:00",
         "17.059999465942383",
         "17.059999465942383",
         "17.059999465942383",
         "17.059999465942383",
         "1730000",
         "17.31999969482422",
         "False"
        ],
        [
         "1950-02-16 00:00:00",
         "16.989999771118164",
         "16.989999771118164",
         "16.989999771118164",
         "16.989999771118164",
         "1920000",
         "17.31999969482422",
         "False"
        ],
        [
         "1950-02-17 00:00:00",
         "17.149999618530273",
         "17.149999618530273",
         "17.149999618530273",
         "17.149999618530273",
         "1940000",
         "17.31999969482422",
         "False"
        ],
        [
         "1950-02-20 00:00:00",
         "17.200000762939453",
         "17.200000762939453",
         "17.200000762939453",
         "17.200000762939453",
         "1420000",
         "17.31999969482422",
         "False"
        ],
        [
         "1950-02-21 00:00:00",
         "17.170000076293945",
         "17.170000076293945",
         "17.170000076293945",
         "17.170000076293945",
         "1260000",
         "17.31999969482422",
         "False"
        ],
        [
         "1950-02-23 00:00:00",
         "17.209999084472656",
         "17.209999084472656",
         "17.209999084472656",
         "17.209999084472656",
         "1310000",
         "17.31999969482422",
         "False"
        ],
        [
         "1950-02-24 00:00:00",
         "17.280000686645508",
         "17.280000686645508",
         "17.280000686645508",
         "17.280000686645508",
         "1710000",
         "17.31999969482422",
         "False"
        ],
        [
         "1950-02-27 00:00:00",
         "17.280000686645508",
         "17.280000686645508",
         "17.280000686645508",
         "17.280000686645508",
         "1410000",
         "17.31999969482422",
         "False"
        ],
        [
         "1950-02-28 00:00:00",
         "17.219999313354492",
         "17.219999313354492",
         "17.219999313354492",
         "17.219999313354492",
         "1310000",
         "17.31999969482422",
         "False"
        ],
        [
         "1950-03-01 00:00:00",
         "17.239999771118164",
         "17.239999771118164",
         "17.239999771118164",
         "17.239999771118164",
         "1410000",
         "17.31999969482422",
         "False"
        ],
        [
         "1950-03-02 00:00:00",
         "17.229999542236328",
         "17.229999542236328",
         "17.229999542236328",
         "17.229999542236328",
         "1340000",
         "17.31999969482422",
         "False"
        ],
        [
         "1950-03-03 00:00:00",
         "17.290000915527344",
         "17.290000915527344",
         "17.290000915527344",
         "17.290000915527344",
         "1520000",
         "17.31999969482422",
         "False"
        ],
        [
         "1950-03-06 00:00:00",
         "17.31999969482422",
         "17.31999969482422",
         "17.31999969482422",
         "17.31999969482422",
         "1470000",
         "17.31999969482422",
         "False"
        ],
        [
         "1950-03-07 00:00:00",
         "17.200000762939453",
         "17.200000762939453",
         "17.200000762939453",
         "17.200000762939453",
         "1590000",
         "17.31999969482422",
         "False"
        ],
        [
         "1950-03-08 00:00:00",
         "17.190000534057617",
         "17.190000534057617",
         "17.190000534057617",
         "17.190000534057617",
         "1360000",
         "17.31999969482422",
         "False"
        ],
        [
         "1950-03-09 00:00:00",
         "17.06999969482422",
         "17.06999969482422",
         "17.06999969482422",
         "17.06999969482422",
         "1330000",
         "17.31999969482422",
         "False"
        ],
        [
         "1950-03-10 00:00:00",
         "17.09000015258789",
         "17.09000015258789",
         "17.09000015258789",
         "17.09000015258789",
         "1260000",
         "17.31999969482422",
         "False"
        ],
        [
         "1950-03-13 00:00:00",
         "17.1200008392334",
         "17.1200008392334",
         "17.1200008392334",
         "17.1200008392334",
         "1060000",
         "17.31999969482422",
         "False"
        ],
        [
         "1950-03-14 00:00:00",
         "17.25",
         "17.25",
         "17.25",
         "17.25",
         "1140000",
         "17.31999969482422",
         "False"
        ],
        [
         "1950-03-15 00:00:00",
         "17.450000762939453",
         "17.450000762939453",
         "17.450000762939453",
         "17.450000762939453",
         "1830000",
         "17.450000762939453",
         "True"
        ]
       ],
       "shape": {
        "columns": 7,
        "rows": 18973
       }
      },
      "text/html": [
       "<div>\n",
       "<style scoped>\n",
       "    .dataframe tbody tr th:only-of-type {\n",
       "        vertical-align: middle;\n",
       "    }\n",
       "\n",
       "    .dataframe tbody tr th {\n",
       "        vertical-align: top;\n",
       "    }\n",
       "\n",
       "    .dataframe thead th {\n",
       "        text-align: right;\n",
       "    }\n",
       "</style>\n",
       "<table border=\"1\" class=\"dataframe\">\n",
       "  <thead>\n",
       "    <tr style=\"text-align: right;\">\n",
       "      <th>Price</th>\n",
       "      <th>Close</th>\n",
       "      <th>High</th>\n",
       "      <th>Low</th>\n",
       "      <th>Open</th>\n",
       "      <th>Volume</th>\n",
       "      <th>All_Time_High</th>\n",
       "      <th>ATH_Change</th>\n",
       "    </tr>\n",
       "    <tr>\n",
       "      <th>Date</th>\n",
       "      <th></th>\n",
       "      <th></th>\n",
       "      <th></th>\n",
       "      <th></th>\n",
       "      <th></th>\n",
       "      <th></th>\n",
       "      <th></th>\n",
       "    </tr>\n",
       "  </thead>\n",
       "  <tbody>\n",
       "    <tr>\n",
       "      <th>1950-01-03</th>\n",
       "      <td>16.660000</td>\n",
       "      <td>16.660000</td>\n",
       "      <td>16.660000</td>\n",
       "      <td>16.660000</td>\n",
       "      <td>1260000</td>\n",
       "      <td>16.660000</td>\n",
       "      <td>False</td>\n",
       "    </tr>\n",
       "    <tr>\n",
       "      <th>1950-01-04</th>\n",
       "      <td>16.850000</td>\n",
       "      <td>16.850000</td>\n",
       "      <td>16.850000</td>\n",
       "      <td>16.850000</td>\n",
       "      <td>1890000</td>\n",
       "      <td>16.850000</td>\n",
       "      <td>True</td>\n",
       "    </tr>\n",
       "    <tr>\n",
       "      <th>1950-01-05</th>\n",
       "      <td>16.930000</td>\n",
       "      <td>16.930000</td>\n",
       "      <td>16.930000</td>\n",
       "      <td>16.930000</td>\n",
       "      <td>2550000</td>\n",
       "      <td>16.930000</td>\n",
       "      <td>True</td>\n",
       "    </tr>\n",
       "    <tr>\n",
       "      <th>1950-01-06</th>\n",
       "      <td>16.980000</td>\n",
       "      <td>16.980000</td>\n",
       "      <td>16.980000</td>\n",
       "      <td>16.980000</td>\n",
       "      <td>2010000</td>\n",
       "      <td>16.980000</td>\n",
       "      <td>True</td>\n",
       "    </tr>\n",
       "    <tr>\n",
       "      <th>1950-01-09</th>\n",
       "      <td>17.080000</td>\n",
       "      <td>17.080000</td>\n",
       "      <td>17.080000</td>\n",
       "      <td>17.080000</td>\n",
       "      <td>2520000</td>\n",
       "      <td>17.080000</td>\n",
       "      <td>True</td>\n",
       "    </tr>\n",
       "    <tr>\n",
       "      <th>...</th>\n",
       "      <td>...</td>\n",
       "      <td>...</td>\n",
       "      <td>...</td>\n",
       "      <td>...</td>\n",
       "      <td>...</td>\n",
       "      <td>...</td>\n",
       "      <td>...</td>\n",
       "    </tr>\n",
       "    <tr>\n",
       "      <th>2025-05-23</th>\n",
       "      <td>5802.819824</td>\n",
       "      <td>5829.509766</td>\n",
       "      <td>5767.410156</td>\n",
       "      <td>5781.890137</td>\n",
       "      <td>4662820000</td>\n",
       "      <td>6144.149902</td>\n",
       "      <td>False</td>\n",
       "    </tr>\n",
       "    <tr>\n",
       "      <th>2025-05-27</th>\n",
       "      <td>5921.540039</td>\n",
       "      <td>5924.330078</td>\n",
       "      <td>5854.069824</td>\n",
       "      <td>5854.069824</td>\n",
       "      <td>5366380000</td>\n",
       "      <td>6144.149902</td>\n",
       "      <td>False</td>\n",
       "    </tr>\n",
       "    <tr>\n",
       "      <th>2025-05-28</th>\n",
       "      <td>5888.549805</td>\n",
       "      <td>5939.919922</td>\n",
       "      <td>5881.879883</td>\n",
       "      <td>5925.540039</td>\n",
       "      <td>4665050000</td>\n",
       "      <td>6144.149902</td>\n",
       "      <td>False</td>\n",
       "    </tr>\n",
       "    <tr>\n",
       "      <th>2025-05-29</th>\n",
       "      <td>5912.169922</td>\n",
       "      <td>5943.129883</td>\n",
       "      <td>5873.799805</td>\n",
       "      <td>5939.959961</td>\n",
       "      <td>4569750000</td>\n",
       "      <td>6144.149902</td>\n",
       "      <td>False</td>\n",
       "    </tr>\n",
       "    <tr>\n",
       "      <th>2025-05-30</th>\n",
       "      <td>5911.689941</td>\n",
       "      <td>5922.140137</td>\n",
       "      <td>5843.660156</td>\n",
       "      <td>5903.669922</td>\n",
       "      <td>6378540000</td>\n",
       "      <td>6144.149902</td>\n",
       "      <td>False</td>\n",
       "    </tr>\n",
       "  </tbody>\n",
       "</table>\n",
       "<p>18973 rows × 7 columns</p>\n",
       "</div>"
      ],
      "text/plain": [
       "Price             Close         High          Low         Open      Volume  \\\n",
       "Date                                                                         \n",
       "1950-01-03    16.660000    16.660000    16.660000    16.660000     1260000   \n",
       "1950-01-04    16.850000    16.850000    16.850000    16.850000     1890000   \n",
       "1950-01-05    16.930000    16.930000    16.930000    16.930000     2550000   \n",
       "1950-01-06    16.980000    16.980000    16.980000    16.980000     2010000   \n",
       "1950-01-09    17.080000    17.080000    17.080000    17.080000     2520000   \n",
       "...                 ...          ...          ...          ...         ...   \n",
       "2025-05-23  5802.819824  5829.509766  5767.410156  5781.890137  4662820000   \n",
       "2025-05-27  5921.540039  5924.330078  5854.069824  5854.069824  5366380000   \n",
       "2025-05-28  5888.549805  5939.919922  5881.879883  5925.540039  4665050000   \n",
       "2025-05-29  5912.169922  5943.129883  5873.799805  5939.959961  4569750000   \n",
       "2025-05-30  5911.689941  5922.140137  5843.660156  5903.669922  6378540000   \n",
       "\n",
       "Price       All_Time_High  ATH_Change  \n",
       "Date                                   \n",
       "1950-01-03      16.660000       False  \n",
       "1950-01-04      16.850000        True  \n",
       "1950-01-05      16.930000        True  \n",
       "1950-01-06      16.980000        True  \n",
       "1950-01-09      17.080000        True  \n",
       "...                   ...         ...  \n",
       "2025-05-23    6144.149902       False  \n",
       "2025-05-27    6144.149902       False  \n",
       "2025-05-28    6144.149902       False  \n",
       "2025-05-29    6144.149902       False  \n",
       "2025-05-30    6144.149902       False  \n",
       "\n",
       "[18973 rows x 7 columns]"
      ]
     },
     "execution_count": 70,
     "metadata": {},
     "output_type": "execute_result"
    }
   ],
   "source": [
    "df['ATH_Change'] = df['All_Time_High'].diff() > 0\n",
    "df"
   ]
  },
  {
   "cell_type": "code",
   "execution_count": 72,
   "id": "7eb97c15",
   "metadata": {},
   "outputs": [
    {
     "data": {
      "text/plain": [
       "[Timestamp('1950-01-04 00:00:00'),\n",
       " Timestamp('1950-01-05 00:00:00'),\n",
       " Timestamp('1950-01-06 00:00:00'),\n",
       " Timestamp('1950-01-09 00:00:00'),\n",
       " Timestamp('1950-01-11 00:00:00'),\n",
       " Timestamp('1950-02-02 00:00:00'),\n",
       " Timestamp('1950-02-03 00:00:00'),\n",
       " Timestamp('1950-02-06 00:00:00'),\n",
       " Timestamp('1950-03-15 00:00:00'),\n",
       " Timestamp('1950-03-16 00:00:00'),\n",
       " Timestamp('1950-03-22 00:00:00'),\n",
       " Timestamp('1950-03-23 00:00:00'),\n",
       " Timestamp('1950-04-05 00:00:00'),\n",
       " Timestamp('1950-04-06 00:00:00'),\n",
       " Timestamp('1950-04-10 00:00:00'),\n",
       " Timestamp('1950-04-12 00:00:00'),\n",
       " Timestamp('1950-04-13 00:00:00'),\n",
       " Timestamp('1950-04-18 00:00:00'),\n",
       " Timestamp('1950-04-19 00:00:00'),\n",
       " Timestamp('1950-05-01 00:00:00'),\n",
       " Timestamp('1950-05-03 00:00:00'),\n",
       " Timestamp('1950-05-10 00:00:00'),\n",
       " Timestamp('1950-05-16 00:00:00'),\n",
       " Timestamp('1950-05-17 00:00:00'),\n",
       " Timestamp('1950-05-18 00:00:00'),\n",
       " Timestamp('1950-05-19 00:00:00'),\n",
       " Timestamp('1950-05-23 00:00:00'),\n",
       " Timestamp('1950-05-29 00:00:00'),\n",
       " Timestamp('1950-05-31 00:00:00'),\n",
       " Timestamp('1950-06-02 00:00:00'),\n",
       " Timestamp('1950-06-06 00:00:00'),\n",
       " Timestamp('1950-06-07 00:00:00'),\n",
       " Timestamp('1950-06-08 00:00:00'),\n",
       " Timestamp('1950-06-09 00:00:00'),\n",
       " Timestamp('1950-06-12 00:00:00'),\n",
       " Timestamp('1950-09-22 00:00:00'),\n",
       " Timestamp('1950-09-29 00:00:00'),\n",
       " Timestamp('1950-10-02 00:00:00'),\n",
       " Timestamp('1950-10-04 00:00:00'),\n",
       " Timestamp('1950-10-06 00:00:00'),\n",
       " Timestamp('1950-11-22 00:00:00'),\n",
       " Timestamp('1950-11-24 00:00:00'),\n",
       " Timestamp('1950-12-28 00:00:00'),\n",
       " Timestamp('1950-12-29 00:00:00'),\n",
       " Timestamp('1951-01-02 00:00:00'),\n",
       " Timestamp('1951-01-04 00:00:00'),\n",
       " Timestamp('1951-01-08 00:00:00'),\n",
       " Timestamp('1951-01-09 00:00:00'),\n",
       " Timestamp('1951-01-11 00:00:00'),\n",
       " Timestamp('1951-01-15 00:00:00'),\n",
       " Timestamp('1951-01-16 00:00:00'),\n",
       " Timestamp('1951-01-17 00:00:00'),\n",
       " Timestamp('1951-01-29 00:00:00'),\n",
       " Timestamp('1951-01-30 00:00:00'),\n",
       " Timestamp('1951-02-01 00:00:00'),\n",
       " Timestamp('1951-02-02 00:00:00'),\n",
       " Timestamp('1951-02-05 00:00:00'),\n",
       " Timestamp('1951-04-27 00:00:00'),\n",
       " Timestamp('1951-04-30 00:00:00'),\n",
       " Timestamp('1951-05-01 00:00:00'),\n",
       " Timestamp('1951-05-02 00:00:00'),\n",
       " Timestamp('1951-05-03 00:00:00'),\n",
       " Timestamp('1951-08-02 00:00:00'),\n",
       " Timestamp('1951-08-03 00:00:00'),\n",
       " Timestamp('1951-08-06 00:00:00'),\n",
       " Timestamp('1951-08-07 00:00:00'),\n",
       " Timestamp('1951-08-29 00:00:00'),\n",
       " Timestamp('1951-08-30 00:00:00'),\n",
       " Timestamp('1951-08-31 00:00:00'),\n",
       " Timestamp('1951-09-05 00:00:00'),\n",
       " Timestamp('1951-09-06 00:00:00'),\n",
       " Timestamp('1951-09-07 00:00:00'),\n",
       " Timestamp('1951-09-10 00:00:00'),\n",
       " Timestamp('1951-09-13 00:00:00'),\n",
       " Timestamp('1951-10-03 00:00:00'),\n",
       " Timestamp('1951-10-15 00:00:00'),\n",
       " Timestamp('1952-01-03 00:00:00'),\n",
       " Timestamp('1952-01-04 00:00:00'),\n",
       " Timestamp('1952-01-11 00:00:00'),\n",
       " Timestamp('1952-01-14 00:00:00'),\n",
       " Timestamp('1952-01-17 00:00:00'),\n",
       " Timestamp('1952-01-18 00:00:00'),\n",
       " Timestamp('1952-01-21 00:00:00'),\n",
       " Timestamp('1952-01-22 00:00:00'),\n",
       " Timestamp('1952-06-26 00:00:00'),\n",
       " Timestamp('1952-06-27 00:00:00'),\n",
       " Timestamp('1952-06-30 00:00:00'),\n",
       " Timestamp('1952-07-01 00:00:00'),\n",
       " Timestamp('1952-07-15 00:00:00'),\n",
       " Timestamp('1952-07-24 00:00:00'),\n",
       " Timestamp('1952-07-29 00:00:00'),\n",
       " Timestamp('1952-07-30 00:00:00'),\n",
       " Timestamp('1952-07-31 00:00:00'),\n",
       " Timestamp('1952-08-01 00:00:00'),\n",
       " Timestamp('1952-08-05 00:00:00'),\n",
       " Timestamp('1952-08-07 00:00:00'),\n",
       " Timestamp('1952-08-08 00:00:00'),\n",
       " Timestamp('1952-11-28 00:00:00'),\n",
       " Timestamp('1952-12-01 00:00:00'),\n",
       " Timestamp('1952-12-02 00:00:00'),\n",
       " Timestamp('1952-12-08 00:00:00'),\n",
       " Timestamp('1952-12-09 00:00:00'),\n",
       " Timestamp('1952-12-10 00:00:00'),\n",
       " Timestamp('1952-12-12 00:00:00'),\n",
       " Timestamp('1952-12-16 00:00:00'),\n",
       " Timestamp('1952-12-19 00:00:00'),\n",
       " Timestamp('1952-12-22 00:00:00'),\n",
       " Timestamp('1952-12-29 00:00:00'),\n",
       " Timestamp('1952-12-30 00:00:00'),\n",
       " Timestamp('1953-01-05 00:00:00'),\n",
       " Timestamp('1954-03-11 00:00:00'),\n",
       " Timestamp('1954-03-18 00:00:00'),\n",
       " Timestamp('1954-03-19 00:00:00'),\n",
       " Timestamp('1954-03-31 00:00:00'),\n",
       " Timestamp('1954-04-01 00:00:00'),\n",
       " Timestamp('1954-04-02 00:00:00'),\n",
       " Timestamp('1954-04-05 00:00:00'),\n",
       " Timestamp('1954-04-08 00:00:00'),\n",
       " Timestamp('1954-04-12 00:00:00'),\n",
       " Timestamp('1954-04-13 00:00:00'),\n",
       " Timestamp('1954-04-14 00:00:00'),\n",
       " Timestamp('1954-04-15 00:00:00'),\n",
       " Timestamp('1954-04-29 00:00:00'),\n",
       " Timestamp('1954-04-30 00:00:00'),\n",
       " Timestamp('1954-05-04 00:00:00'),\n",
       " Timestamp('1954-05-05 00:00:00'),\n",
       " Timestamp('1954-05-06 00:00:00'),\n",
       " Timestamp('1954-05-07 00:00:00'),\n",
       " Timestamp('1954-05-12 00:00:00'),\n",
       " Timestamp('1954-05-14 00:00:00'),\n",
       " Timestamp('1954-05-17 00:00:00'),\n",
       " Timestamp('1954-05-18 00:00:00'),\n",
       " Timestamp('1954-05-21 00:00:00'),\n",
       " Timestamp('1954-05-24 00:00:00'),\n",
       " Timestamp('1954-05-26 00:00:00'),\n",
       " Timestamp('1954-05-28 00:00:00'),\n",
       " Timestamp('1954-06-24 00:00:00'),\n",
       " Timestamp('1954-06-28 00:00:00'),\n",
       " Timestamp('1954-06-29 00:00:00'),\n",
       " Timestamp('1954-07-02 00:00:00'),\n",
       " Timestamp('1954-07-06 00:00:00'),\n",
       " Timestamp('1954-07-07 00:00:00'),\n",
       " Timestamp('1954-07-09 00:00:00'),\n",
       " Timestamp('1954-07-15 00:00:00'),\n",
       " Timestamp('1954-07-22 00:00:00'),\n",
       " Timestamp('1954-07-23 00:00:00'),\n",
       " Timestamp('1954-07-26 00:00:00'),\n",
       " Timestamp('1954-07-27 00:00:00'),\n",
       " Timestamp('1954-07-28 00:00:00'),\n",
       " Timestamp('1954-07-29 00:00:00'),\n",
       " Timestamp('1954-07-30 00:00:00'),\n",
       " Timestamp('1954-08-02 00:00:00'),\n",
       " Timestamp('1954-08-16 00:00:00'),\n",
       " Timestamp('1954-08-17 00:00:00'),\n",
       " Timestamp('1954-08-19 00:00:00'),\n",
       " Timestamp('1954-08-20 00:00:00'),\n",
       " Timestamp('1954-09-14 00:00:00'),\n",
       " Timestamp('1954-09-15 00:00:00'),\n",
       " Timestamp('1954-09-16 00:00:00'),\n",
       " Timestamp('1954-09-17 00:00:00'),\n",
       " Timestamp('1954-09-21 00:00:00'),\n",
       " Timestamp('1954-09-22 00:00:00'),\n",
       " Timestamp('1954-09-23 00:00:00'),\n",
       " Timestamp('1954-09-24 00:00:00'),\n",
       " Timestamp('1954-09-27 00:00:00'),\n",
       " Timestamp('1954-09-28 00:00:00'),\n",
       " Timestamp('1954-10-06 00:00:00'),\n",
       " Timestamp('1954-11-04 00:00:00'),\n",
       " Timestamp('1954-11-08 00:00:00'),\n",
       " Timestamp('1954-11-09 00:00:00'),\n",
       " Timestamp('1954-11-10 00:00:00'),\n",
       " Timestamp('1954-11-11 00:00:00'),\n",
       " Timestamp('1954-11-12 00:00:00'),\n",
       " Timestamp('1954-11-16 00:00:00'),\n",
       " Timestamp('1954-11-17 00:00:00'),\n",
       " Timestamp('1954-11-23 00:00:00'),\n",
       " Timestamp('1954-11-24 00:00:00'),\n",
       " Timestamp('1954-11-26 00:00:00'),\n",
       " Timestamp('1954-12-06 00:00:00'),\n",
       " Timestamp('1954-12-07 00:00:00'),\n",
       " Timestamp('1954-12-16 00:00:00'),\n",
       " Timestamp('1954-12-17 00:00:00'),\n",
       " Timestamp('1954-12-31 00:00:00'),\n",
       " Timestamp('1955-01-03 00:00:00'),\n",
       " Timestamp('1955-02-04 00:00:00'),\n",
       " Timestamp('1955-02-10 00:00:00'),\n",
       " Timestamp('1955-02-11 00:00:00'),\n",
       " Timestamp('1955-03-03 00:00:00'),\n",
       " Timestamp('1955-03-04 00:00:00'),\n",
       " Timestamp('1955-04-12 00:00:00'),\n",
       " Timestamp('1955-04-13 00:00:00'),\n",
       " Timestamp('1955-04-14 00:00:00'),\n",
       " Timestamp('1955-04-15 00:00:00'),\n",
       " Timestamp('1955-04-18 00:00:00'),\n",
       " Timestamp('1955-04-20 00:00:00'),\n",
       " Timestamp('1955-04-21 00:00:00'),\n",
       " Timestamp('1955-06-03 00:00:00'),\n",
       " Timestamp('1955-06-06 00:00:00'),\n",
       " Timestamp('1955-06-07 00:00:00'),\n",
       " Timestamp('1955-06-17 00:00:00'),\n",
       " Timestamp('1955-06-20 00:00:00'),\n",
       " Timestamp('1955-06-21 00:00:00'),\n",
       " Timestamp('1955-06-22 00:00:00'),\n",
       " Timestamp('1955-06-23 00:00:00'),\n",
       " Timestamp('1955-06-24 00:00:00'),\n",
       " Timestamp('1955-06-27 00:00:00'),\n",
       " Timestamp('1955-06-30 00:00:00'),\n",
       " Timestamp('1955-07-01 00:00:00'),\n",
       " Timestamp('1955-07-05 00:00:00'),\n",
       " Timestamp('1955-07-06 00:00:00'),\n",
       " Timestamp('1955-07-25 00:00:00'),\n",
       " Timestamp('1955-07-26 00:00:00'),\n",
       " Timestamp('1955-07-27 00:00:00'),\n",
       " Timestamp('1955-09-06 00:00:00'),\n",
       " Timestamp('1955-09-08 00:00:00'),\n",
       " Timestamp('1955-09-09 00:00:00'),\n",
       " Timestamp('1955-09-12 00:00:00'),\n",
       " Timestamp('1955-09-13 00:00:00'),\n",
       " Timestamp('1955-09-14 00:00:00'),\n",
       " Timestamp('1955-09-16 00:00:00'),\n",
       " Timestamp('1955-09-19 00:00:00'),\n",
       " Timestamp('1955-09-21 00:00:00'),\n",
       " Timestamp('1955-09-23 00:00:00'),\n",
       " Timestamp('1955-11-14 00:00:00'),\n",
       " Timestamp('1956-03-09 00:00:00'),\n",
       " Timestamp('1956-03-12 00:00:00'),\n",
       " Timestamp('1956-03-14 00:00:00'),\n",
       " Timestamp('1956-03-15 00:00:00'),\n",
       " Timestamp('1956-03-16 00:00:00'),\n",
       " Timestamp('1956-03-19 00:00:00'),\n",
       " Timestamp('1956-03-20 00:00:00'),\n",
       " Timestamp('1956-07-16 00:00:00'),\n",
       " Timestamp('1956-07-17 00:00:00'),\n",
       " Timestamp('1956-07-19 00:00:00'),\n",
       " Timestamp('1956-07-20 00:00:00'),\n",
       " Timestamp('1956-07-25 00:00:00'),\n",
       " Timestamp('1956-07-26 00:00:00'),\n",
       " Timestamp('1956-08-01 00:00:00'),\n",
       " Timestamp('1956-08-02 00:00:00'),\n",
       " Timestamp('1958-09-24 00:00:00'),\n",
       " Timestamp('1958-09-29 00:00:00'),\n",
       " Timestamp('1958-09-30 00:00:00'),\n",
       " Timestamp('1958-10-02 00:00:00'),\n",
       " Timestamp('1958-10-03 00:00:00'),\n",
       " Timestamp('1958-10-06 00:00:00'),\n",
       " Timestamp('1958-10-10 00:00:00'),\n",
       " Timestamp('1958-10-13 00:00:00'),\n",
       " Timestamp('1958-11-05 00:00:00'),\n",
       " Timestamp('1958-11-06 00:00:00'),\n",
       " Timestamp('1958-11-10 00:00:00'),\n",
       " Timestamp('1958-11-11 00:00:00'),\n",
       " Timestamp('1958-11-12 00:00:00'),\n",
       " Timestamp('1958-11-14 00:00:00'),\n",
       " Timestamp('1958-11-17 00:00:00'),\n",
       " Timestamp('1958-12-10 00:00:00'),\n",
       " Timestamp('1958-12-16 00:00:00'),\n",
       " Timestamp('1958-12-17 00:00:00'),\n",
       " Timestamp('1958-12-18 00:00:00'),\n",
       " Timestamp('1958-12-29 00:00:00'),\n",
       " Timestamp('1958-12-30 00:00:00'),\n",
       " Timestamp('1958-12-31 00:00:00'),\n",
       " Timestamp('1959-01-02 00:00:00'),\n",
       " Timestamp('1959-01-05 00:00:00'),\n",
       " Timestamp('1959-01-09 00:00:00'),\n",
       " Timestamp('1959-01-12 00:00:00'),\n",
       " Timestamp('1959-01-15 00:00:00'),\n",
       " Timestamp('1959-01-21 00:00:00'),\n",
       " Timestamp('1959-03-03 00:00:00'),\n",
       " Timestamp('1959-03-04 00:00:00'),\n",
       " Timestamp('1959-03-05 00:00:00'),\n",
       " Timestamp('1959-03-12 00:00:00'),\n",
       " Timestamp('1959-03-13 00:00:00'),\n",
       " Timestamp('1959-04-14 00:00:00'),\n",
       " Timestamp('1959-04-15 00:00:00'),\n",
       " Timestamp('1959-04-16 00:00:00'),\n",
       " Timestamp('1959-04-17 00:00:00'),\n",
       " Timestamp('1959-04-20 00:00:00'),\n",
       " Timestamp('1959-05-14 00:00:00'),\n",
       " Timestamp('1959-05-28 00:00:00'),\n",
       " Timestamp('1959-05-29 00:00:00'),\n",
       " Timestamp('1959-07-01 00:00:00'),\n",
       " Timestamp('1959-07-02 00:00:00'),\n",
       " Timestamp('1959-07-06 00:00:00'),\n",
       " Timestamp('1959-07-07 00:00:00'),\n",
       " Timestamp('1959-07-08 00:00:00'),\n",
       " Timestamp('1959-07-28 00:00:00'),\n",
       " Timestamp('1959-07-29 00:00:00'),\n",
       " Timestamp('1959-08-03 00:00:00'),\n",
       " Timestamp('1961-01-27 00:00:00'),\n",
       " Timestamp('1961-01-30 00:00:00'),\n",
       " Timestamp('1961-02-02 00:00:00'),\n",
       " Timestamp('1961-02-20 00:00:00'),\n",
       " Timestamp('1961-02-21 00:00:00'),\n",
       " Timestamp('1961-02-23 00:00:00'),\n",
       " Timestamp('1961-02-24 00:00:00'),\n",
       " Timestamp('1961-02-27 00:00:00'),\n",
       " Timestamp('1961-02-28 00:00:00'),\n",
       " Timestamp('1961-03-02 00:00:00'),\n",
       " Timestamp('1961-03-03 00:00:00'),\n",
       " Timestamp('1961-03-06 00:00:00'),\n",
       " Timestamp('1961-03-16 00:00:00'),\n",
       " Timestamp('1961-03-20 00:00:00'),\n",
       " Timestamp('1961-03-29 00:00:00'),\n",
       " Timestamp('1961-03-30 00:00:00'),\n",
       " Timestamp('1961-04-03 00:00:00'),\n",
       " Timestamp('1961-04-04 00:00:00'),\n",
       " Timestamp('1961-04-07 00:00:00'),\n",
       " Timestamp('1961-04-10 00:00:00'),\n",
       " Timestamp('1961-04-11 00:00:00'),\n",
       " Timestamp('1961-04-17 00:00:00'),\n",
       " Timestamp('1961-11-01 00:00:00'),\n",
       " Timestamp('1961-11-02 00:00:00'),\n",
       " Timestamp('1961-11-03 00:00:00'),\n",
       " Timestamp('1961-11-06 00:00:00'),\n",
       " Timestamp('1961-11-08 00:00:00'),\n",
       " Timestamp('1961-11-10 00:00:00'),\n",
       " Timestamp('1961-11-13 00:00:00'),\n",
       " Timestamp('1961-11-14 00:00:00'),\n",
       " Timestamp('1961-11-15 00:00:00'),\n",
       " Timestamp('1961-11-20 00:00:00'),\n",
       " Timestamp('1961-11-21 00:00:00'),\n",
       " Timestamp('1961-11-24 00:00:00'),\n",
       " Timestamp('1961-11-27 00:00:00'),\n",
       " Timestamp('1961-12-04 00:00:00'),\n",
       " Timestamp('1961-12-08 00:00:00'),\n",
       " Timestamp('1961-12-11 00:00:00'),\n",
       " Timestamp('1961-12-12 00:00:00'),\n",
       " Timestamp('1963-09-03 00:00:00'),\n",
       " Timestamp('1963-09-05 00:00:00'),\n",
       " Timestamp('1963-09-11 00:00:00'),\n",
       " Timestamp('1963-09-19 00:00:00'),\n",
       " Timestamp('1963-09-20 00:00:00'),\n",
       " Timestamp('1963-10-18 00:00:00'),\n",
       " Timestamp('1963-10-21 00:00:00'),\n",
       " Timestamp('1963-10-25 00:00:00'),\n",
       " Timestamp('1963-10-28 00:00:00'),\n",
       " Timestamp('1963-12-17 00:00:00'),\n",
       " Timestamp('1963-12-31 00:00:00'),\n",
       " Timestamp('1964-01-02 00:00:00'),\n",
       " Timestamp('1964-01-03 00:00:00'),\n",
       " Timestamp('1964-01-06 00:00:00'),\n",
       " Timestamp('1964-01-07 00:00:00'),\n",
       " Timestamp('1964-01-08 00:00:00'),\n",
       " Timestamp('1964-01-09 00:00:00'),\n",
       " Timestamp('1964-01-14 00:00:00'),\n",
       " Timestamp('1964-01-15 00:00:00'),\n",
       " Timestamp('1964-01-22 00:00:00'),\n",
       " Timestamp('1964-01-23 00:00:00'),\n",
       " Timestamp('1964-01-24 00:00:00'),\n",
       " Timestamp('1964-02-07 00:00:00'),\n",
       " Timestamp('1964-02-11 00:00:00'),\n",
       " Timestamp('1964-02-12 00:00:00'),\n",
       " Timestamp('1964-02-20 00:00:00'),\n",
       " Timestamp('1964-02-24 00:00:00'),\n",
       " Timestamp('1964-02-26 00:00:00'),\n",
       " Timestamp('1964-03-02 00:00:00'),\n",
       " Timestamp('1964-03-03 00:00:00'),\n",
       " Timestamp('1964-03-06 00:00:00'),\n",
       " Timestamp('1964-03-09 00:00:00'),\n",
       " Timestamp('1964-03-10 00:00:00'),\n",
       " Timestamp('1964-03-11 00:00:00'),\n",
       " Timestamp('1964-03-12 00:00:00'),\n",
       " Timestamp('1964-03-13 00:00:00'),\n",
       " Timestamp('1964-03-17 00:00:00'),\n",
       " Timestamp('1964-03-18 00:00:00'),\n",
       " Timestamp('1964-04-02 00:00:00'),\n",
       " Timestamp('1964-04-03 00:00:00'),\n",
       " Timestamp('1964-04-06 00:00:00'),\n",
       " Timestamp('1964-04-15 00:00:00'),\n",
       " Timestamp('1964-04-16 00:00:00'),\n",
       " Timestamp('1964-04-17 00:00:00'),\n",
       " Timestamp('1964-05-05 00:00:00'),\n",
       " Timestamp('1964-05-06 00:00:00'),\n",
       " Timestamp('1964-05-07 00:00:00'),\n",
       " Timestamp('1964-05-12 00:00:00'),\n",
       " Timestamp('1964-06-25 00:00:00'),\n",
       " Timestamp('1964-06-26 00:00:00'),\n",
       " Timestamp('1964-06-29 00:00:00'),\n",
       " Timestamp('1964-06-30 00:00:00'),\n",
       " Timestamp('1964-07-01 00:00:00'),\n",
       " Timestamp('1964-07-02 00:00:00'),\n",
       " Timestamp('1964-07-06 00:00:00'),\n",
       " Timestamp('1964-07-07 00:00:00'),\n",
       " Timestamp('1964-07-09 00:00:00'),\n",
       " Timestamp('1964-07-10 00:00:00'),\n",
       " Timestamp('1964-07-16 00:00:00'),\n",
       " Timestamp('1964-07-17 00:00:00'),\n",
       " Timestamp('1964-09-25 00:00:00'),\n",
       " Timestamp('1964-09-28 00:00:00'),\n",
       " Timestamp('1964-10-02 00:00:00'),\n",
       " Timestamp('1964-10-05 00:00:00'),\n",
       " Timestamp('1964-10-06 00:00:00'),\n",
       " Timestamp('1964-10-07 00:00:00'),\n",
       " Timestamp('1964-10-08 00:00:00'),\n",
       " Timestamp('1964-10-09 00:00:00'),\n",
       " Timestamp('1964-10-12 00:00:00'),\n",
       " Timestamp('1964-11-16 00:00:00'),\n",
       " Timestamp('1964-11-17 00:00:00'),\n",
       " Timestamp('1964-11-18 00:00:00'),\n",
       " Timestamp('1964-11-20 00:00:00'),\n",
       " Timestamp('1965-01-18 00:00:00'),\n",
       " Timestamp('1965-01-19 00:00:00'),\n",
       " Timestamp('1965-01-22 00:00:00'),\n",
       " Timestamp('1965-01-25 00:00:00'),\n",
       " Timestamp('1965-01-26 00:00:00'),\n",
       " Timestamp('1965-01-27 00:00:00'),\n",
       " Timestamp('1965-01-28 00:00:00'),\n",
       " Timestamp('1965-01-29 00:00:00'),\n",
       " Timestamp('1965-02-01 00:00:00'),\n",
       " Timestamp('1965-02-03 00:00:00'),\n",
       " Timestamp('1965-04-12 00:00:00'),\n",
       " Timestamp('1965-04-13 00:00:00'),\n",
       " Timestamp('1965-04-14 00:00:00'),\n",
       " Timestamp('1965-04-19 00:00:00'),\n",
       " Timestamp('1965-04-22 00:00:00'),\n",
       " Timestamp('1965-04-23 00:00:00'),\n",
       " Timestamp('1965-04-26 00:00:00'),\n",
       " Timestamp('1965-04-27 00:00:00'),\n",
       " Timestamp('1965-04-30 00:00:00'),\n",
       " Timestamp('1965-05-03 00:00:00'),\n",
       " Timestamp('1965-05-04 00:00:00'),\n",
       " Timestamp('1965-05-05 00:00:00'),\n",
       " Timestamp('1965-05-06 00:00:00'),\n",
       " Timestamp('1965-05-12 00:00:00'),\n",
       " Timestamp('1965-05-13 00:00:00'),\n",
       " Timestamp('1965-09-27 00:00:00'),\n",
       " Timestamp('1965-10-08 00:00:00'),\n",
       " Timestamp('1965-10-11 00:00:00'),\n",
       " Timestamp('1965-10-15 00:00:00'),\n",
       " Timestamp('1965-10-18 00:00:00'),\n",
       " Timestamp('1965-10-19 00:00:00'),\n",
       " Timestamp('1965-10-21 00:00:00'),\n",
       " Timestamp('1965-10-22 00:00:00'),\n",
       " Timestamp('1965-10-26 00:00:00'),\n",
       " Timestamp('1965-10-27 00:00:00'),\n",
       " Timestamp('1965-11-12 00:00:00'),\n",
       " Timestamp('1965-11-15 00:00:00'),\n",
       " Timestamp('1966-01-05 00:00:00'),\n",
       " Timestamp('1966-01-06 00:00:00'),\n",
       " Timestamp('1966-01-07 00:00:00'),\n",
       " Timestamp('1966-01-10 00:00:00'),\n",
       " Timestamp('1966-01-11 00:00:00'),\n",
       " Timestamp('1966-01-14 00:00:00'),\n",
       " Timestamp('1966-01-17 00:00:00'),\n",
       " Timestamp('1966-01-18 00:00:00'),\n",
       " Timestamp('1966-02-09 00:00:00'),\n",
       " Timestamp('1967-05-04 00:00:00'),\n",
       " Timestamp('1967-05-05 00:00:00'),\n",
       " Timestamp('1967-05-08 00:00:00'),\n",
       " Timestamp('1967-07-31 00:00:00'),\n",
       " Timestamp('1967-08-01 00:00:00'),\n",
       " Timestamp('1967-08-02 00:00:00'),\n",
       " Timestamp('1967-08-04 00:00:00'),\n",
       " Timestamp('1967-09-13 00:00:00'),\n",
       " Timestamp('1967-09-14 00:00:00'),\n",
       " Timestamp('1967-09-15 00:00:00'),\n",
       " Timestamp('1967-09-18 00:00:00'),\n",
       " Timestamp('1967-09-21 00:00:00'),\n",
       " Timestamp('1967-09-22 00:00:00'),\n",
       " Timestamp('1967-09-25 00:00:00'),\n",
       " Timestamp('1968-04-29 00:00:00'),\n",
       " Timestamp('1968-05-02 00:00:00'),\n",
       " Timestamp('1968-05-03 00:00:00'),\n",
       " Timestamp('1968-05-07 00:00:00'),\n",
       " Timestamp('1968-05-08 00:00:00'),\n",
       " Timestamp('1968-06-03 00:00:00'),\n",
       " Timestamp('1968-06-04 00:00:00'),\n",
       " Timestamp('1968-06-06 00:00:00'),\n",
       " Timestamp('1968-06-07 00:00:00'),\n",
       " Timestamp('1968-06-10 00:00:00'),\n",
       " Timestamp('1968-06-11 00:00:00'),\n",
       " Timestamp('1968-07-08 00:00:00'),\n",
       " Timestamp('1968-07-09 00:00:00'),\n",
       " Timestamp('1968-07-11 00:00:00'),\n",
       " Timestamp('1968-09-24 00:00:00'),\n",
       " Timestamp('1968-09-30 00:00:00'),\n",
       " Timestamp('1968-10-01 00:00:00'),\n",
       " Timestamp('1968-10-03 00:00:00'),\n",
       " Timestamp('1968-10-04 00:00:00'),\n",
       " Timestamp('1968-10-08 00:00:00'),\n",
       " Timestamp('1968-10-17 00:00:00'),\n",
       " Timestamp('1968-10-18 00:00:00'),\n",
       " Timestamp('1968-10-21 00:00:00'),\n",
       " Timestamp('1968-11-13 00:00:00'),\n",
       " Timestamp('1968-11-14 00:00:00'),\n",
       " Timestamp('1968-11-15 00:00:00'),\n",
       " Timestamp('1968-11-18 00:00:00'),\n",
       " Timestamp('1968-11-19 00:00:00'),\n",
       " Timestamp('1968-11-22 00:00:00'),\n",
       " Timestamp('1968-11-25 00:00:00'),\n",
       " Timestamp('1968-11-26 00:00:00'),\n",
       " Timestamp('1968-11-27 00:00:00'),\n",
       " Timestamp('1968-11-29 00:00:00'),\n",
       " Timestamp('1972-03-06 00:00:00'),\n",
       " Timestamp('1972-03-07 00:00:00'),\n",
       " Timestamp('1972-03-08 00:00:00'),\n",
       " Timestamp('1972-04-05 00:00:00'),\n",
       " Timestamp('1972-04-06 00:00:00'),\n",
       " Timestamp('1972-04-07 00:00:00'),\n",
       " Timestamp('1972-04-11 00:00:00'),\n",
       " Timestamp('1972-04-12 00:00:00'),\n",
       " Timestamp('1972-05-24 00:00:00'),\n",
       " Timestamp('1972-05-25 00:00:00'),\n",
       " Timestamp('1972-05-26 00:00:00'),\n",
       " Timestamp('1972-08-08 00:00:00'),\n",
       " Timestamp('1972-08-09 00:00:00'),\n",
       " Timestamp('1972-08-10 00:00:00'),\n",
       " Timestamp('1972-08-11 00:00:00'),\n",
       " Timestamp('1972-08-14 00:00:00'),\n",
       " Timestamp('1972-11-01 00:00:00'),\n",
       " Timestamp('1972-11-02 00:00:00'),\n",
       " Timestamp('1972-11-03 00:00:00'),\n",
       " Timestamp('1972-11-14 00:00:00'),\n",
       " Timestamp('1972-11-16 00:00:00'),\n",
       " Timestamp('1972-11-17 00:00:00'),\n",
       " Timestamp('1972-11-20 00:00:00'),\n",
       " Timestamp('1972-11-21 00:00:00'),\n",
       " Timestamp('1972-11-22 00:00:00'),\n",
       " Timestamp('1972-11-24 00:00:00'),\n",
       " Timestamp('1972-12-01 00:00:00'),\n",
       " Timestamp('1972-12-04 00:00:00'),\n",
       " Timestamp('1972-12-06 00:00:00'),\n",
       " Timestamp('1972-12-07 00:00:00'),\n",
       " Timestamp('1972-12-08 00:00:00'),\n",
       " Timestamp('1972-12-11 00:00:00'),\n",
       " Timestamp('1973-01-03 00:00:00'),\n",
       " Timestamp('1973-01-05 00:00:00'),\n",
       " Timestamp('1973-01-11 00:00:00'),\n",
       " Timestamp('1980-07-17 00:00:00'),\n",
       " Timestamp('1980-07-18 00:00:00'),\n",
       " Timestamp('1980-07-21 00:00:00'),\n",
       " Timestamp('1980-08-07 00:00:00'),\n",
       " Timestamp('1980-08-08 00:00:00'),\n",
       " Timestamp('1980-08-11 00:00:00'),\n",
       " Timestamp('1980-08-14 00:00:00'),\n",
       " Timestamp('1980-08-15 00:00:00'),\n",
       " Timestamp('1980-08-22 00:00:00'),\n",
       " Timestamp('1980-09-03 00:00:00'),\n",
       " Timestamp('1980-09-16 00:00:00'),\n",
       " Timestamp('1980-09-17 00:00:00'),\n",
       " Timestamp('1980-09-19 00:00:00'),\n",
       " Timestamp('1980-09-22 00:00:00'),\n",
       " Timestamp('1980-10-06 00:00:00'),\n",
       " Timestamp('1980-10-13 00:00:00'),\n",
       " Timestamp('1980-10-15 00:00:00'),\n",
       " Timestamp('1980-11-12 00:00:00'),\n",
       " Timestamp('1980-11-13 00:00:00'),\n",
       " Timestamp('1980-11-14 00:00:00'),\n",
       " Timestamp('1980-11-17 00:00:00'),\n",
       " Timestamp('1980-11-18 00:00:00'),\n",
       " Timestamp('1980-11-20 00:00:00'),\n",
       " Timestamp('1980-11-28 00:00:00'),\n",
       " Timestamp('1982-11-03 00:00:00'),\n",
       " Timestamp('1982-11-09 00:00:00'),\n",
       " Timestamp('1983-01-06 00:00:00'),\n",
       " Timestamp('1983-01-10 00:00:00'),\n",
       " Timestamp('1983-02-07 00:00:00'),\n",
       " Timestamp('1983-02-10 00:00:00'),\n",
       " Timestamp('1983-02-11 00:00:00'),\n",
       " Timestamp('1983-02-14 00:00:00'),\n",
       " Timestamp('1983-02-24 00:00:00'),\n",
       " Timestamp('1983-02-25 00:00:00'),\n",
       " Timestamp('1983-03-01 00:00:00'),\n",
       " Timestamp('1983-03-02 00:00:00'),\n",
       " Timestamp('1983-03-03 00:00:00'),\n",
       " Timestamp('1983-03-04 00:00:00'),\n",
       " Timestamp('1983-04-11 00:00:00'),\n",
       " Timestamp('1983-04-12 00:00:00'),\n",
       " Timestamp('1983-04-13 00:00:00'),\n",
       " Timestamp('1983-04-14 00:00:00'),\n",
       " Timestamp('1983-04-15 00:00:00'),\n",
       " Timestamp('1983-04-18 00:00:00'),\n",
       " Timestamp('1983-04-20 00:00:00'),\n",
       " Timestamp('1983-04-26 00:00:00'),\n",
       " Timestamp('1983-04-28 00:00:00'),\n",
       " Timestamp('1983-04-29 00:00:00'),\n",
       " Timestamp('1983-05-06 00:00:00'),\n",
       " Timestamp('1983-05-25 00:00:00'),\n",
       " Timestamp('1983-06-15 00:00:00'),\n",
       " Timestamp('1983-06-16 00:00:00'),\n",
       " Timestamp('1983-06-21 00:00:00'),\n",
       " Timestamp('1983-06-22 00:00:00'),\n",
       " Timestamp('1983-10-10 00:00:00'),\n",
       " Timestamp('1985-01-21 00:00:00'),\n",
       " Timestamp('1985-01-22 00:00:00'),\n",
       " Timestamp('1985-01-23 00:00:00'),\n",
       " Timestamp('1985-01-25 00:00:00'),\n",
       " Timestamp('1985-01-28 00:00:00'),\n",
       " Timestamp('1985-01-29 00:00:00'),\n",
       " Timestamp('1985-01-30 00:00:00'),\n",
       " Timestamp('1985-01-31 00:00:00'),\n",
       " Timestamp('1985-02-04 00:00:00'),\n",
       " Timestamp('1985-02-05 00:00:00'),\n",
       " Timestamp('1985-02-07 00:00:00'),\n",
       " Timestamp('1985-02-08 00:00:00'),\n",
       " Timestamp('1985-02-13 00:00:00'),\n",
       " Timestamp('1985-04-25 00:00:00'),\n",
       " Timestamp('1985-05-10 00:00:00'),\n",
       " Timestamp('1985-05-13 00:00:00'),\n",
       " Timestamp('1985-05-16 00:00:00'),\n",
       " Timestamp('1985-05-17 00:00:00'),\n",
       " Timestamp('1985-05-20 00:00:00'),\n",
       " Timestamp('1985-06-04 00:00:00'),\n",
       " Timestamp('1985-06-05 00:00:00'),\n",
       " Timestamp('1985-06-06 00:00:00'),\n",
       " Timestamp('1985-06-27 00:00:00'),\n",
       " Timestamp('1985-06-28 00:00:00'),\n",
       " Timestamp('1985-07-01 00:00:00'),\n",
       " Timestamp('1985-07-05 00:00:00'),\n",
       " Timestamp('1985-07-11 00:00:00'),\n",
       " Timestamp('1985-07-12 00:00:00'),\n",
       " Timestamp('1985-07-16 00:00:00'),\n",
       " Timestamp('1985-07-17 00:00:00'),\n",
       " Timestamp('1985-11-11 00:00:00'),\n",
       " Timestamp('1985-11-12 00:00:00'),\n",
       " Timestamp('1985-11-14 00:00:00'),\n",
       " Timestamp('1985-11-21 00:00:00'),\n",
       " Timestamp('1985-11-22 00:00:00'),\n",
       " Timestamp('1985-11-27 00:00:00'),\n",
       " Timestamp('1985-12-04 00:00:00'),\n",
       " Timestamp('1985-12-09 00:00:00'),\n",
       " Timestamp('1985-12-10 00:00:00'),\n",
       " Timestamp('1985-12-11 00:00:00'),\n",
       " Timestamp('1985-12-12 00:00:00'),\n",
       " Timestamp('1985-12-13 00:00:00'),\n",
       " Timestamp('1985-12-16 00:00:00'),\n",
       " Timestamp('1986-01-07 00:00:00'),\n",
       " Timestamp('1986-02-03 00:00:00'),\n",
       " Timestamp('1986-02-07 00:00:00'),\n",
       " Timestamp('1986-02-10 00:00:00'),\n",
       " Timestamp('1986-02-13 00:00:00'),\n",
       " Timestamp('1986-02-14 00:00:00'),\n",
       " Timestamp('1986-02-18 00:00:00'),\n",
       " Timestamp('1986-02-21 00:00:00'),\n",
       " Timestamp('1986-02-27 00:00:00'),\n",
       " Timestamp('1986-02-28 00:00:00'),\n",
       " Timestamp('1986-03-11 00:00:00'),\n",
       " Timestamp('1986-03-12 00:00:00'),\n",
       " Timestamp('1986-03-13 00:00:00'),\n",
       " Timestamp('1986-03-14 00:00:00'),\n",
       " Timestamp('1986-03-26 00:00:00'),\n",
       " Timestamp('1986-03-27 00:00:00'),\n",
       " Timestamp('1986-04-16 00:00:00'),\n",
       " Timestamp('1986-04-17 00:00:00'),\n",
       " Timestamp('1986-04-21 00:00:00'),\n",
       " Timestamp('1986-05-27 00:00:00'),\n",
       " Timestamp('1986-05-28 00:00:00'),\n",
       " Timestamp('1986-05-29 00:00:00'),\n",
       " Timestamp('1986-06-25 00:00:00'),\n",
       " Timestamp('1986-06-27 00:00:00'),\n",
       " Timestamp('1986-06-30 00:00:00'),\n",
       " Timestamp('1986-07-01 00:00:00'),\n",
       " Timestamp('1986-07-02 00:00:00'),\n",
       " Timestamp('1986-08-26 00:00:00'),\n",
       " Timestamp('1986-08-27 00:00:00'),\n",
       " Timestamp('1986-09-04 00:00:00'),\n",
       " Timestamp('1986-12-02 00:00:00'),\n",
       " Timestamp('1987-01-07 00:00:00'),\n",
       " Timestamp('1987-01-08 00:00:00'),\n",
       " Timestamp('1987-01-09 00:00:00'),\n",
       " Timestamp('1987-01-12 00:00:00'),\n",
       " Timestamp('1987-01-14 00:00:00'),\n",
       " Timestamp('1987-01-15 00:00:00'),\n",
       " Timestamp('1987-01-16 00:00:00'),\n",
       " Timestamp('1987-01-19 00:00:00'),\n",
       " Timestamp('1987-01-22 00:00:00'),\n",
       " Timestamp('1987-01-28 00:00:00'),\n",
       " Timestamp('1987-02-02 00:00:00'),\n",
       " Timestamp('1987-02-04 00:00:00'),\n",
       " Timestamp('1987-02-05 00:00:00'),\n",
       " Timestamp('1987-02-17 00:00:00'),\n",
       " Timestamp('1987-02-19 00:00:00'),\n",
       " Timestamp('1987-03-04 00:00:00'),\n",
       " Timestamp('1987-03-05 00:00:00'),\n",
       " Timestamp('1987-03-06 00:00:00'),\n",
       " Timestamp('1987-03-10 00:00:00'),\n",
       " Timestamp('1987-03-12 00:00:00'),\n",
       " Timestamp('1987-03-17 00:00:00'),\n",
       " Timestamp('1987-03-18 00:00:00'),\n",
       " Timestamp('1987-03-19 00:00:00'),\n",
       " Timestamp('1987-03-20 00:00:00'),\n",
       " Timestamp('1987-03-23 00:00:00'),\n",
       " Timestamp('1987-03-24 00:00:00'),\n",
       " Timestamp('1987-04-06 00:00:00'),\n",
       " Timestamp('1987-06-15 00:00:00'),\n",
       " Timestamp('1987-06-16 00:00:00'),\n",
       " Timestamp('1987-06-17 00:00:00'),\n",
       " Timestamp('1987-06-18 00:00:00'),\n",
       " Timestamp('1987-06-19 00:00:00'),\n",
       " Timestamp('1987-06-22 00:00:00'),\n",
       " Timestamp('1987-07-14 00:00:00'),\n",
       " Timestamp('1987-07-16 00:00:00'),\n",
       " Timestamp('1987-07-17 00:00:00'),\n",
       " Timestamp('1987-07-29 00:00:00'),\n",
       " Timestamp('1987-07-30 00:00:00'),\n",
       " Timestamp('1987-07-31 00:00:00'),\n",
       " Timestamp('1987-08-06 00:00:00'),\n",
       " Timestamp('1987-08-07 00:00:00'),\n",
       " Timestamp('1987-08-10 00:00:00'),\n",
       " Timestamp('1987-08-11 00:00:00'),\n",
       " Timestamp('1987-08-13 00:00:00'),\n",
       " Timestamp('1987-08-20 00:00:00'),\n",
       " Timestamp('1987-08-21 00:00:00'),\n",
       " Timestamp('1987-08-25 00:00:00'),\n",
       " Timestamp('1989-07-26 00:00:00'),\n",
       " Timestamp('1989-07-27 00:00:00'),\n",
       " Timestamp('1989-07-28 00:00:00'),\n",
       " Timestamp('1989-07-31 00:00:00'),\n",
       " Timestamp('1989-08-07 00:00:00'),\n",
       " Timestamp('1989-08-24 00:00:00'),\n",
       " Timestamp('1989-08-28 00:00:00'),\n",
       " Timestamp('1989-09-01 00:00:00'),\n",
       " Timestamp('1989-10-03 00:00:00'),\n",
       " Timestamp('1989-10-04 00:00:00'),\n",
       " Timestamp('1989-10-05 00:00:00'),\n",
       " Timestamp('1989-10-06 00:00:00'),\n",
       " Timestamp('1989-10-09 00:00:00'),\n",
       " Timestamp('1990-05-29 00:00:00'),\n",
       " Timestamp('1990-05-30 00:00:00'),\n",
       " Timestamp('1990-05-31 00:00:00'),\n",
       " Timestamp('1990-06-01 00:00:00'),\n",
       " Timestamp('1990-06-04 00:00:00'),\n",
       " Timestamp('1990-07-16 00:00:00'),\n",
       " Timestamp('1991-02-13 00:00:00'),\n",
       " Timestamp('1991-02-15 00:00:00'),\n",
       " Timestamp('1991-02-19 00:00:00'),\n",
       " Timestamp('1991-03-01 00:00:00'),\n",
       " Timestamp('1991-03-05 00:00:00'),\n",
       " Timestamp('1991-04-02 00:00:00'),\n",
       " Timestamp('1991-04-04 00:00:00'),\n",
       " Timestamp('1991-04-12 00:00:00'),\n",
       " Timestamp('1991-04-15 00:00:00'),\n",
       " Timestamp('1991-04-16 00:00:00'),\n",
       " Timestamp('1991-04-17 00:00:00'),\n",
       " Timestamp('1991-08-06 00:00:00'),\n",
       " Timestamp('1991-08-22 00:00:00'),\n",
       " Timestamp('1991-08-23 00:00:00'),\n",
       " Timestamp('1991-08-28 00:00:00'),\n",
       " Timestamp('1991-11-12 00:00:00'),\n",
       " Timestamp('1991-11-13 00:00:00'),\n",
       " Timestamp('1991-12-24 00:00:00'),\n",
       " Timestamp('1991-12-26 00:00:00'),\n",
       " Timestamp('1991-12-27 00:00:00'),\n",
       " Timestamp('1991-12-30 00:00:00'),\n",
       " Timestamp('1991-12-31 00:00:00'),\n",
       " Timestamp('1992-01-02 00:00:00'),\n",
       " Timestamp('1992-01-03 00:00:00'),\n",
       " Timestamp('1992-01-14 00:00:00'),\n",
       " Timestamp('1992-01-15 00:00:00'),\n",
       " Timestamp('1992-07-29 00:00:00'),\n",
       " Timestamp('1992-07-30 00:00:00'),\n",
       " Timestamp('1992-07-31 00:00:00'),\n",
       " Timestamp('1992-08-03 00:00:00'),\n",
       " Timestamp('1992-09-14 00:00:00'),\n",
       " Timestamp('1992-11-20 00:00:00'),\n",
       " Timestamp('1992-11-24 00:00:00'),\n",
       " Timestamp('1992-11-25 00:00:00'),\n",
       " Timestamp('1992-11-27 00:00:00'),\n",
       " Timestamp('1992-11-30 00:00:00'),\n",
       " Timestamp('1992-12-04 00:00:00'),\n",
       " Timestamp('1992-12-07 00:00:00'),\n",
       " Timestamp('1992-12-08 00:00:00'),\n",
       " Timestamp('1992-12-18 00:00:00'),\n",
       " Timestamp('1993-02-01 00:00:00'),\n",
       " Timestamp('1993-02-02 00:00:00'),\n",
       " Timestamp('1993-02-03 00:00:00'),\n",
       " Timestamp('1993-02-04 00:00:00'),\n",
       " Timestamp('1993-03-08 00:00:00'),\n",
       " Timestamp('1993-03-10 00:00:00'),\n",
       " Timestamp('1993-08-19 00:00:00'),\n",
       " Timestamp('1993-08-24 00:00:00'),\n",
       " Timestamp('1993-08-25 00:00:00'),\n",
       " Timestamp('1993-08-26 00:00:00'),\n",
       " Timestamp('1993-08-30 00:00:00'),\n",
       " Timestamp('1993-08-31 00:00:00'),\n",
       " Timestamp('1993-10-14 00:00:00'),\n",
       " Timestamp('1993-10-15 00:00:00'),\n",
       " Timestamp('1993-12-27 00:00:00'),\n",
       " Timestamp('1993-12-28 00:00:00'),\n",
       " Timestamp('1994-01-10 00:00:00'),\n",
       " Timestamp('1994-01-27 00:00:00'),\n",
       " Timestamp('1994-01-28 00:00:00'),\n",
       " Timestamp('1994-01-31 00:00:00'),\n",
       " Timestamp('1994-02-02 00:00:00'),\n",
       " Timestamp('1995-02-14 00:00:00'),\n",
       " Timestamp('1995-02-15 00:00:00'),\n",
       " Timestamp('1995-02-16 00:00:00'),\n",
       " Timestamp('1995-02-23 00:00:00'),\n",
       " Timestamp('1995-02-24 00:00:00'),\n",
       " Timestamp('1995-03-10 00:00:00'),\n",
       " Timestamp('1995-03-13 00:00:00'),\n",
       " Timestamp('1995-03-14 00:00:00'),\n",
       " Timestamp('1995-03-16 00:00:00'),\n",
       " Timestamp('1995-03-17 00:00:00'),\n",
       " Timestamp('1995-03-20 00:00:00'),\n",
       " Timestamp('1995-03-24 00:00:00'),\n",
       " Timestamp('1995-03-27 00:00:00'),\n",
       " Timestamp('1995-03-28 00:00:00'),\n",
       " Timestamp('1995-04-04 00:00:00'),\n",
       " Timestamp('1995-04-05 00:00:00'),\n",
       " Timestamp('1995-04-06 00:00:00'),\n",
       " Timestamp('1995-04-07 00:00:00'),\n",
       " Timestamp('1995-04-10 00:00:00'),\n",
       " Timestamp('1995-04-12 00:00:00'),\n",
       " Timestamp('1995-04-13 00:00:00'),\n",
       " Timestamp('1995-04-24 00:00:00'),\n",
       " Timestamp('1995-04-27 00:00:00'),\n",
       " Timestamp('1995-04-28 00:00:00'),\n",
       " Timestamp('1995-05-02 00:00:00'),\n",
       " Timestamp('1995-05-03 00:00:00'),\n",
       " Timestamp('1995-05-04 00:00:00'),\n",
       " Timestamp('1995-05-08 00:00:00'),\n",
       " Timestamp('1995-05-10 00:00:00'),\n",
       " Timestamp('1995-05-11 00:00:00'),\n",
       " Timestamp('1995-05-12 00:00:00'),\n",
       " Timestamp('1995-05-15 00:00:00'),\n",
       " Timestamp('1995-05-16 00:00:00'),\n",
       " Timestamp('1995-05-23 00:00:00'),\n",
       " Timestamp('1995-05-24 00:00:00'),\n",
       " Timestamp('1995-05-31 00:00:00'),\n",
       " Timestamp('1995-06-01 00:00:00'),\n",
       " Timestamp('1995-06-05 00:00:00'),\n",
       " Timestamp('1995-06-13 00:00:00'),\n",
       " Timestamp('1995-06-14 00:00:00'),\n",
       " Timestamp('1995-06-15 00:00:00'),\n",
       " Timestamp('1995-06-16 00:00:00'),\n",
       " Timestamp('1995-06-19 00:00:00'),\n",
       " Timestamp('1995-06-22 00:00:00'),\n",
       " Timestamp('1995-07-06 00:00:00'),\n",
       " Timestamp('1995-07-07 00:00:00'),\n",
       " Timestamp('1995-07-10 00:00:00'),\n",
       " Timestamp('1995-07-12 00:00:00'),\n",
       " Timestamp('1995-07-13 00:00:00'),\n",
       " Timestamp('1995-07-17 00:00:00'),\n",
       " Timestamp('1995-07-27 00:00:00'),\n",
       " Timestamp('1995-09-05 00:00:00'),\n",
       " Timestamp('1995-09-06 00:00:00'),\n",
       " Timestamp('1995-09-07 00:00:00'),\n",
       " Timestamp('1995-09-08 00:00:00'),\n",
       " Timestamp('1995-09-11 00:00:00'),\n",
       " Timestamp('1995-09-12 00:00:00'),\n",
       " Timestamp('1995-09-13 00:00:00'),\n",
       " Timestamp('1995-09-14 00:00:00'),\n",
       " Timestamp('1995-09-19 00:00:00'),\n",
       " Timestamp('1995-09-20 00:00:00'),\n",
       " Timestamp('1995-10-17 00:00:00'),\n",
       " Timestamp('1995-10-18 00:00:00'),\n",
       " Timestamp('1995-10-19 00:00:00'),\n",
       " Timestamp('1995-11-08 00:00:00'),\n",
       " Timestamp('1995-11-09 00:00:00'),\n",
       " Timestamp('1995-11-15 00:00:00'),\n",
       " Timestamp('1995-11-16 00:00:00'),\n",
       " Timestamp('1995-11-17 00:00:00'),\n",
       " Timestamp('1995-11-21 00:00:00'),\n",
       " Timestamp('1995-11-27 00:00:00'),\n",
       " Timestamp('1995-11-28 00:00:00'),\n",
       " Timestamp('1995-11-29 00:00:00'),\n",
       " Timestamp('1995-12-04 00:00:00'),\n",
       " Timestamp('1995-12-05 00:00:00'),\n",
       " Timestamp('1995-12-06 00:00:00'),\n",
       " Timestamp('1995-12-13 00:00:00'),\n",
       " Timestamp('1996-01-29 00:00:00'),\n",
       " Timestamp('1996-01-30 00:00:00'),\n",
       " Timestamp('1996-01-31 00:00:00'),\n",
       " Timestamp('1996-02-01 00:00:00'),\n",
       " Timestamp('1996-02-05 00:00:00'),\n",
       " Timestamp('1996-02-06 00:00:00'),\n",
       " Timestamp('1996-02-07 00:00:00'),\n",
       " Timestamp('1996-02-08 00:00:00'),\n",
       " Timestamp('1996-02-09 00:00:00'),\n",
       " Timestamp('1996-02-12 00:00:00'),\n",
       " Timestamp('1996-05-13 00:00:00'),\n",
       " Timestamp('1996-05-14 00:00:00'),\n",
       " Timestamp('1996-05-17 00:00:00'),\n",
       " Timestamp('1996-05-20 00:00:00'),\n",
       " Timestamp('1996-05-22 00:00:00'),\n",
       " Timestamp('1996-05-24 00:00:00'),\n",
       " Timestamp('1996-09-13 00:00:00'),\n",
       " Timestamp('1996-09-16 00:00:00'),\n",
       " Timestamp('1996-09-20 00:00:00'),\n",
       " Timestamp('1996-09-30 00:00:00'),\n",
       " Timestamp('1996-10-01 00:00:00'),\n",
       " Timestamp('1996-10-02 00:00:00'),\n",
       " Timestamp('1996-10-04 00:00:00'),\n",
       " Timestamp('1996-10-07 00:00:00'),\n",
       " Timestamp('1996-10-14 00:00:00'),\n",
       " Timestamp('1996-10-16 00:00:00'),\n",
       " Timestamp('1996-10-17 00:00:00'),\n",
       " Timestamp('1996-10-18 00:00:00'),\n",
       " Timestamp('1996-11-05 00:00:00'),\n",
       " Timestamp('1996-11-06 00:00:00'),\n",
       " Timestamp('1996-11-07 00:00:00'),\n",
       " Timestamp('1996-11-08 00:00:00'),\n",
       " Timestamp('1996-11-11 00:00:00'),\n",
       " Timestamp('1996-11-14 00:00:00'),\n",
       " Timestamp('1996-11-15 00:00:00'),\n",
       " Timestamp('1996-11-19 00:00:00'),\n",
       " Timestamp('1996-11-20 00:00:00'),\n",
       " Timestamp('1996-11-22 00:00:00'),\n",
       " Timestamp('1996-11-25 00:00:00'),\n",
       " Timestamp('1997-01-10 00:00:00'),\n",
       " Timestamp('1997-01-13 00:00:00'),\n",
       " Timestamp('1997-01-14 00:00:00'),\n",
       " Timestamp('1997-01-16 00:00:00'),\n",
       " Timestamp('1997-01-17 00:00:00'),\n",
       " Timestamp('1997-01-20 00:00:00'),\n",
       " Timestamp('1997-01-21 00:00:00'),\n",
       " Timestamp('1997-01-22 00:00:00'),\n",
       " Timestamp('1997-02-03 00:00:00'),\n",
       " Timestamp('1997-02-04 00:00:00'),\n",
       " Timestamp('1997-02-07 00:00:00'),\n",
       " Timestamp('1997-02-11 00:00:00'),\n",
       " Timestamp('1997-02-12 00:00:00'),\n",
       " Timestamp('1997-02-13 00:00:00'),\n",
       " Timestamp('1997-02-18 00:00:00'),\n",
       " Timestamp('1997-05-05 00:00:00'),\n",
       " Timestamp('1997-05-12 00:00:00'),\n",
       " Timestamp('1997-05-15 00:00:00'),\n",
       " Timestamp('1997-05-23 00:00:00'),\n",
       " Timestamp('1997-05-27 00:00:00'),\n",
       " Timestamp('1997-06-06 00:00:00'),\n",
       " Timestamp('1997-06-09 00:00:00'),\n",
       " Timestamp('1997-06-10 00:00:00'),\n",
       " Timestamp('1997-06-11 00:00:00'),\n",
       " Timestamp('1997-06-12 00:00:00'),\n",
       " Timestamp('1997-06-13 00:00:00'),\n",
       " Timestamp('1997-06-16 00:00:00'),\n",
       " Timestamp('1997-06-17 00:00:00'),\n",
       " Timestamp('1997-06-19 00:00:00'),\n",
       " Timestamp('1997-06-20 00:00:00'),\n",
       " Timestamp('1997-07-02 00:00:00'),\n",
       " Timestamp('1997-07-03 00:00:00'),\n",
       " Timestamp('1997-07-08 00:00:00'),\n",
       " Timestamp('1997-07-15 00:00:00'),\n",
       " Timestamp('1997-07-16 00:00:00'),\n",
       " Timestamp('1997-07-24 00:00:00'),\n",
       " Timestamp('1997-07-29 00:00:00'),\n",
       " Timestamp('1997-07-30 00:00:00'),\n",
       " Timestamp('1997-07-31 00:00:00'),\n",
       " Timestamp('1997-08-06 00:00:00'),\n",
       " Timestamp('1997-10-02 00:00:00'),\n",
       " Timestamp('1997-10-03 00:00:00'),\n",
       " Timestamp('1997-10-06 00:00:00'),\n",
       " Timestamp('1997-10-07 00:00:00'),\n",
       " Timestamp('1997-12-05 00:00:00'),\n",
       " Timestamp('1998-01-29 00:00:00'),\n",
       " Timestamp('1998-02-02 00:00:00'),\n",
       " Timestamp('1998-02-03 00:00:00'),\n",
       " Timestamp('1998-02-04 00:00:00'),\n",
       " Timestamp('1998-02-06 00:00:00'),\n",
       " Timestamp('1998-02-10 00:00:00'),\n",
       " Timestamp('1998-02-11 00:00:00'),\n",
       " Timestamp('1998-02-12 00:00:00'),\n",
       " Timestamp('1998-02-18 00:00:00'),\n",
       " Timestamp('1998-02-20 00:00:00'),\n",
       " Timestamp('1998-02-23 00:00:00'),\n",
       " Timestamp('1998-02-25 00:00:00'),\n",
       " Timestamp('1998-02-26 00:00:00'),\n",
       " Timestamp('1998-02-27 00:00:00'),\n",
       " Timestamp('1998-03-03 00:00:00'),\n",
       " Timestamp('1998-03-06 00:00:00'),\n",
       " Timestamp('1998-03-10 00:00:00'),\n",
       " Timestamp('1998-03-11 00:00:00'),\n",
       " Timestamp('1998-03-12 00:00:00'),\n",
       " Timestamp('1998-03-16 00:00:00'),\n",
       " Timestamp('1998-03-17 00:00:00'),\n",
       " Timestamp('1998-03-18 00:00:00'),\n",
       " Timestamp('1998-03-19 00:00:00'),\n",
       " Timestamp('1998-03-20 00:00:00'),\n",
       " Timestamp('1998-03-24 00:00:00'),\n",
       " Timestamp('1998-04-01 00:00:00'),\n",
       " Timestamp('1998-04-02 00:00:00'),\n",
       " Timestamp('1998-04-03 00:00:00'),\n",
       " Timestamp('1998-04-17 00:00:00'),\n",
       " Timestamp('1998-04-20 00:00:00'),\n",
       " Timestamp('1998-04-21 00:00:00'),\n",
       " Timestamp('1998-04-22 00:00:00'),\n",
       " Timestamp('1998-06-24 00:00:00'),\n",
       " Timestamp('1998-06-26 00:00:00'),\n",
       " Timestamp('1998-06-29 00:00:00'),\n",
       " Timestamp('1998-07-01 00:00:00'),\n",
       " Timestamp('1998-07-06 00:00:00'),\n",
       " Timestamp('1998-07-08 00:00:00'),\n",
       " Timestamp('1998-07-14 00:00:00'),\n",
       " Timestamp('1998-07-16 00:00:00'),\n",
       " Timestamp('1998-07-17 00:00:00'),\n",
       " Timestamp('1998-11-23 00:00:00'),\n",
       " Timestamp('1998-11-27 00:00:00'),\n",
       " Timestamp('1998-12-21 00:00:00'),\n",
       " Timestamp('1998-12-22 00:00:00'),\n",
       " Timestamp('1998-12-23 00:00:00'),\n",
       " Timestamp('1998-12-29 00:00:00'),\n",
       " Timestamp('1999-01-05 00:00:00'),\n",
       " Timestamp('1999-01-06 00:00:00'),\n",
       " Timestamp('1999-01-08 00:00:00'),\n",
       " Timestamp('1999-01-29 00:00:00'),\n",
       " Timestamp('1999-03-08 00:00:00'),\n",
       " Timestamp('1999-03-10 00:00:00'),\n",
       " Timestamp('1999-03-11 00:00:00'),\n",
       " Timestamp('1999-03-15 00:00:00'),\n",
       " ...]"
      ]
     },
     "execution_count": 72,
     "metadata": {},
     "output_type": "execute_result"
    }
   ],
   "source": [
    "\n",
    "# Find dates where new all-time highs are achieved\n",
    "new_ath_dates = df[df['ATH_Change']].index.tolist()\n",
    "new_ath_dates"
   ]
  },
  {
   "cell_type": "code",
   "execution_count": 75,
   "id": "d5e7c2da",
   "metadata": {},
   "outputs": [],
   "source": [
    "# For each pair of consecutive all-time highs, find the minimum price in between\n",
    "# For each pair of consecutive ATHs, find the minimum price in between\n",
    "corrections = []\n",
    "\n",
    "for i in range(len(new_ath_dates) - 1):\n",
    "    ath_start = new_ath_dates[i]\n",
    "    ath_end = new_ath_dates[i + 1]\n",
    "    \n",
    "    # Get the period between these two ATHs\n",
    "    period_data = df.loc[ath_start:ath_end]\n",
    "    \n",
    "    # Find the minimum price in this period\n",
    "    min_idx = period_data['Close'].idxmin()\n",
    "    min_price = period_data['Close'].min()\n",
    "    ath_price = period_data.loc[ath_start, 'Close']\n",
    "    \n",
    "    # Calculate drawdown percentage\n",
    "    drawdown_pct = (min_price - ath_price) / ath_price * 100\n",
    "    \n",
    "    # Only include corrections with >= 5% drawdown\n",
    "    if drawdown_pct <= -5.0:\n",
    "        duration = (min_idx - ath_start).days\n",
    "        corrections.append({\n",
    "            'Peak_Date': ath_start,\n",
    "            'Trough_Date': min_idx,\n",
    "            'Duration_Days': duration,\n",
    "            'Drawdown_Pct': abs(drawdown_pct)\n",
    "        })"
   ]
  },
  {
   "cell_type": "code",
   "execution_count": 80,
   "id": "97d94872",
   "metadata": {},
   "outputs": [
    {
     "data": {
      "application/vnd.microsoft.datawrangler.viewer.v0+json": {
       "columns": [
        {
         "name": "index",
         "rawType": "int64",
         "type": "integer"
        },
        {
         "name": "Peak_Date",
         "rawType": "datetime64[ns]",
         "type": "datetime"
        },
        {
         "name": "Trough_Date",
         "rawType": "datetime64[ns]",
         "type": "datetime"
        },
        {
         "name": "Duration_Days",
         "rawType": "int64",
         "type": "integer"
        },
        {
         "name": "Drawdown_Pct",
         "rawType": "float64",
         "type": "float"
        }
       ],
       "ref": "56147f35-b703-45bb-af9b-0c55b2130c51",
       "rows": [
        [
         "0",
         "1950-06-12 00:00:00",
         "1950-07-17 00:00:00",
         "35",
         "14.020615292983996"
        ],
        [
         "1",
         "1950-11-24 00:00:00",
         "1950-12-04 00:00:00",
         "10",
         "6.4960615878377235"
        ],
        [
         "2",
         "1951-05-03 00:00:00",
         "1951-06-29 00:00:00",
         "57",
         "8.11047972285998"
        ],
        [
         "3",
         "1951-10-15 00:00:00",
         "1951-11-23 00:00:00",
         "39",
         "6.0796676718966935"
        ],
        [
         "4",
         "1952-01-22 00:00:00",
         "1952-02-20 00:00:00",
         "29",
         "6.366584365526585"
        ],
        [
         "5",
         "1952-08-08 00:00:00",
         "1952-10-22 00:00:00",
         "75",
         "6.8493152730181155"
        ],
        [
         "6",
         "1953-01-05 00:00:00",
         "1953-09-14 00:00:00",
         "252",
         "14.816206997551355"
        ],
        [
         "7",
         "1955-01-03 00:00:00",
         "1955-01-17 00:00:00",
         "14",
         "5.90475692230017"
        ],
        [
         "8",
         "1955-03-04 00:00:00",
         "1955-03-14 00:00:00",
         "10",
         "6.823031295462839"
        ],
        [
         "9",
         "1955-09-23 00:00:00",
         "1955-10-11 00:00:00",
         "18",
         "10.585145119423931"
        ],
        [
         "10",
         "1955-11-14 00:00:00",
         "1956-01-23 00:00:00",
         "70",
         "7.110534901767641"
        ],
        [
         "11",
         "1956-03-20 00:00:00",
         "1956-05-28 00:00:00",
         "69",
         "9.760590468627022"
        ],
        [
         "12",
         "1956-08-02 00:00:00",
         "1957-10-22 00:00:00",
         "446",
         "21.474617200811384"
        ],
        [
         "13",
         "1959-08-03 00:00:00",
         "1960-10-25 00:00:00",
         "449",
         "14.01745750266325"
        ],
        [
         "14",
         "1961-04-17 00:00:00",
         "1961-04-24 00:00:00",
         "7",
         "6.231797845484766"
        ],
        [
         "15",
         "1961-12-12 00:00:00",
         "1962-06-26 00:00:00",
         "196",
         "27.973568096863062"
        ],
        [
         "16",
         "1963-10-28 00:00:00",
         "1963-11-22 00:00:00",
         "25",
         "6.538671491787287"
        ],
        [
         "17",
         "1965-05-13 00:00:00",
         "1965-06-28 00:00:00",
         "46",
         "9.60451810276128"
        ],
        [
         "18",
         "1966-02-09 00:00:00",
         "1966-10-07 00:00:00",
         "240",
         "22.17733484136764"
        ],
        [
         "19",
         "1967-05-08 00:00:00",
         "1967-06-05 00:00:00",
         "28",
         "6.50243329119877"
        ],
        [
         "20",
         "1967-09-25 00:00:00",
         "1968-03-05 00:00:00",
         "162",
         "10.113736538132589"
        ],
        [
         "21",
         "1968-07-11 00:00:00",
         "1968-08-02 00:00:00",
         "22",
         "5.625551489956158"
        ],
        [
         "22",
         "1968-11-29 00:00:00",
         "1970-05-26 00:00:00",
         "543",
         "36.061641451132346"
        ],
        [
         "23",
         "1972-08-14 00:00:00",
         "1972-10-16 00:00:00",
         "63",
         "5.135500890242875"
        ],
        [
         "24",
         "1973-01-11 00:00:00",
         "1974-10-03 00:00:00",
         "630",
         "48.20359290935836"
        ],
        [
         "25",
         "1980-09-22 00:00:00",
         "1980-09-29 00:00:00",
         "7",
         "5.2607310598516674"
        ],
        [
         "26",
         "1980-10-15 00:00:00",
         "1980-10-30 00:00:00",
         "15",
         "5.54225594753259"
        ],
        [
         "27",
         "1980-11-28 00:00:00",
         "1982-08-12 00:00:00",
         "622",
         "27.11358165748537"
        ],
        [
         "28",
         "1982-11-09 00:00:00",
         "1982-11-23 00:00:00",
         "14",
         "7.054965246300554"
        ],
        [
         "29",
         "1983-06-22 00:00:00",
         "1983-08-08 00:00:00",
         "47",
         "6.906843931211499"
        ],
        [
         "30",
         "1983-10-10 00:00:00",
         "1984-07-24 00:00:00",
         "288",
         "14.381689805997283"
        ],
        [
         "31",
         "1985-07-17 00:00:00",
         "1985-09-25 00:00:00",
         "70",
         "7.661635932534703"
        ],
        [
         "32",
         "1986-07-02 00:00:00",
         "1986-07-15 00:00:00",
         "13",
         "7.534623472920962"
        ],
        [
         "33",
         "1986-09-04 00:00:00",
         "1986-09-29 00:00:00",
         "25",
         "9.423629199225273"
        ],
        [
         "34",
         "1987-04-06 00:00:00",
         "1987-05-20 00:00:00",
         "44",
         "7.862235400631758"
        ],
        [
         "35",
         "1987-08-25 00:00:00",
         "1987-12-04 00:00:00",
         "101",
         "33.5095152555726"
        ],
        [
         "36",
         "1989-10-09 00:00:00",
         "1990-01-30 00:00:00",
         "113",
         "10.23345693603166"
        ],
        [
         "37",
         "1990-07-16 00:00:00",
         "1990-10-11 00:00:00",
         "87",
         "19.91869313469902"
        ],
        [
         "38",
         "1991-04-17 00:00:00",
         "1991-05-15 00:00:00",
         "28",
         "5.603791573506444"
        ],
        [
         "39",
         "1991-08-28 00:00:00",
         "1991-10-09 00:00:00",
         "42",
         "5.00202352832555"
        ],
        [
         "40",
         "1991-11-13 00:00:00",
         "1991-11-29 00:00:00",
         "16",
         "5.583654723566771"
        ],
        [
         "41",
         "1992-01-15 00:00:00",
         "1992-04-08 00:00:00",
         "84",
         "6.243313377755726"
        ],
        [
         "42",
         "1992-09-14 00:00:00",
         "1992-10-09 00:00:00",
         "25",
         "5.316619073920972"
        ],
        [
         "43",
         "1994-02-02 00:00:00",
         "1994-04-04 00:00:00",
         "61",
         "8.937756550262579"
        ],
        [
         "44",
         "1996-05-24 00:00:00",
         "1996-07-24 00:00:00",
         "61",
         "7.643215959257003"
        ],
        [
         "45",
         "1997-02-18 00:00:00",
         "1997-04-11 00:00:00",
         "52",
         "9.633825690635515"
        ],
        [
         "46",
         "1997-08-06 00:00:00",
         "1997-08-29 00:00:00",
         "23",
         "6.336433288591252"
        ],
        [
         "47",
         "1997-10-07 00:00:00",
         "1997-10-27 00:00:00",
         "20",
         "10.795223920774987"
        ],
        [
         "48",
         "1997-12-05 00:00:00",
         "1998-01-09 00:00:00",
         "35",
         "5.702434141322208"
        ],
        [
         "49",
         "1998-07-17 00:00:00",
         "1998-08-31 00:00:00",
         "45",
         "19.335999216610492"
        ]
       ],
       "shape": {
        "columns": 4,
        "rows": 71
       }
      },
      "text/html": [
       "<div>\n",
       "<style scoped>\n",
       "    .dataframe tbody tr th:only-of-type {\n",
       "        vertical-align: middle;\n",
       "    }\n",
       "\n",
       "    .dataframe tbody tr th {\n",
       "        vertical-align: top;\n",
       "    }\n",
       "\n",
       "    .dataframe thead th {\n",
       "        text-align: right;\n",
       "    }\n",
       "</style>\n",
       "<table border=\"1\" class=\"dataframe\">\n",
       "  <thead>\n",
       "    <tr style=\"text-align: right;\">\n",
       "      <th></th>\n",
       "      <th>Peak_Date</th>\n",
       "      <th>Trough_Date</th>\n",
       "      <th>Duration_Days</th>\n",
       "      <th>Drawdown_Pct</th>\n",
       "    </tr>\n",
       "  </thead>\n",
       "  <tbody>\n",
       "    <tr>\n",
       "      <th>0</th>\n",
       "      <td>1950-06-12</td>\n",
       "      <td>1950-07-17</td>\n",
       "      <td>35</td>\n",
       "      <td>14.020615</td>\n",
       "    </tr>\n",
       "    <tr>\n",
       "      <th>1</th>\n",
       "      <td>1950-11-24</td>\n",
       "      <td>1950-12-04</td>\n",
       "      <td>10</td>\n",
       "      <td>6.496062</td>\n",
       "    </tr>\n",
       "    <tr>\n",
       "      <th>2</th>\n",
       "      <td>1951-05-03</td>\n",
       "      <td>1951-06-29</td>\n",
       "      <td>57</td>\n",
       "      <td>8.110480</td>\n",
       "    </tr>\n",
       "    <tr>\n",
       "      <th>3</th>\n",
       "      <td>1951-10-15</td>\n",
       "      <td>1951-11-23</td>\n",
       "      <td>39</td>\n",
       "      <td>6.079668</td>\n",
       "    </tr>\n",
       "    <tr>\n",
       "      <th>4</th>\n",
       "      <td>1952-01-22</td>\n",
       "      <td>1952-02-20</td>\n",
       "      <td>29</td>\n",
       "      <td>6.366584</td>\n",
       "    </tr>\n",
       "    <tr>\n",
       "      <th>...</th>\n",
       "      <td>...</td>\n",
       "      <td>...</td>\n",
       "      <td>...</td>\n",
       "      <td>...</td>\n",
       "    </tr>\n",
       "    <tr>\n",
       "      <th>66</th>\n",
       "      <td>2020-09-02</td>\n",
       "      <td>2020-09-23</td>\n",
       "      <td>21</td>\n",
       "      <td>9.604455</td>\n",
       "    </tr>\n",
       "    <tr>\n",
       "      <th>67</th>\n",
       "      <td>2021-09-02</td>\n",
       "      <td>2021-10-04</td>\n",
       "      <td>32</td>\n",
       "      <td>5.212538</td>\n",
       "    </tr>\n",
       "    <tr>\n",
       "      <th>68</th>\n",
       "      <td>2022-01-03</td>\n",
       "      <td>2022-10-12</td>\n",
       "      <td>282</td>\n",
       "      <td>25.425097</td>\n",
       "    </tr>\n",
       "    <tr>\n",
       "      <th>69</th>\n",
       "      <td>2024-03-28</td>\n",
       "      <td>2024-04-19</td>\n",
       "      <td>22</td>\n",
       "      <td>5.464427</td>\n",
       "    </tr>\n",
       "    <tr>\n",
       "      <th>70</th>\n",
       "      <td>2024-07-16</td>\n",
       "      <td>2024-08-05</td>\n",
       "      <td>20</td>\n",
       "      <td>8.485144</td>\n",
       "    </tr>\n",
       "  </tbody>\n",
       "</table>\n",
       "<p>71 rows × 4 columns</p>\n",
       "</div>"
      ],
      "text/plain": [
       "    Peak_Date Trough_Date  Duration_Days  Drawdown_Pct\n",
       "0  1950-06-12  1950-07-17             35     14.020615\n",
       "1  1950-11-24  1950-12-04             10      6.496062\n",
       "2  1951-05-03  1951-06-29             57      8.110480\n",
       "3  1951-10-15  1951-11-23             39      6.079668\n",
       "4  1952-01-22  1952-02-20             29      6.366584\n",
       "..        ...         ...            ...           ...\n",
       "66 2020-09-02  2020-09-23             21      9.604455\n",
       "67 2021-09-02  2021-10-04             32      5.212538\n",
       "68 2022-01-03  2022-10-12            282     25.425097\n",
       "69 2024-03-28  2024-04-19             22      5.464427\n",
       "70 2024-07-16  2024-08-05             20      8.485144\n",
       "\n",
       "[71 rows x 4 columns]"
      ]
     },
     "execution_count": 80,
     "metadata": {},
     "output_type": "execute_result"
    }
   ],
   "source": [
    "# Calculate percentiles for duration analysis\n",
    "corrections_df = pd.DataFrame(corrections)\n",
    "corrections_df\n"
   ]
  },
  {
   "cell_type": "code",
   "execution_count": 82,
   "id": "67a55380",
   "metadata": {},
   "outputs": [
    {
     "data": {
      "application/vnd.microsoft.datawrangler.viewer.v0+json": {
       "columns": [
        {
         "name": "index",
         "rawType": "int64",
         "type": "integer"
        },
        {
         "name": "Duration_Days",
         "rawType": "int64",
         "type": "integer"
        }
       ],
       "ref": "2b9ba7cd-f8e7-4491-8daf-7962d6fade12",
       "rows": [
        [
         "0",
         "35"
        ],
        [
         "1",
         "10"
        ],
        [
         "2",
         "57"
        ],
        [
         "3",
         "39"
        ],
        [
         "4",
         "29"
        ],
        [
         "5",
         "75"
        ],
        [
         "6",
         "252"
        ],
        [
         "7",
         "14"
        ],
        [
         "8",
         "10"
        ],
        [
         "9",
         "18"
        ],
        [
         "10",
         "70"
        ],
        [
         "11",
         "69"
        ],
        [
         "12",
         "446"
        ],
        [
         "13",
         "449"
        ],
        [
         "14",
         "7"
        ],
        [
         "15",
         "196"
        ],
        [
         "16",
         "25"
        ],
        [
         "17",
         "46"
        ],
        [
         "18",
         "240"
        ],
        [
         "19",
         "28"
        ],
        [
         "20",
         "162"
        ],
        [
         "21",
         "22"
        ],
        [
         "22",
         "543"
        ],
        [
         "23",
         "63"
        ],
        [
         "24",
         "630"
        ],
        [
         "25",
         "7"
        ],
        [
         "26",
         "15"
        ],
        [
         "27",
         "622"
        ],
        [
         "28",
         "14"
        ],
        [
         "29",
         "47"
        ],
        [
         "30",
         "288"
        ],
        [
         "31",
         "70"
        ],
        [
         "32",
         "13"
        ],
        [
         "33",
         "25"
        ],
        [
         "34",
         "44"
        ],
        [
         "35",
         "101"
        ],
        [
         "36",
         "113"
        ],
        [
         "37",
         "87"
        ],
        [
         "38",
         "28"
        ],
        [
         "39",
         "42"
        ],
        [
         "40",
         "16"
        ],
        [
         "41",
         "84"
        ],
        [
         "42",
         "25"
        ],
        [
         "43",
         "61"
        ],
        [
         "44",
         "61"
        ],
        [
         "45",
         "52"
        ],
        [
         "46",
         "23"
        ],
        [
         "47",
         "20"
        ],
        [
         "48",
         "35"
        ],
        [
         "49",
         "45"
        ]
       ],
       "shape": {
        "columns": 1,
        "rows": 71
       }
      },
      "text/plain": [
       "0      35\n",
       "1      10\n",
       "2      57\n",
       "3      39\n",
       "4      29\n",
       "     ... \n",
       "66     21\n",
       "67     32\n",
       "68    282\n",
       "69     22\n",
       "70     20\n",
       "Name: Duration_Days, Length: 71, dtype: int64"
      ]
     },
     "execution_count": 82,
     "metadata": {},
     "output_type": "execute_result"
    }
   ],
   "source": [
    "\n",
    "durations = corrections_df['Duration_Days']\n",
    "durations\n"
   ]
  },
  {
   "cell_type": "code",
   "execution_count": 83,
   "id": "3c92eb0e",
   "metadata": {},
   "outputs": [
    {
     "data": {
      "text/plain": [
       "np.float64(21.5)"
      ]
     },
     "execution_count": 83,
     "metadata": {},
     "output_type": "execute_result"
    }
   ],
   "source": [
    "percentile_25 = np.percentile(durations, 25)\n",
    "percentile_25"
   ]
  },
  {
   "cell_type": "code",
   "execution_count": 84,
   "id": "cbf132cb",
   "metadata": {},
   "outputs": [
    {
     "data": {
      "text/plain": [
       "np.float64(39.0)"
      ]
     },
     "execution_count": 84,
     "metadata": {},
     "output_type": "execute_result"
    }
   ],
   "source": [
    "\n",
    "median_duration = np.percentile(durations, 50)\n",
    "median_duration"
   ]
  },
  {
   "cell_type": "code",
   "execution_count": 85,
   "id": "5b333f31",
   "metadata": {},
   "outputs": [
    {
     "data": {
      "text/plain": [
       "np.float64(89.0)"
      ]
     },
     "execution_count": 85,
     "metadata": {},
     "output_type": "execute_result"
    }
   ],
   "source": [
    "\n",
    "percentile_75 = np.percentile(durations, 75)\n",
    "percentile_75"
   ]
  }
 ],
 "metadata": {
  "kernelspec": {
   "display_name": "jupysql",
   "language": "python",
   "name": "python3"
  },
  "language_info": {
   "codemirror_mode": {
    "name": "ipython",
    "version": 3
   },
   "file_extension": ".py",
   "mimetype": "text/x-python",
   "name": "python",
   "nbconvert_exporter": "python",
   "pygments_lexer": "ipython3",
   "version": "3.13.3"
  }
 },
 "nbformat": 4,
 "nbformat_minor": 5
}
