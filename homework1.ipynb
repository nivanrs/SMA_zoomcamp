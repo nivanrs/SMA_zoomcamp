{
 "cells": [
  {
   "cell_type": "code",
   "execution_count": 8,
   "id": "7350b735",
   "metadata": {},
   "outputs": [
    {
     "name": "stdout",
     "output_type": "stream",
     "text": [
      "Requirement already satisfied: lxml in c:\\users\\nramadha\\appdata\\local\\anaconda3\\envs\\jupysql\\lib\\site-packages (5.4.0)\n"
     ]
    }
   ],
   "source": [
    "# Download beberapa req\n",
    "!pip install lxml"
   ]
  },
  {
   "cell_type": "code",
   "execution_count": null,
   "id": "1f0327a6",
   "metadata": {},
   "outputs": [
    {
     "name": "stdout",
     "output_type": "stream",
     "text": [
      "Year with highest number of additions: 2017\n",
      "Stocks in the index >20 years: 226\n"
     ]
    },
    {
     "name": "stderr",
     "output_type": "stream",
     "text": [
      "C:\\Users\\nramadha\\AppData\\Local\\Temp\\ipykernel_32960\\1112618456.py:9: SettingWithCopyWarning: \n",
      "A value is trying to be set on a copy of a slice from a DataFrame.\n",
      "Try using .loc[row_indexer,col_indexer] = value instead\n",
      "\n",
      "See the caveats in the documentation: https://pandas.pydata.org/pandas-docs/stable/user_guide/indexing.html#returning-a-view-versus-a-copy\n",
      "  sp500_df['Date added'] = pd.to_datetime(sp500_df['Date added'], errors='coerce')\n",
      "C:\\Users\\nramadha\\AppData\\Local\\Temp\\ipykernel_32960\\1112618456.py:10: SettingWithCopyWarning: \n",
      "A value is trying to be set on a copy of a slice from a DataFrame.\n",
      "Try using .loc[row_indexer,col_indexer] = value instead\n",
      "\n",
      "See the caveats in the documentation: https://pandas.pydata.org/pandas-docs/stable/user_guide/indexing.html#returning-a-view-versus-a-copy\n",
      "  sp500_df['Year added'] = sp500_df['Date added'].dt.year\n"
     ]
    }
   ],
   "source": [
    "import pandas as pd"
   ]
  },
  {
   "cell_type": "code",
   "execution_count": null,
   "id": "41f8e260",
   "metadata": {},
   "outputs": [
    {
     "data": {
      "application/vnd.microsoft.datawrangler.viewer.v0+json": {
       "columns": [
        {
         "name": "index",
         "rawType": "int64",
         "type": "integer"
        },
        {
         "name": "Symbol",
         "rawType": "object",
         "type": "string"
        },
        {
         "name": "Security",
         "rawType": "object",
         "type": "string"
        },
        {
         "name": "Date added",
         "rawType": "object",
         "type": "string"
        }
       ],
       "ref": "69fd8d21-8501-4806-9831-58da70798ff5",
       "rows": [
        [
         "0",
         "MMM",
         "3M",
         "1957-03-04"
        ],
        [
         "1",
         "AOS",
         "A. O. Smith",
         "2017-07-26"
        ],
        [
         "2",
         "ABT",
         "Abbott Laboratories",
         "1957-03-04"
        ],
        [
         "3",
         "ABBV",
         "AbbVie",
         "2012-12-31"
        ],
        [
         "4",
         "ACN",
         "Accenture",
         "2011-07-06"
        ],
        [
         "5",
         "ADBE",
         "Adobe Inc.",
         "1997-05-05"
        ],
        [
         "6",
         "AMD",
         "Advanced Micro Devices",
         "2017-03-20"
        ],
        [
         "7",
         "AES",
         "AES Corporation",
         "1998-10-02"
        ],
        [
         "8",
         "AFL",
         "Aflac",
         "1999-05-28"
        ],
        [
         "9",
         "A",
         "Agilent Technologies",
         "2000-06-05"
        ],
        [
         "10",
         "APD",
         "Air Products",
         "1985-04-30"
        ],
        [
         "11",
         "ABNB",
         "Airbnb",
         "2023-09-18"
        ],
        [
         "12",
         "AKAM",
         "Akamai Technologies",
         "2007-07-12"
        ],
        [
         "13",
         "ALB",
         "Albemarle Corporation",
         "2016-07-01"
        ],
        [
         "14",
         "ARE",
         "Alexandria Real Estate Equities",
         "2017-03-20"
        ],
        [
         "15",
         "ALGN",
         "Align Technology",
         "2017-06-19"
        ],
        [
         "16",
         "ALLE",
         "Allegion",
         "2013-12-02"
        ],
        [
         "17",
         "LNT",
         "Alliant Energy",
         "2016-07-01"
        ],
        [
         "18",
         "ALL",
         "Allstate",
         "1995-07-13"
        ],
        [
         "19",
         "GOOGL",
         "Alphabet Inc. (Class A)",
         "2014-04-03"
        ],
        [
         "20",
         "GOOG",
         "Alphabet Inc. (Class C)",
         "2006-04-03"
        ],
        [
         "21",
         "MO",
         "Altria",
         "1957-03-04"
        ],
        [
         "22",
         "AMZN",
         "Amazon",
         "2005-11-18"
        ],
        [
         "23",
         "AMCR",
         "Amcor",
         "2019-06-07"
        ],
        [
         "24",
         "AEE",
         "Ameren",
         "1991-09-19"
        ],
        [
         "25",
         "AEP",
         "American Electric Power",
         "1957-03-04"
        ],
        [
         "26",
         "AXP",
         "American Express",
         "1976-06-30"
        ],
        [
         "27",
         "AIG",
         "American International Group",
         "1980-03-31"
        ],
        [
         "28",
         "AMT",
         "American Tower",
         "2007-11-19"
        ],
        [
         "29",
         "AWK",
         "American Water Works",
         "2016-03-04"
        ],
        [
         "30",
         "AMP",
         "Ameriprise Financial",
         "2005-10-03"
        ],
        [
         "31",
         "AME",
         "Ametek",
         "2013-09-23"
        ],
        [
         "32",
         "AMGN",
         "Amgen",
         "1992-01-02"
        ],
        [
         "33",
         "APH",
         "Amphenol",
         "2008-09-30"
        ],
        [
         "34",
         "ADI",
         "Analog Devices",
         "1999-10-12"
        ],
        [
         "35",
         "ANSS",
         "Ansys",
         "2017-06-19"
        ],
        [
         "36",
         "AON",
         "Aon plc",
         "1996-04-23"
        ],
        [
         "37",
         "APA",
         "APA Corporation",
         "1997-07-28"
        ],
        [
         "38",
         "APO",
         "Apollo Global Management",
         "2024-12-23"
        ],
        [
         "39",
         "AAPL",
         "Apple Inc.",
         "1982-11-30"
        ],
        [
         "40",
         "AMAT",
         "Applied Materials",
         "1995-03-16"
        ],
        [
         "41",
         "APTV",
         "Aptiv",
         "2012-12-24"
        ],
        [
         "42",
         "ACGL",
         "Arch Capital Group",
         "2022-11-01"
        ],
        [
         "43",
         "ADM",
         "Archer Daniels Midland",
         "1957-03-04"
        ],
        [
         "44",
         "ANET",
         "Arista Networks",
         "2018-08-28"
        ],
        [
         "45",
         "AJG",
         "Arthur J. Gallagher & Co.",
         "2016-05-31"
        ],
        [
         "46",
         "AIZ",
         "Assurant",
         "2007-04-10"
        ],
        [
         "47",
         "T",
         "AT&T",
         "1983-11-30"
        ],
        [
         "48",
         "ATO",
         "Atmos Energy",
         "2019-02-15"
        ],
        [
         "49",
         "ADSK",
         "Autodesk",
         "1989-12-01"
        ]
       ],
       "shape": {
        "columns": 3,
        "rows": 503
       }
      },
      "text/html": [
       "<div>\n",
       "<style scoped>\n",
       "    .dataframe tbody tr th:only-of-type {\n",
       "        vertical-align: middle;\n",
       "    }\n",
       "\n",
       "    .dataframe tbody tr th {\n",
       "        vertical-align: top;\n",
       "    }\n",
       "\n",
       "    .dataframe thead th {\n",
       "        text-align: right;\n",
       "    }\n",
       "</style>\n",
       "<table border=\"1\" class=\"dataframe\">\n",
       "  <thead>\n",
       "    <tr style=\"text-align: right;\">\n",
       "      <th></th>\n",
       "      <th>Symbol</th>\n",
       "      <th>Security</th>\n",
       "      <th>Date added</th>\n",
       "    </tr>\n",
       "  </thead>\n",
       "  <tbody>\n",
       "    <tr>\n",
       "      <th>0</th>\n",
       "      <td>MMM</td>\n",
       "      <td>3M</td>\n",
       "      <td>1957-03-04</td>\n",
       "    </tr>\n",
       "    <tr>\n",
       "      <th>1</th>\n",
       "      <td>AOS</td>\n",
       "      <td>A. O. Smith</td>\n",
       "      <td>2017-07-26</td>\n",
       "    </tr>\n",
       "    <tr>\n",
       "      <th>2</th>\n",
       "      <td>ABT</td>\n",
       "      <td>Abbott Laboratories</td>\n",
       "      <td>1957-03-04</td>\n",
       "    </tr>\n",
       "    <tr>\n",
       "      <th>3</th>\n",
       "      <td>ABBV</td>\n",
       "      <td>AbbVie</td>\n",
       "      <td>2012-12-31</td>\n",
       "    </tr>\n",
       "    <tr>\n",
       "      <th>4</th>\n",
       "      <td>ACN</td>\n",
       "      <td>Accenture</td>\n",
       "      <td>2011-07-06</td>\n",
       "    </tr>\n",
       "    <tr>\n",
       "      <th>...</th>\n",
       "      <td>...</td>\n",
       "      <td>...</td>\n",
       "      <td>...</td>\n",
       "    </tr>\n",
       "    <tr>\n",
       "      <th>498</th>\n",
       "      <td>XYL</td>\n",
       "      <td>Xylem Inc.</td>\n",
       "      <td>2011-11-01</td>\n",
       "    </tr>\n",
       "    <tr>\n",
       "      <th>499</th>\n",
       "      <td>YUM</td>\n",
       "      <td>Yum! Brands</td>\n",
       "      <td>1997-10-06</td>\n",
       "    </tr>\n",
       "    <tr>\n",
       "      <th>500</th>\n",
       "      <td>ZBRA</td>\n",
       "      <td>Zebra Technologies</td>\n",
       "      <td>2019-12-23</td>\n",
       "    </tr>\n",
       "    <tr>\n",
       "      <th>501</th>\n",
       "      <td>ZBH</td>\n",
       "      <td>Zimmer Biomet</td>\n",
       "      <td>2001-08-07</td>\n",
       "    </tr>\n",
       "    <tr>\n",
       "      <th>502</th>\n",
       "      <td>ZTS</td>\n",
       "      <td>Zoetis</td>\n",
       "      <td>2013-06-21</td>\n",
       "    </tr>\n",
       "  </tbody>\n",
       "</table>\n",
       "<p>503 rows × 3 columns</p>\n",
       "</div>"
      ],
      "text/plain": [
       "    Symbol             Security  Date added\n",
       "0      MMM                   3M  1957-03-04\n",
       "1      AOS          A. O. Smith  2017-07-26\n",
       "2      ABT  Abbott Laboratories  1957-03-04\n",
       "3     ABBV               AbbVie  2012-12-31\n",
       "4      ACN            Accenture  2011-07-06\n",
       "..     ...                  ...         ...\n",
       "498    XYL           Xylem Inc.  2011-11-01\n",
       "499    YUM          Yum! Brands  1997-10-06\n",
       "500   ZBRA   Zebra Technologies  2019-12-23\n",
       "501    ZBH        Zimmer Biomet  2001-08-07\n",
       "502    ZTS               Zoetis  2013-06-21\n",
       "\n",
       "[503 rows x 3 columns]"
      ]
     },
     "execution_count": 7,
     "metadata": {},
     "output_type": "execute_result"
    }
   ],
   "source": [
    "# Load data from Wikipedia\n",
    "url = \"https://en.wikipedia.org/wiki/List_of_S%26P_500_companies\"\n",
    "tables = pd.read_html(url)\n",
    "sp500_df = tables[0][['Symbol', 'Security', 'Date added']]\n",
    "sp500_df"
   ]
  },
  {
   "cell_type": "code",
   "execution_count": 9,
   "id": "5afcf94c",
   "metadata": {},
   "outputs": [
    {
     "name": "stderr",
     "output_type": "stream",
     "text": [
      "C:\\Users\\nramadha\\AppData\\Local\\Temp\\ipykernel_32960\\182313854.py:2: SettingWithCopyWarning: \n",
      "A value is trying to be set on a copy of a slice from a DataFrame.\n",
      "Try using .loc[row_indexer,col_indexer] = value instead\n",
      "\n",
      "See the caveats in the documentation: https://pandas.pydata.org/pandas-docs/stable/user_guide/indexing.html#returning-a-view-versus-a-copy\n",
      "  sp500_df['Date added'] = pd.to_datetime(sp500_df['Date added'], errors='coerce')\n",
      "C:\\Users\\nramadha\\AppData\\Local\\Temp\\ipykernel_32960\\182313854.py:3: SettingWithCopyWarning: \n",
      "A value is trying to be set on a copy of a slice from a DataFrame.\n",
      "Try using .loc[row_indexer,col_indexer] = value instead\n",
      "\n",
      "See the caveats in the documentation: https://pandas.pydata.org/pandas-docs/stable/user_guide/indexing.html#returning-a-view-versus-a-copy\n",
      "  sp500_df['Year added'] = sp500_df['Date added'].dt.year\n"
     ]
    },
    {
     "data": {
      "application/vnd.microsoft.datawrangler.viewer.v0+json": {
       "columns": [
        {
         "name": "index",
         "rawType": "int64",
         "type": "integer"
        },
        {
         "name": "Symbol",
         "rawType": "object",
         "type": "string"
        },
        {
         "name": "Security",
         "rawType": "object",
         "type": "string"
        },
        {
         "name": "Date added",
         "rawType": "datetime64[ns]",
         "type": "datetime"
        },
        {
         "name": "Year added",
         "rawType": "int32",
         "type": "integer"
        }
       ],
       "ref": "5ddae12f-4a8c-4449-b870-dde27bceaff3",
       "rows": [
        [
         "0",
         "MMM",
         "3M",
         "1957-03-04 00:00:00",
         "1957"
        ],
        [
         "1",
         "AOS",
         "A. O. Smith",
         "2017-07-26 00:00:00",
         "2017"
        ],
        [
         "2",
         "ABT",
         "Abbott Laboratories",
         "1957-03-04 00:00:00",
         "1957"
        ],
        [
         "3",
         "ABBV",
         "AbbVie",
         "2012-12-31 00:00:00",
         "2012"
        ],
        [
         "4",
         "ACN",
         "Accenture",
         "2011-07-06 00:00:00",
         "2011"
        ],
        [
         "5",
         "ADBE",
         "Adobe Inc.",
         "1997-05-05 00:00:00",
         "1997"
        ],
        [
         "6",
         "AMD",
         "Advanced Micro Devices",
         "2017-03-20 00:00:00",
         "2017"
        ],
        [
         "7",
         "AES",
         "AES Corporation",
         "1998-10-02 00:00:00",
         "1998"
        ],
        [
         "8",
         "AFL",
         "Aflac",
         "1999-05-28 00:00:00",
         "1999"
        ],
        [
         "9",
         "A",
         "Agilent Technologies",
         "2000-06-05 00:00:00",
         "2000"
        ],
        [
         "10",
         "APD",
         "Air Products",
         "1985-04-30 00:00:00",
         "1985"
        ],
        [
         "11",
         "ABNB",
         "Airbnb",
         "2023-09-18 00:00:00",
         "2023"
        ],
        [
         "12",
         "AKAM",
         "Akamai Technologies",
         "2007-07-12 00:00:00",
         "2007"
        ],
        [
         "13",
         "ALB",
         "Albemarle Corporation",
         "2016-07-01 00:00:00",
         "2016"
        ],
        [
         "14",
         "ARE",
         "Alexandria Real Estate Equities",
         "2017-03-20 00:00:00",
         "2017"
        ],
        [
         "15",
         "ALGN",
         "Align Technology",
         "2017-06-19 00:00:00",
         "2017"
        ],
        [
         "16",
         "ALLE",
         "Allegion",
         "2013-12-02 00:00:00",
         "2013"
        ],
        [
         "17",
         "LNT",
         "Alliant Energy",
         "2016-07-01 00:00:00",
         "2016"
        ],
        [
         "18",
         "ALL",
         "Allstate",
         "1995-07-13 00:00:00",
         "1995"
        ],
        [
         "19",
         "GOOGL",
         "Alphabet Inc. (Class A)",
         "2014-04-03 00:00:00",
         "2014"
        ],
        [
         "20",
         "GOOG",
         "Alphabet Inc. (Class C)",
         "2006-04-03 00:00:00",
         "2006"
        ],
        [
         "21",
         "MO",
         "Altria",
         "1957-03-04 00:00:00",
         "1957"
        ],
        [
         "22",
         "AMZN",
         "Amazon",
         "2005-11-18 00:00:00",
         "2005"
        ],
        [
         "23",
         "AMCR",
         "Amcor",
         "2019-06-07 00:00:00",
         "2019"
        ],
        [
         "24",
         "AEE",
         "Ameren",
         "1991-09-19 00:00:00",
         "1991"
        ],
        [
         "25",
         "AEP",
         "American Electric Power",
         "1957-03-04 00:00:00",
         "1957"
        ],
        [
         "26",
         "AXP",
         "American Express",
         "1976-06-30 00:00:00",
         "1976"
        ],
        [
         "27",
         "AIG",
         "American International Group",
         "1980-03-31 00:00:00",
         "1980"
        ],
        [
         "28",
         "AMT",
         "American Tower",
         "2007-11-19 00:00:00",
         "2007"
        ],
        [
         "29",
         "AWK",
         "American Water Works",
         "2016-03-04 00:00:00",
         "2016"
        ],
        [
         "30",
         "AMP",
         "Ameriprise Financial",
         "2005-10-03 00:00:00",
         "2005"
        ],
        [
         "31",
         "AME",
         "Ametek",
         "2013-09-23 00:00:00",
         "2013"
        ],
        [
         "32",
         "AMGN",
         "Amgen",
         "1992-01-02 00:00:00",
         "1992"
        ],
        [
         "33",
         "APH",
         "Amphenol",
         "2008-09-30 00:00:00",
         "2008"
        ],
        [
         "34",
         "ADI",
         "Analog Devices",
         "1999-10-12 00:00:00",
         "1999"
        ],
        [
         "35",
         "ANSS",
         "Ansys",
         "2017-06-19 00:00:00",
         "2017"
        ],
        [
         "36",
         "AON",
         "Aon plc",
         "1996-04-23 00:00:00",
         "1996"
        ],
        [
         "37",
         "APA",
         "APA Corporation",
         "1997-07-28 00:00:00",
         "1997"
        ],
        [
         "38",
         "APO",
         "Apollo Global Management",
         "2024-12-23 00:00:00",
         "2024"
        ],
        [
         "39",
         "AAPL",
         "Apple Inc.",
         "1982-11-30 00:00:00",
         "1982"
        ],
        [
         "40",
         "AMAT",
         "Applied Materials",
         "1995-03-16 00:00:00",
         "1995"
        ],
        [
         "41",
         "APTV",
         "Aptiv",
         "2012-12-24 00:00:00",
         "2012"
        ],
        [
         "42",
         "ACGL",
         "Arch Capital Group",
         "2022-11-01 00:00:00",
         "2022"
        ],
        [
         "43",
         "ADM",
         "Archer Daniels Midland",
         "1957-03-04 00:00:00",
         "1957"
        ],
        [
         "44",
         "ANET",
         "Arista Networks",
         "2018-08-28 00:00:00",
         "2018"
        ],
        [
         "45",
         "AJG",
         "Arthur J. Gallagher & Co.",
         "2016-05-31 00:00:00",
         "2016"
        ],
        [
         "46",
         "AIZ",
         "Assurant",
         "2007-04-10 00:00:00",
         "2007"
        ],
        [
         "47",
         "T",
         "AT&T",
         "1983-11-30 00:00:00",
         "1983"
        ],
        [
         "48",
         "ATO",
         "Atmos Energy",
         "2019-02-15 00:00:00",
         "2019"
        ],
        [
         "49",
         "ADSK",
         "Autodesk",
         "1989-12-01 00:00:00",
         "1989"
        ]
       ],
       "shape": {
        "columns": 4,
        "rows": 503
       }
      },
      "text/html": [
       "<div>\n",
       "<style scoped>\n",
       "    .dataframe tbody tr th:only-of-type {\n",
       "        vertical-align: middle;\n",
       "    }\n",
       "\n",
       "    .dataframe tbody tr th {\n",
       "        vertical-align: top;\n",
       "    }\n",
       "\n",
       "    .dataframe thead th {\n",
       "        text-align: right;\n",
       "    }\n",
       "</style>\n",
       "<table border=\"1\" class=\"dataframe\">\n",
       "  <thead>\n",
       "    <tr style=\"text-align: right;\">\n",
       "      <th></th>\n",
       "      <th>Symbol</th>\n",
       "      <th>Security</th>\n",
       "      <th>Date added</th>\n",
       "      <th>Year added</th>\n",
       "    </tr>\n",
       "  </thead>\n",
       "  <tbody>\n",
       "    <tr>\n",
       "      <th>0</th>\n",
       "      <td>MMM</td>\n",
       "      <td>3M</td>\n",
       "      <td>1957-03-04</td>\n",
       "      <td>1957</td>\n",
       "    </tr>\n",
       "    <tr>\n",
       "      <th>1</th>\n",
       "      <td>AOS</td>\n",
       "      <td>A. O. Smith</td>\n",
       "      <td>2017-07-26</td>\n",
       "      <td>2017</td>\n",
       "    </tr>\n",
       "    <tr>\n",
       "      <th>2</th>\n",
       "      <td>ABT</td>\n",
       "      <td>Abbott Laboratories</td>\n",
       "      <td>1957-03-04</td>\n",
       "      <td>1957</td>\n",
       "    </tr>\n",
       "    <tr>\n",
       "      <th>3</th>\n",
       "      <td>ABBV</td>\n",
       "      <td>AbbVie</td>\n",
       "      <td>2012-12-31</td>\n",
       "      <td>2012</td>\n",
       "    </tr>\n",
       "    <tr>\n",
       "      <th>4</th>\n",
       "      <td>ACN</td>\n",
       "      <td>Accenture</td>\n",
       "      <td>2011-07-06</td>\n",
       "      <td>2011</td>\n",
       "    </tr>\n",
       "    <tr>\n",
       "      <th>...</th>\n",
       "      <td>...</td>\n",
       "      <td>...</td>\n",
       "      <td>...</td>\n",
       "      <td>...</td>\n",
       "    </tr>\n",
       "    <tr>\n",
       "      <th>498</th>\n",
       "      <td>XYL</td>\n",
       "      <td>Xylem Inc.</td>\n",
       "      <td>2011-11-01</td>\n",
       "      <td>2011</td>\n",
       "    </tr>\n",
       "    <tr>\n",
       "      <th>499</th>\n",
       "      <td>YUM</td>\n",
       "      <td>Yum! Brands</td>\n",
       "      <td>1997-10-06</td>\n",
       "      <td>1997</td>\n",
       "    </tr>\n",
       "    <tr>\n",
       "      <th>500</th>\n",
       "      <td>ZBRA</td>\n",
       "      <td>Zebra Technologies</td>\n",
       "      <td>2019-12-23</td>\n",
       "      <td>2019</td>\n",
       "    </tr>\n",
       "    <tr>\n",
       "      <th>501</th>\n",
       "      <td>ZBH</td>\n",
       "      <td>Zimmer Biomet</td>\n",
       "      <td>2001-08-07</td>\n",
       "      <td>2001</td>\n",
       "    </tr>\n",
       "    <tr>\n",
       "      <th>502</th>\n",
       "      <td>ZTS</td>\n",
       "      <td>Zoetis</td>\n",
       "      <td>2013-06-21</td>\n",
       "      <td>2013</td>\n",
       "    </tr>\n",
       "  </tbody>\n",
       "</table>\n",
       "<p>503 rows × 4 columns</p>\n",
       "</div>"
      ],
      "text/plain": [
       "    Symbol             Security Date added  Year added\n",
       "0      MMM                   3M 1957-03-04        1957\n",
       "1      AOS          A. O. Smith 2017-07-26        2017\n",
       "2      ABT  Abbott Laboratories 1957-03-04        1957\n",
       "3     ABBV               AbbVie 2012-12-31        2012\n",
       "4      ACN            Accenture 2011-07-06        2011\n",
       "..     ...                  ...        ...         ...\n",
       "498    XYL           Xylem Inc. 2011-11-01        2011\n",
       "499    YUM          Yum! Brands 1997-10-06        1997\n",
       "500   ZBRA   Zebra Technologies 2019-12-23        2019\n",
       "501    ZBH        Zimmer Biomet 2001-08-07        2001\n",
       "502    ZTS               Zoetis 2013-06-21        2013\n",
       "\n",
       "[503 rows x 4 columns]"
      ]
     },
     "execution_count": 9,
     "metadata": {},
     "output_type": "execute_result"
    }
   ],
   "source": [
    "# Convert dates and extract year\n",
    "sp500_df['Date added'] = pd.to_datetime(sp500_df['Date added'], errors='coerce')\n",
    "sp500_df['Year added'] = sp500_df['Date added'].dt.year\n",
    "sp500_df"
   ]
  },
  {
   "cell_type": "code",
   "execution_count": 13,
   "id": "94c9405e",
   "metadata": {},
   "outputs": [
    {
     "data": {
      "application/vnd.microsoft.datawrangler.viewer.v0+json": {
       "columns": [
        {
         "name": "Year added",
         "rawType": "int32",
         "type": "integer"
        },
        {
         "name": "count",
         "rawType": "int64",
         "type": "integer"
        }
       ],
       "ref": "b6b81483-1e12-4d21-ae1f-676d998ddd79",
       "rows": [
        [
         "2017",
         "23"
        ],
        [
         "2016",
         "23"
        ],
        [
         "2019",
         "22"
        ],
        [
         "2008",
         "17"
        ],
        [
         "2024",
         "16"
        ],
        [
         "2022",
         "16"
        ],
        [
         "2021",
         "15"
        ],
        [
         "2023",
         "15"
        ],
        [
         "2018",
         "14"
        ],
        [
         "2015",
         "14"
        ],
        [
         "1997",
         "14"
        ],
        [
         "2012",
         "14"
        ],
        [
         "2002",
         "13"
        ],
        [
         "2007",
         "12"
        ],
        [
         "2020",
         "12"
        ],
        [
         "2009",
         "12"
        ],
        [
         "1976",
         "11"
        ],
        [
         "1998",
         "11"
        ],
        [
         "2006",
         "10"
        ],
        [
         "2011",
         "10"
        ],
        [
         "2013",
         "10"
        ],
        [
         "2010",
         "9"
        ],
        [
         "1999",
         "9"
        ],
        [
         "2000",
         "9"
        ],
        [
         "2001",
         "8"
        ],
        [
         "2014",
         "8"
        ],
        [
         "1985",
         "7"
        ],
        [
         "1994",
         "7"
        ],
        [
         "1995",
         "7"
        ],
        [
         "2005",
         "7"
        ],
        [
         "2004",
         "6"
        ],
        [
         "1989",
         "5"
        ],
        [
         "2025",
         "5"
        ],
        [
         "1982",
         "5"
        ],
        [
         "2003",
         "5"
        ],
        [
         "1984",
         "5"
        ],
        [
         "1988",
         "4"
        ],
        [
         "1993",
         "3"
        ],
        [
         "1980",
         "3"
        ],
        [
         "1992",
         "3"
        ],
        [
         "1986",
         "3"
        ],
        [
         "1983",
         "3"
        ],
        [
         "1981",
         "3"
        ],
        [
         "1996",
         "2"
        ],
        [
         "1973",
         "2"
        ],
        [
         "1987",
         "2"
        ],
        [
         "1972",
         "2"
        ],
        [
         "1969",
         "2"
        ],
        [
         "1979",
         "2"
        ],
        [
         "1965",
         "2"
        ]
       ],
       "shape": {
        "columns": 1,
        "rows": 56
       }
      },
      "text/plain": [
       "Year added\n",
       "2017    23\n",
       "2016    23\n",
       "2019    22\n",
       "2008    17\n",
       "2024    16\n",
       "2022    16\n",
       "2021    15\n",
       "2023    15\n",
       "2018    14\n",
       "2015    14\n",
       "1997    14\n",
       "2012    14\n",
       "2002    13\n",
       "2007    12\n",
       "2020    12\n",
       "2009    12\n",
       "1976    11\n",
       "1998    11\n",
       "2006    10\n",
       "2011    10\n",
       "2013    10\n",
       "2010     9\n",
       "1999     9\n",
       "2000     9\n",
       "2001     8\n",
       "2014     8\n",
       "1985     7\n",
       "1994     7\n",
       "1995     7\n",
       "2005     7\n",
       "2004     6\n",
       "1989     5\n",
       "2025     5\n",
       "1982     5\n",
       "2003     5\n",
       "1984     5\n",
       "1988     4\n",
       "1993     3\n",
       "1980     3\n",
       "1992     3\n",
       "1986     3\n",
       "1983     3\n",
       "1981     3\n",
       "1996     2\n",
       "1973     2\n",
       "1987     2\n",
       "1972     2\n",
       "1969     2\n",
       "1979     2\n",
       "1965     2\n",
       "1975     2\n",
       "1970     2\n",
       "1991     1\n",
       "1974     1\n",
       "1964     1\n",
       "1978     1\n",
       "Name: count, dtype: int64"
      ]
     },
     "execution_count": 13,
     "metadata": {},
     "output_type": "execute_result"
    }
   ],
   "source": [
    "\n",
    "# Exclude 1957 (index founding year)\n",
    "stocks_per_year = sp500_df[sp500_df['Year added'] != 1957]['Year added'].value_counts()\n",
    "stocks_per_year\n"
   ]
  },
  {
   "cell_type": "code",
   "execution_count": 14,
   "id": "c0412a2d",
   "metadata": {},
   "outputs": [
    {
     "data": {
      "text/plain": [
       "np.int32(2017)"
      ]
     },
     "execution_count": 14,
     "metadata": {},
     "output_type": "execute_result"
    }
   ],
   "source": [
    "\n",
    "highest_year = stocks_per_year.idxmax()\n",
    "highest_year"
   ]
  },
  {
   "cell_type": "code",
   "execution_count": 15,
   "id": "a750eea1",
   "metadata": {},
   "outputs": [
    {
     "name": "stdout",
     "output_type": "stream",
     "text": [
      "Year with highest number of additions: 2017\n",
      "Stocks in the index >20 years: 226\n"
     ]
    }
   ],
   "source": [
    "\n",
    "# Calculate number of stocks added more than 20 years ago\n",
    "current_year = pd.Timestamp.now().year\n",
    "stocks_20_years = sp500_df[sp500_df['Year added'] <= (current_year - 20)].shape[0]\n",
    "\n",
    "print(\"Year with highest number of additions:\", highest_year)\n",
    "print(\"Stocks in the index >20 years:\", stocks_20_years)\n"
   ]
  },
  {
   "cell_type": "code",
   "execution_count": null,
   "id": "89922221",
   "metadata": {},
   "outputs": [],
   "source": [
    "# No 2"
   ]
  },
  {
   "cell_type": "markdown",
   "id": "494d8dd8",
   "metadata": {},
   "source": [
    "import yfinance as yf\n",
    "import pandas as pd\n",
    "\n",
    "# Index symbols\n",
    "\n",
    "indices = {\n",
    "'United States (S&P 500)': '^GSPC',\n",
    "'China (Shanghai Composite)': '000001.SS',\n",
    "'Hong Kong (Hang Seng)': '^HSI',\n",
    "'Australia (S&P/ASX 200)': '^AXJO',\n",
    "'India (Nifty 50)': '^NSEI',\n",
    "'Canada (S&P/TSX)': '^GSPTSE',\n",
    "'Germany (DAX)': '^GDAXI',\n",
    "'United Kingdom (FTSE 100)': '^FTSE',\n",
    "'Japan (Nikkei 225)': '^N225',\n",
    "'Mexico (IPC Mexico)': '^MXX',\n",
    "'Brazil (Ibovespa)': '^BVSP'\n",
    "}\n",
    "\n",
    "# Date range\n",
    "\n",
    "start_date = '2025-01-01'\n",
    "end_date = '2025-05-01'\n",
    "\n",
    "# Download data\n",
    "\n",
    "data = yf.download(list(indices.values()), start=start_date, end=end_date)['Adj Close']\n",
    "\n",
    "# Calculate YTD returns\n",
    "\n",
    "ytd_returns = (data.iloc[-1] / data.iloc[0] - 1) \\* 100\n",
    "\n",
    "# Create DataFrame with results\n",
    "\n",
    "results = pd.DataFrame({\n",
    "'Index': indices.keys(),\n",
    "'Symbol': indices.values(),\n",
    "'YTD Return (%)': ytd_returns.values\n",
    "})\n",
    "\n",
    "# Rank by YTD return\n",
    "\n",
    "results = results.sort_values(by='YTD Return (%)', ascending=False)\n",
    "\n",
    "# Check how many outperform the US (S&P 500)\n",
    "\n",
    "us_return = results.loc[results['Symbol'] == '^GSPC', 'YTD Return (%)'].values[0]\n",
    "outperform_us = results[results['YTD Return (%)'] > us_return].shape[0]\n",
    "\n",
    "print(results)\n",
    "print(\"\\nNumber of indices outperforming the US (S&P 500):\", outperform_us)\n"
   ]
  }
 ],
 "metadata": {
  "kernelspec": {
   "display_name": "jupysql",
   "language": "python",
   "name": "python3"
  },
  "language_info": {
   "codemirror_mode": {
    "name": "ipython",
    "version": 3
   },
   "file_extension": ".py",
   "mimetype": "text/x-python",
   "name": "python",
   "nbconvert_exporter": "python",
   "pygments_lexer": "ipython3",
   "version": "3.13.3"
  }
 },
 "nbformat": 4,
 "nbformat_minor": 5
}
